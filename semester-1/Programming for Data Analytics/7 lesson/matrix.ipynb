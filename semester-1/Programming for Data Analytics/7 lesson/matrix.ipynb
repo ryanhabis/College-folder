{
 "cells": [
  {
   "cell_type": "code",
   "execution_count": 8,
   "id": "716d3428",
   "metadata": {},
   "outputs": [],
   "source": [
    "import numpy as np"
   ]
  },
  {
   "cell_type": "code",
   "execution_count": 9,
   "id": "e87d1852",
   "metadata": {},
   "outputs": [],
   "source": [
    "row_1 = np.array([1, 2, 3.4,5,])\n",
    "row_2 = np.array([4, 5, 6.1,7,])\n",
    "row_3 = np.array([7, 8, 9.2,10,])"
   ]
  },
  {
   "cell_type": "code",
   "execution_count": 11,
   "id": "27bfe3fd",
   "metadata": {},
   "outputs": [
    {
     "name": "stdout",
     "output_type": "stream",
     "text": [
      "[[ 1.   2.   3.4  5. ]\n",
      " [ 4.   5.   6.1  7. ]\n",
      " [ 7.   8.   9.2 10. ]]\n"
     ]
    }
   ],
   "source": [
    "matrix = np.vstack((row_1, row_2, row_3))\n",
    "print(matrix)"
   ]
  },
  {
   "cell_type": "code",
   "execution_count": 13,
   "id": "e46c953a",
   "metadata": {},
   "outputs": [
    {
     "name": "stdout",
     "output_type": "stream",
     "text": [
      "[[ 1.   4.   7. ]\n",
      " [ 2.   5.   8. ]\n",
      " [ 3.4  6.1  9.2]\n",
      " [ 5.   7.  10. ]]\n"
     ]
    }
   ],
   "source": [
    "matrix = np.hstack((row_1.reshape(4,1), row_2.reshape(4,1), row_3.reshape(4,1)))\n",
    "print(matrix)"
   ]
  },
  {
   "cell_type": "code",
   "execution_count": 18,
   "id": "332307c6",
   "metadata": {},
   "outputs": [
    {
     "name": "stdout",
     "output_type": "stream",
     "text": [
      "This is the shape: (4, 3)\n",
      "[1. 4. 7.]\n"
     ]
    }
   ],
   "source": [
    "print(f\"This is the shape: {matrix.shape}\")\n",
    "\n",
    "print(matrix[0, ::])"
   ]
  }
 ],
 "metadata": {
  "kernelspec": {
   "display_name": "Python 3",
   "language": "python",
   "name": "python3"
  },
  "language_info": {
   "codemirror_mode": {
    "name": "ipython",
    "version": 3
   },
   "file_extension": ".py",
   "mimetype": "text/x-python",
   "name": "python",
   "nbconvert_exporter": "python",
   "pygments_lexer": "ipython3",
   "version": "3.10.12"
  }
 },
 "nbformat": 4,
 "nbformat_minor": 5
}
