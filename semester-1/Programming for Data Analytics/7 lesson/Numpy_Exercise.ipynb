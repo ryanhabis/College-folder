{
 "cells": [
  {
   "cell_type": "markdown",
   "id": "a61625ce",
   "metadata": {},
   "source": [
    "### Numpy exercise\n",
    "\n",
    "1. Import the numpy package as np."
   ]
  },
  {
   "cell_type": "code",
   "execution_count": 28,
   "id": "3ff62b06",
   "metadata": {},
   "outputs": [],
   "source": [
    "import numpy as np"
   ]
  },
  {
   "cell_type": "markdown",
   "id": "00a7d1e6",
   "metadata": {},
   "source": [
    "2. Create a numpy array with the first 10 values of the Fibonacci sequence. Then reverse the order of this array."
   ]
  },
  {
   "cell_type": "code",
   "execution_count": 29,
   "id": "9ed58a14",
   "metadata": {},
   "outputs": [
    {
     "name": "stdout",
     "output_type": "stream",
     "text": [
      "Reversed Fibonacci array: [55 34 21 13  8  5  3  2  1  1]\n"
     ]
    }
   ],
   "source": [
    "# Create a numpy array with the first 10 Fibonacci numbers\n",
    "fibonacci_array = np.array([1, 1, 2, 3, 5, 8, 13, 21, 34, 55])  # Fibonacci sequence\n",
    "\n",
    "# Reverse the order of the array using slicing\n",
    "reversed_fibonacci = fibonacci_array[::-1]\n",
    "\n",
    "# Display the reversed array\n",
    "print(\"Reversed Fibonacci array:\", reversed_fibonacci)"
   ]
  },
  {
   "cell_type": "markdown",
   "id": "b3136f46",
   "metadata": {},
   "source": [
    "3. Create another array with 10 random integers between 1 and 40."
   ]
  },
  {
   "cell_type": "code",
   "execution_count": 30,
   "id": "55c32979",
   "metadata": {},
   "outputs": [
    {
     "name": "stdout",
     "output_type": "stream",
     "text": [
      "[7, 17, 27, 22, 27, 1, 31, 40, 9, 29]\n"
     ]
    }
   ],
   "source": [
    "import random\n",
    "random_array = [random.randint(1, 40) for _ in range(10)]\n",
    "print(random_array)\n",
    "# Example output: [15, 32, 7, 24, 39, 12, 28, 3, 36, 19]"
   ]
  },
  {
   "cell_type": "markdown",
   "id": "ba3973c4",
   "metadata": {},
   "source": [
    "4. Find the sum of the random array."
   ]
  },
  {
   "cell_type": "code",
   "execution_count": 31,
   "id": "93868c9f",
   "metadata": {},
   "outputs": [
    {
     "name": "stdout",
     "output_type": "stream",
     "text": [
      "210\n"
     ]
    }
   ],
   "source": [
    "ans = sum(random_array)\n",
    "print (ans)"
   ]
  },
  {
   "cell_type": "markdown",
   "id": "f5663be0",
   "metadata": {},
   "source": [
    "5. Add the array of 10 random integers to the reversed array of the Fibonacci sequence element wise."
   ]
  },
  {
   "cell_type": "code",
   "execution_count": 32,
   "id": "d199220f",
   "metadata": {},
   "outputs": [
    {
     "name": "stdout",
     "output_type": "stream",
     "text": [
      "[62 51 48 35 35  6 34 42 10 30]\n"
     ]
    }
   ],
   "source": [
    "new_array = random_array + reversed_fibonacci\n",
    "print(new_array)"
   ]
  },
  {
   "cell_type": "markdown",
   "id": "6d176ac6",
   "metadata": {},
   "source": [
    "6. Create a 2D array that is a 3x3 matrix."
   ]
  },
  {
   "cell_type": "code",
   "execution_count": 33,
   "id": "aa06a7b4",
   "metadata": {},
   "outputs": [
    {
     "name": "stdout",
     "output_type": "stream",
     "text": [
      "[[1 2 3]\n",
      " [4 5 6]\n",
      " [7 8 9]]\n",
      "(3, 3)\n"
     ]
    }
   ],
   "source": [
    "array_2D = np.array([[1, 2, 3], [4, 5, 6], [7, 8, 9]])\n",
    "print(array_2D)\n",
    "print(array_2D.shape)"
   ]
  },
  {
   "cell_type": "markdown",
   "id": "6e2fdf9f",
   "metadata": {},
   "source": [
    "7. Pick out the first value in the second row. Change its value to be 2 more than the old value."
   ]
  },
  {
   "cell_type": "code",
   "execution_count": 34,
   "id": "e89dc8da",
   "metadata": {},
   "outputs": [
    {
     "name": "stdout",
     "output_type": "stream",
     "text": [
      "Original array:\n",
      "[10, 20, 30, 40]\n",
      "[15, 25, 35, 45]\n",
      "[12, 22, 32, 42]\n",
      "\n",
      "After modification:\n",
      "[10, 20, 30, 40]\n",
      "[17, 25, 35, 45]\n",
      "[12, 22, 32, 42]\n",
      "\n",
      "Old value: 15\n",
      "New value: 17\n"
     ]
    }
   ],
   "source": [
    "# Create a 2D array (3 rows, 4 columns)\n",
    "array_2d = [\n",
    "    [10, 20, 30, 40],\n",
    "    [15, 25, 35, 45],  # Second row\n",
    "    [12, 22, 32, 42]\n",
    "]\n",
    "\n",
    "print(\"Original array:\")\n",
    "for row in array_2d:\n",
    "    print(row)\n",
    "\n",
    "# Pick out the first value in the second row and increase it by 2\n",
    "old_value = array_2d[1][0]  # Row 1 (second row), Column 0 (first value)\n",
    "array_2d[1][0] = old_value + 2\n",
    "\n",
    "print(\"\\nAfter modification:\")\n",
    "for row in array_2d:\n",
    "    print(row)\n",
    "\n",
    "print(f\"\\nOld value: {old_value}\")\n",
    "print(f\"New value: {array_2d[1][0]}\")"
   ]
  },
  {
   "cell_type": "markdown",
   "id": "f5053040",
   "metadata": {},
   "source": [
    "8. Pick out the first and third columns of the 3x3 matrix."
   ]
  },
  {
   "cell_type": "code",
   "execution_count": 35,
   "id": "1ab40757",
   "metadata": {},
   "outputs": [
    {
     "name": "stdout",
     "output_type": "stream",
     "text": [
      "Original 3x3 matrix:\n",
      "[[1 2 3]\n",
      " [4 5 6]\n",
      " [7 8 9]]\n",
      "\n",
      "8. First and third columns:\n",
      "[[1 3]\n",
      " [4 6]\n",
      " [7 9]]\n"
     ]
    }
   ],
   "source": [
    "import numpy as np\n",
    "\n",
    "# First, let's create a sample 3x3 matrix\n",
    "matrix = np.array([\n",
    "    [1, 2, 3],\n",
    "    [4, 5, 6],\n",
    "    [7, 8, 9]\n",
    "])\n",
    "print(\"Original 3x3 matrix:\")\n",
    "print(matrix)\n",
    "\n",
    "# 8. Pick out the first and third columns\n",
    "first_third_columns = matrix[:, [0, 2]]\n",
    "print(\"\\n8. First and third columns:\")\n",
    "print(first_third_columns)"
   ]
  },
  {
   "cell_type": "markdown",
   "id": "c7ddbb6c",
   "metadata": {},
   "source": [
    "9. Use np.hstack to add another column to the array."
   ]
  },
  {
   "cell_type": "code",
   "execution_count": 36,
   "id": "54321fff",
   "metadata": {},
   "outputs": [
    {
     "name": "stdout",
     "output_type": "stream",
     "text": [
      "\n",
      "9. Matrix with new column added:\n",
      "[[ 1  2  3 10]\n",
      " [ 4  5  6 11]\n",
      " [ 7  8  9 12]]\n"
     ]
    }
   ],
   "source": [
    "# 9. Use np.hstack to add another column\n",
    "new_column = np.array([[10], [11], [12]])  # New column to add\n",
    "matrix_with_new_col = np.hstack([matrix, new_column])\n",
    "print(\"\\n9. Matrix with new column added:\")\n",
    "print(matrix_with_new_col)"
   ]
  },
  {
   "cell_type": "markdown",
   "id": "8ba5681c",
   "metadata": {},
   "source": [
    "10. Find the sum of each column in the array."
   ]
  },
  {
   "cell_type": "code",
   "execution_count": 37,
   "id": "b3ba0209",
   "metadata": {},
   "outputs": [
    {
     "name": "stdout",
     "output_type": "stream",
     "text": [
      "\n",
      "10. Sum of each column:\n",
      "[12 15 18 33]\n"
     ]
    }
   ],
   "source": [
    "# 10. Find the sum of each column\n",
    "column_sums = np.sum(matrix_with_new_col, axis=0)\n",
    "print(\"\\n10. Sum of each column:\")\n",
    "print(column_sums)"
   ]
  },
  {
   "cell_type": "markdown",
   "id": "c1cd41d4",
   "metadata": {},
   "source": [
    "11. Multiply row 2 in the array by row 4 element wise."
   ]
  },
  {
   "cell_type": "code",
   "execution_count": 38,
   "id": "1736a4c3",
   "metadata": {},
   "outputs": [
    {
     "name": "stdout",
     "output_type": "stream",
     "text": [
      "\n",
      "New 4x4 array:\n",
      "[[ 1  2  3  4]\n",
      " [ 5  6  7  8]\n",
      " [ 9 10 11 12]\n",
      " [13 14 15 16]]\n",
      "\n",
      "11. Row 2 multiplied by row 4 (element-wise):\n",
      "[ 65  84 105 128]\n"
     ]
    }
   ],
   "source": [
    "# For questions 11-14, let's create a larger 4x4 array\n",
    "array_4x4 = np.array([\n",
    "    [1, 2, 3, 4],\n",
    "    [5, 6, 7, 8],\n",
    "    [9, 10, 11, 12],\n",
    "    [13, 14, 15, 16]\n",
    "])\n",
    "print(\"\\nNew 4x4 array:\")\n",
    "print(array_4x4)\n",
    "\n",
    "# 11. Multiply row 2 by row 4 element-wise\n",
    "# Note: indices start at 0, so row 2 is index 1, row 4 is index 3\n",
    "row2_times_row4 = array_4x4[1] * array_4x4[3]\n",
    "print(\"\\n11. Row 2 multiplied by row 4 (element-wise):\")\n",
    "print(row2_times_row4)"
   ]
  },
  {
   "cell_type": "markdown",
   "id": "785b4e70",
   "metadata": {},
   "source": [
    "12. Reverse the order of the rows in the array"
   ]
  },
  {
   "cell_type": "code",
   "execution_count": 39,
   "id": "5791651b",
   "metadata": {},
   "outputs": [
    {
     "name": "stdout",
     "output_type": "stream",
     "text": [
      "\n",
      "12. Array with reversed row order:\n",
      "[[13 14 15 16]\n",
      " [ 9 10 11 12]\n",
      " [ 5  6  7  8]\n",
      " [ 1  2  3  4]]\n"
     ]
    }
   ],
   "source": [
    "# 12. Reverse the order of the rows\n",
    "reversed_rows = array_4x4[::-1]\n",
    "print(\"\\n12. Array with reversed row order:\")\n",
    "print(reversed_rows)"
   ]
  },
  {
   "cell_type": "markdown",
   "id": "b62ce9c1",
   "metadata": {},
   "source": [
    "13. Create a copy of your array."
   ]
  },
  {
   "cell_type": "code",
   "execution_count": 40,
   "id": "aefca541",
   "metadata": {},
   "outputs": [
    {
     "name": "stdout",
     "output_type": "stream",
     "text": [
      "\n",
      "13. Copy of the array:\n",
      "[[ 1  2  3  4]\n",
      " [ 5  6  7  8]\n",
      " [ 9 10 11 12]\n",
      " [13 14 15 16]]\n"
     ]
    }
   ],
   "source": [
    "# 13. Create a copy of the array\n",
    "array_copy = array_4x4.copy()\n",
    "print(\"\\n13. Copy of the array:\")\n",
    "print(array_copy)"
   ]
  },
  {
   "cell_type": "markdown",
   "id": "6a15e64b",
   "metadata": {},
   "source": [
    "14. Convert your Numpy array to a list."
   ]
  },
  {
   "cell_type": "code",
   "execution_count": 41,
   "id": "e98e179b",
   "metadata": {},
   "outputs": [
    {
     "name": "stdout",
     "output_type": "stream",
     "text": [
      "\n",
      "14. Array converted to list:\n",
      "[[1, 2, 3, 4], [5, 6, 7, 8], [9, 10, 11, 12], [13, 14, 15, 16]]\n",
      "Type: <class 'list'>\n"
     ]
    }
   ],
   "source": [
    "# 14. Convert NumPy array to a list\n",
    "array_as_list = array_4x4.tolist()\n",
    "print(\"\\n14. Array converted to list:\")\n",
    "print(array_as_list)\n",
    "print(f\"Type: {type(array_as_list)}\")"
   ]
  }
 ],
 "metadata": {
  "kernelspec": {
   "display_name": "Python 3",
   "language": "python",
   "name": "python3"
  },
  "language_info": {
   "codemirror_mode": {
    "name": "ipython",
    "version": 3
   },
   "file_extension": ".py",
   "mimetype": "text/x-python",
   "name": "python",
   "nbconvert_exporter": "python",
   "pygments_lexer": "ipython3",
   "version": "3.10.12"
  }
 },
 "nbformat": 4,
 "nbformat_minor": 5
}
