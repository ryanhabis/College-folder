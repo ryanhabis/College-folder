{
 "cells": [
  {
   "cell_type": "markdown",
   "id": "391cd613",
   "metadata": {},
   "source": [
    "1 Dates, times and datetimes in Python\n",
    "\n",
    "1.1 Dates in Python\n",
    "\n",
    "• Dates and times contain so much information!\n",
    "\n",
    "• Python dates should be in the form YYYY-MM-DD, and they should be a datetime object\n",
    "so that Python recognises them as dates.\n",
    "\n",
    "• For example, 2024-02-21 is the correct format for today’s date.\n",
    "\n",
    "• In Pandas, we use the function pd.to_datetime to convert a date into the correct format.\n",
    "\n",
    "• There is a datetime package in Python dedicated to dealing with datetime objects. It has\n",
    "lots of useful features!"
   ]
  },
  {
   "cell_type": "code",
   "execution_count": 46,
   "id": "96452044",
   "metadata": {},
   "outputs": [
    {
     "name": "stdout",
     "output_type": "stream",
     "text": [
      "2024-02-21\n",
      "2025-10-09\n"
     ]
    }
   ],
   "source": [
    "from datetime import date\n",
    "\n",
    "date_today = date(2024,2,21)\n",
    "print(date_today)\n",
    "\n",
    "date_today = date.today()\n",
    "print(date_today)"
   ]
  },
  {
   "cell_type": "code",
   "execution_count": 47,
   "id": "000d63f4",
   "metadata": {},
   "outputs": [
    {
     "name": "stdout",
     "output_type": "stream",
     "text": [
      "<class 'datetime.date'>\n"
     ]
    }
   ],
   "source": [
    "print(type(date_today))"
   ]
  },
  {
   "cell_type": "code",
   "execution_count": 48,
   "id": "7c907f06",
   "metadata": {},
   "outputs": [
    {
     "data": {
      "text/plain": [
       "datetime.date(2025, 10, 9)"
      ]
     },
     "execution_count": 48,
     "metadata": {},
     "output_type": "execute_result"
    }
   ],
   "source": [
    "date_today"
   ]
  },
  {
   "cell_type": "code",
   "execution_count": 49,
   "id": "eadb31ac",
   "metadata": {},
   "outputs": [
    {
     "name": "stdout",
     "output_type": "stream",
     "text": [
      "The Date: \n",
      "Today 9\n",
      "Month 10\n",
      "Year 2025\n"
     ]
    }
   ],
   "source": [
    "\n",
    "print(\"The Date: \")\n",
    "\n",
    "print(\"Today\", date_today.day)\n",
    "print(\"Month\",date_today.month)\n",
    "print(\"Year\",date_today.year)"
   ]
  },
  {
   "cell_type": "markdown",
   "id": "8de4670e",
   "metadata": {},
   "source": [
    "1.3 Times in datetime\n",
    "\n",
    "Time is in the format hour, minute, seconds, \n",
    "microseconds.\n",
    "\n",
    "(1 microsecond = 1*10^(-6) seconds)"
   ]
  },
  {
   "cell_type": "code",
   "execution_count": 50,
   "id": "6c80eb75",
   "metadata": {},
   "outputs": [
    {
     "name": "stdout",
     "output_type": "stream",
     "text": [
      "14:00:22.000010\n"
     ]
    }
   ],
   "source": [
    "from datetime import time\n",
    "time1 = time(14,0,22,10)\n",
    "print(time1)"
   ]
  },
  {
   "cell_type": "code",
   "execution_count": 51,
   "id": "7eed1a6b",
   "metadata": {},
   "outputs": [
    {
     "name": "stdout",
     "output_type": "stream",
     "text": [
      "<class 'datetime.time'>\n"
     ]
    }
   ],
   "source": [
    "print(type(time1))"
   ]
  },
  {
   "cell_type": "code",
   "execution_count": 52,
   "id": "6397b0ee",
   "metadata": {},
   "outputs": [
    {
     "name": "stdout",
     "output_type": "stream",
     "text": [
      "14\n"
     ]
    }
   ],
   "source": [
    "print(time1.hour)"
   ]
  },
  {
   "cell_type": "code",
   "execution_count": 53,
   "id": "72cf5f2a",
   "metadata": {},
   "outputs": [
    {
     "name": "stdout",
     "output_type": "stream",
     "text": [
      "0\n"
     ]
    }
   ],
   "source": [
    "print(time1.minute)"
   ]
  },
  {
   "cell_type": "code",
   "execution_count": 54,
   "id": "b55062b9",
   "metadata": {},
   "outputs": [
    {
     "name": "stdout",
     "output_type": "stream",
     "text": [
      "22\n"
     ]
    }
   ],
   "source": [
    "print(time1.second)"
   ]
  },
  {
   "cell_type": "code",
   "execution_count": 55,
   "id": "60d355e5",
   "metadata": {},
   "outputs": [
    {
     "name": "stdout",
     "output_type": "stream",
     "text": [
      "10\n"
     ]
    }
   ],
   "source": [
    "print(time1.microsecond)"
   ]
  },
  {
   "cell_type": "markdown",
   "id": "a199c218",
   "metadata": {},
   "source": [
    "1.4 Datetimes in datetime"
   ]
  },
  {
   "cell_type": "code",
   "execution_count": 56,
   "id": "12b6767e",
   "metadata": {},
   "outputs": [
    {
     "data": {
      "text/plain": [
       "datetime.datetime(2024, 2, 21, 19, 30, 5, 10)"
      ]
     },
     "execution_count": 56,
     "metadata": {},
     "output_type": "execute_result"
    }
   ],
   "source": [
    "from datetime import datetime\n",
    "datetime1 = datetime(2024,2,21,19,30,5,10)\n",
    "datetime1"
   ]
  },
  {
   "cell_type": "code",
   "execution_count": 57,
   "id": "4221d079",
   "metadata": {},
   "outputs": [
    {
     "name": "stdout",
     "output_type": "stream",
     "text": [
      "2024-02-21 19:30:05.000010\n"
     ]
    }
   ],
   "source": [
    "print(datetime1)"
   ]
  },
  {
   "cell_type": "code",
   "execution_count": 58,
   "id": "1545ff14",
   "metadata": {},
   "outputs": [
    {
     "name": "stdout",
     "output_type": "stream",
     "text": [
      "<class 'datetime.datetime'>\n"
     ]
    }
   ],
   "source": [
    "print(type(datetime1))"
   ]
  },
  {
   "cell_type": "code",
   "execution_count": 59,
   "id": "5fa43478",
   "metadata": {},
   "outputs": [
    {
     "name": "stdout",
     "output_type": "stream",
     "text": [
      "2024-02-21\n"
     ]
    }
   ],
   "source": [
    "print(datetime1.date())"
   ]
  },
  {
   "cell_type": "code",
   "execution_count": 60,
   "id": "130301ea",
   "metadata": {},
   "outputs": [
    {
     "name": "stdout",
     "output_type": "stream",
     "text": [
      "19:30:05.000010\n"
     ]
    }
   ],
   "source": [
    "print(datetime1.time())"
   ]
  },
  {
   "cell_type": "code",
   "execution_count": 61,
   "id": "d410ce29",
   "metadata": {},
   "outputs": [
    {
     "name": "stdout",
     "output_type": "stream",
     "text": [
      "2024-02-11 15:30:05.000010\n"
     ]
    }
   ],
   "source": [
    "print(datetime1.replace(day=11, hour=15))"
   ]
  },
  {
   "cell_type": "markdown",
   "id": "e018ee45",
   "metadata": {},
   "source": [
    "1.6 Changing format of datetime objects\n",
    "\n",
    "• strptime() creates a DateTime object from a string representing date and time.\n",
    "\n",
    "• It takes two arguments: the date and the format in which your date is present.\n",
    "\n",
    "• Formatting code link: https://docs.python.org/3/library/datetime.html#strftime-andstrptime-format-codes"
   ]
  },
  {
   "cell_type": "code",
   "execution_count": 65,
   "id": "4626d679",
   "metadata": {},
   "outputs": [
    {
     "name": "stdout",
     "output_type": "stream",
     "text": [
      "2024-02-21 19:30:00\n"
     ]
    }
   ],
   "source": [
    "date = '21 February, 2024 19:30:00'\n",
    "python_date = datetime.strptime(date,'%d %B, %Y %H:%M:%S')\n",
    "print(python_date)"
   ]
  },
  {
   "cell_type": "markdown",
   "id": "dd4135bd",
   "metadata": {},
   "source": [
    "The formate must be exact."
   ]
  },
  {
   "cell_type": "code",
   "execution_count": 79,
   "id": "6cbba4de",
   "metadata": {},
   "outputs": [
    {
     "name": "stdout",
     "output_type": "stream",
     "text": [
      "2024-09-09 19:30:00\n"
     ]
    }
   ],
   "source": [
    "date2 = '9, September 2024 19:30:00'\n",
    "python_date = datetime.strptime(date2, '%d, %B %Y %H:%M:%S')\n",
    "print(python_date)"
   ]
  },
  {
   "cell_type": "markdown",
   "id": "e7ac4ce4",
   "metadata": {},
   "source": [
    "Use strftime() to format the date into a string representing date and time."
   ]
  },
  {
   "cell_type": "code",
   "execution_count": null,
   "id": "7230b427",
   "metadata": {},
   "outputs": [
    {
     "name": "stdout",
     "output_type": "stream",
     "text": [
      "21/02/2024 19:30\n"
     ]
    }
   ],
   "source": [
    "formatted_date = python_date.strftime('%d/%m/%Y %H:%M')\n",
    "print(formatted_date)"
   ]
  },
  {
   "cell_type": "markdown",
   "id": "47dac606",
   "metadata": {},
   "source": [
    "Can use strftime() to extract information from the datetime object and print it to the console:"
   ]
  },
  {
   "cell_type": "code",
   "execution_count": null,
   "id": "ffb82fe8",
   "metadata": {},
   "outputs": [
    {
     "name": "stdout",
     "output_type": "stream",
     "text": [
      "Weekday : Wednesday\n",
      "Month : February\n",
      "Week number : 08\n",
      "Locale's date and time representation : Wed Feb 21 19:30:00 2024\n"
     ]
    }
   ],
   "source": [
    "print('Weekday :', python_date.strftime('%A'))\n",
    "print('Month :', python_date.strftime('%B'))\n",
    "print('Week number :', python_date.strftime('%W'))\n",
    "print(\"Locale's date and time representation :\", python_date.strftime('%c'))"
   ]
  },
  {
   "cell_type": "markdown",
   "id": "9cf7ce6d",
   "metadata": {},
   "source": [
    "### Dates in pandas"
   ]
  },
  {
   "cell_type": "code",
   "execution_count": null,
   "id": "1a2dba44",
   "metadata": {},
   "outputs": [
    {
     "name": "stdout",
     "output_type": "stream",
     "text": [
      "2024-02-21 00:00:00\n"
     ]
    }
   ],
   "source": [
    "import pandas as pd\n",
    "date_pandas = pd.to_datetime('21/02/2024', format = '%d/%m/%Y')\n",
    "print(date_pandas)"
   ]
  },
  {
   "cell_type": "code",
   "execution_count": null,
   "id": "a2f37b37",
   "metadata": {},
   "outputs": [
    {
     "data": {
      "text/plain": [
       "Timestamp('2024-02-21 00:00:00')"
      ]
     },
     "execution_count": 38,
     "metadata": {},
     "output_type": "execute_result"
    }
   ],
   "source": [
    "date_pandas"
   ]
  },
  {
   "cell_type": "code",
   "execution_count": null,
   "id": "cf6201c0",
   "metadata": {},
   "outputs": [
    {
     "data": {
      "text/plain": [
       "pandas._libs.tslibs.timestamps.Timestamp"
      ]
     },
     "execution_count": 39,
     "metadata": {},
     "output_type": "execute_result"
    }
   ],
   "source": [
    "type(date_pandas)"
   ]
  },
  {
   "cell_type": "markdown",
   "id": "174800d6",
   "metadata": {},
   "source": [
    "Timestamp is the Pandas equivalent of Python’s datetime.\n",
    "\n",
    "2.2 Formatting date code link\n",
    "\n",
    "https://docs.python.org/3/library/datetime.html#strftime-and-strptime-format-codes\n",
    "\n",
    "This contains details on all of the codes for specifying date formats in Python.\n",
    "\n",
    "pd.to_datetime often works without specifying the format, but it is safest to specify the format."
   ]
  },
  {
   "cell_type": "code",
   "execution_count": null,
   "id": "c294cedb",
   "metadata": {},
   "outputs": [
    {
     "name": "stdout",
     "output_type": "stream",
     "text": [
      "2024-02-21 00:00:00\n"
     ]
    }
   ],
   "source": [
    "date = pd.to_datetime(\"21st of feb, 2024\")\n",
    "print(date)"
   ]
  },
  {
   "cell_type": "code",
   "execution_count": null,
   "id": "40aad190",
   "metadata": {},
   "outputs": [
    {
     "name": "stdout",
     "output_type": "stream",
     "text": [
      "2023-02-21 00:00:00\n"
     ]
    }
   ],
   "source": [
    "date = pd.to_datetime(\"21 Feb 2023\")\n",
    "print(date)"
   ]
  },
  {
   "cell_type": "markdown",
   "id": "fcf6a1c9",
   "metadata": {},
   "source": [
    "What is the problem below?"
   ]
  },
  {
   "cell_type": "code",
   "execution_count": null,
   "id": "a83a8521",
   "metadata": {},
   "outputs": [
    {
     "name": "stdout",
     "output_type": "stream",
     "text": [
      "2023-11-10 00:00:00\n"
     ]
    }
   ],
   "source": [
    "date = pd.to_datetime(\"11/10/2023\")\n",
    "print(date)"
   ]
  },
  {
   "cell_type": "code",
   "execution_count": null,
   "id": "945cc9bf",
   "metadata": {},
   "outputs": [
    {
     "name": "stdout",
     "output_type": "stream",
     "text": [
      "2023-10-11 00:00:00\n"
     ]
    }
   ],
   "source": [
    "print(pd.to_datetime('11/10/2023', format = '%d/%m/%Y'))"
   ]
  },
  {
   "cell_type": "markdown",
   "id": "af1e9889",
   "metadata": {},
   "source": [
    "## pd.to_timedelta\n",
    "Use to_timedelta to add or subtract time from a datetime object:"
   ]
  },
  {
   "cell_type": "code",
   "execution_count": null,
   "id": "c769b103",
   "metadata": {},
   "outputs": [
    {
     "name": "stdout",
     "output_type": "stream",
     "text": [
      "2024-02-22 00:00:00\n"
     ]
    }
   ],
   "source": [
    "# Date after 1 day\n",
    "print(date_pandas + pd.to_timedelta(1,unit='D'))"
   ]
  },
  {
   "cell_type": "code",
   "execution_count": 80,
   "id": "1818ceeb",
   "metadata": {},
   "outputs": [
    {
     "name": "stdout",
     "output_type": "stream",
     "text": [
      "2024-02-21 12:00:00\n"
     ]
    }
   ],
   "source": [
    "# Date after 12 hours\n",
    "print(date_pandas + pd.to_timedelta(12,unit='h'))"
   ]
  },
  {
   "cell_type": "code",
   "execution_count": 81,
   "id": "1b126bb3",
   "metadata": {},
   "outputs": [
    {
     "name": "stdout",
     "output_type": "stream",
     "text": [
      "2024-04-03 00:00:00\n"
     ]
    }
   ],
   "source": [
    "# Date after 6 weeks\n",
    "print(date_pandas + pd.to_timedelta(6,unit='W'))"
   ]
  },
  {
   "cell_type": "markdown",
   "id": "87f62c77",
   "metadata": {},
   "source": [
    "## 2.3 pd.date_range\n",
    "\n",
    "date_range gives all dates in the specified range eg. pd.date_range(start=‘2020-11-10’, end=‘2020-12-25’, freq=‘D’) \n",
    "\n",
    "gives every date between start and end inclusive:"
   ]
  },
  {
   "cell_type": "code",
   "execution_count": 82,
   "id": "dcf3b595",
   "metadata": {},
   "outputs": [
    {
     "data": {
      "text/plain": [
       "DatetimeIndex(['2020-11-10', '2020-11-11', '2020-11-12', '2020-11-13',\n",
       "               '2020-11-14', '2020-11-15', '2020-11-16', '2020-11-17',\n",
       "               '2020-11-18', '2020-11-19', '2020-11-20', '2020-11-21',\n",
       "               '2020-11-22', '2020-11-23', '2020-11-24', '2020-11-25',\n",
       "               '2020-11-26', '2020-11-27', '2020-11-28', '2020-11-29',\n",
       "               '2020-11-30', '2020-12-01', '2020-12-02', '2020-12-03',\n",
       "               '2020-12-04', '2020-12-05', '2020-12-06', '2020-12-07',\n",
       "               '2020-12-08', '2020-12-09', '2020-12-10', '2020-12-11',\n",
       "               '2020-12-12', '2020-12-13', '2020-12-14', '2020-12-15',\n",
       "               '2020-12-16', '2020-12-17', '2020-12-18', '2020-12-19',\n",
       "               '2020-12-20', '2020-12-21', '2020-12-22', '2020-12-23',\n",
       "               '2020-12-24', '2020-12-25'],\n",
       "              dtype='datetime64[ns]', freq='D')"
      ]
     },
     "execution_count": 82,
     "metadata": {},
     "output_type": "execute_result"
    }
   ],
   "source": [
    "pd.date_range(start='2020-11-10', end='2020-12-25', freq='D')"
   ]
  },
  {
   "cell_type": "code",
   "execution_count": null,
   "id": "ade83b95",
   "metadata": {},
   "outputs": [
    {
     "name": "stderr",
     "output_type": "stream",
     "text": [
      "/tmp/ipykernel_10206/391699353.py:1: FutureWarning: 'M' is deprecated and will be removed in a future version, please use 'ME' instead.\n",
      "  pd.date_range(start='2020-11-10', end='2021-12-25', freq='M')\n"
     ]
    },
    {
     "data": {
      "text/plain": [
       "DatetimeIndex(['2020-11-30', '2020-12-31', '2021-01-31', '2021-02-28',\n",
       "               '2021-03-31', '2021-04-30', '2021-05-31', '2021-06-30',\n",
       "               '2021-07-31', '2021-08-31', '2021-09-30', '2021-10-31',\n",
       "               '2021-11-30'],\n",
       "              dtype='datetime64[ns]', freq='ME')"
      ]
     },
     "execution_count": 83,
     "metadata": {},
     "output_type": "execute_result"
    }
   ],
   "source": [
    "\"\"\"/tmp/ipykernel_10206/391699353.py:1: FutureWarning: 'M' is \n",
    "    deprecated and will be removed in a future version, please use 'ME' instead.\n",
    "  pd.date_range(start='2020-11-10', end='2021-12-25', freq='M')\"\"\"\n",
    "\n",
    "pd.date_range(start='2020-11-10', end='2021-12-25', freq='M') \n",
    "# final date of every month between start and end."
   ]
  },
  {
   "cell_type": "code",
   "execution_count": 84,
   "id": "e7fffc98",
   "metadata": {},
   "outputs": [
    {
     "data": {
      "text/plain": [
       "DatetimeIndex(['2020-11-10', '2020-11-11', '2020-11-12', '2020-11-13',\n",
       "               '2020-11-14', '2020-11-15', '2020-11-16', '2020-11-17',\n",
       "               '2020-11-18', '2020-11-19', '2020-11-20', '2020-11-21',\n",
       "               '2020-11-22', '2020-11-23', '2020-11-24', '2020-11-25',\n",
       "               '2020-11-26', '2020-11-27', '2020-11-28', '2020-11-29'],\n",
       "              dtype='datetime64[ns]', freq='D')"
      ]
     },
     "execution_count": 84,
     "metadata": {},
     "output_type": "execute_result"
    }
   ],
   "source": [
    "pd.date_range(start='2020-11-10', periods=20, freq='D') \n",
    "# 20 consecutive dates beginning at start."
   ]
  },
  {
   "cell_type": "code",
   "execution_count": 85,
   "id": "75ef403a",
   "metadata": {},
   "outputs": [
    {
     "name": "stderr",
     "output_type": "stream",
     "text": [
      "/tmp/ipykernel_10206/1509393757.py:2: FutureWarning: 'T' is deprecated and will be removed in a future version, please use 'min' instead.\n",
      "  pd.date_range(start='2020-11-10', periods=20, freq='T')\n"
     ]
    },
    {
     "data": {
      "text/plain": [
       "DatetimeIndex(['2020-11-10 00:00:00', '2020-11-10 00:01:00',\n",
       "               '2020-11-10 00:02:00', '2020-11-10 00:03:00',\n",
       "               '2020-11-10 00:04:00', '2020-11-10 00:05:00',\n",
       "               '2020-11-10 00:06:00', '2020-11-10 00:07:00',\n",
       "               '2020-11-10 00:08:00', '2020-11-10 00:09:00',\n",
       "               '2020-11-10 00:10:00', '2020-11-10 00:11:00',\n",
       "               '2020-11-10 00:12:00', '2020-11-10 00:13:00',\n",
       "               '2020-11-10 00:14:00', '2020-11-10 00:15:00',\n",
       "               '2020-11-10 00:16:00', '2020-11-10 00:17:00',\n",
       "               '2020-11-10 00:18:00', '2020-11-10 00:19:00'],\n",
       "              dtype='datetime64[ns]', freq='min')"
      ]
     },
     "execution_count": 85,
     "metadata": {},
     "output_type": "execute_result"
    }
   ],
   "source": [
    "# 20 consecutive datetimes going up in minutes from start (2020-11-10 00:00:00)\n",
    "pd.date_range(start='2020-11-10', periods=20, freq='T')"
   ]
  },
  {
   "cell_type": "markdown",
   "id": "951eac26",
   "metadata": {},
   "source": [
    "## 2.4 Extracting the elements from a date column in a data frame"
   ]
  },
  {
   "cell_type": "code",
   "execution_count": 86,
   "id": "50514796",
   "metadata": {},
   "outputs": [
    {
     "name": "stdout",
     "output_type": "stream",
     "text": [
      "Empty DataFrame\n",
      "Columns: []\n",
      "Index: []\n"
     ]
    },
    {
     "name": "stderr",
     "output_type": "stream",
     "text": [
      "/tmp/ipykernel_10206/668287849.py:4: FutureWarning: 'M' is deprecated and will be removed in a future version, please use 'ME' instead.\n",
      "  df['End_Date'] = pd.date_range(start='2020-11-30', periods = 46, freq='M')\n"
     ]
    },
    {
     "data": {
      "text/html": [
       "<div>\n",
       "<style scoped>\n",
       "    .dataframe tbody tr th:only-of-type {\n",
       "        vertical-align: middle;\n",
       "    }\n",
       "\n",
       "    .dataframe tbody tr th {\n",
       "        vertical-align: top;\n",
       "    }\n",
       "\n",
       "    .dataframe thead th {\n",
       "        text-align: right;\n",
       "    }\n",
       "</style>\n",
       "<table border=\"1\" class=\"dataframe\">\n",
       "  <thead>\n",
       "    <tr style=\"text-align: right;\">\n",
       "      <th></th>\n",
       "      <th>Start_Date</th>\n",
       "      <th>End_Date</th>\n",
       "    </tr>\n",
       "  </thead>\n",
       "  <tbody>\n",
       "    <tr>\n",
       "      <th>0</th>\n",
       "      <td>2020-11-10</td>\n",
       "      <td>2020-11-30</td>\n",
       "    </tr>\n",
       "    <tr>\n",
       "      <th>1</th>\n",
       "      <td>2020-11-11</td>\n",
       "      <td>2020-12-31</td>\n",
       "    </tr>\n",
       "    <tr>\n",
       "      <th>2</th>\n",
       "      <td>2020-11-12</td>\n",
       "      <td>2021-01-31</td>\n",
       "    </tr>\n",
       "    <tr>\n",
       "      <th>3</th>\n",
       "      <td>2020-11-13</td>\n",
       "      <td>2021-02-28</td>\n",
       "    </tr>\n",
       "    <tr>\n",
       "      <th>4</th>\n",
       "      <td>2020-11-14</td>\n",
       "      <td>2021-03-31</td>\n",
       "    </tr>\n",
       "    <tr>\n",
       "      <th>5</th>\n",
       "      <td>2020-11-15</td>\n",
       "      <td>2021-04-30</td>\n",
       "    </tr>\n",
       "    <tr>\n",
       "      <th>6</th>\n",
       "      <td>2020-11-16</td>\n",
       "      <td>2021-05-31</td>\n",
       "    </tr>\n",
       "    <tr>\n",
       "      <th>7</th>\n",
       "      <td>2020-11-17</td>\n",
       "      <td>2021-06-30</td>\n",
       "    </tr>\n",
       "    <tr>\n",
       "      <th>8</th>\n",
       "      <td>2020-11-18</td>\n",
       "      <td>2021-07-31</td>\n",
       "    </tr>\n",
       "    <tr>\n",
       "      <th>9</th>\n",
       "      <td>2020-11-19</td>\n",
       "      <td>2021-08-31</td>\n",
       "    </tr>\n",
       "    <tr>\n",
       "      <th>10</th>\n",
       "      <td>2020-11-20</td>\n",
       "      <td>2021-09-30</td>\n",
       "    </tr>\n",
       "    <tr>\n",
       "      <th>11</th>\n",
       "      <td>2020-11-21</td>\n",
       "      <td>2021-10-31</td>\n",
       "    </tr>\n",
       "    <tr>\n",
       "      <th>12</th>\n",
       "      <td>2020-11-22</td>\n",
       "      <td>2021-11-30</td>\n",
       "    </tr>\n",
       "    <tr>\n",
       "      <th>13</th>\n",
       "      <td>2020-11-23</td>\n",
       "      <td>2021-12-31</td>\n",
       "    </tr>\n",
       "    <tr>\n",
       "      <th>14</th>\n",
       "      <td>2020-11-24</td>\n",
       "      <td>2022-01-31</td>\n",
       "    </tr>\n",
       "    <tr>\n",
       "      <th>15</th>\n",
       "      <td>2020-11-25</td>\n",
       "      <td>2022-02-28</td>\n",
       "    </tr>\n",
       "    <tr>\n",
       "      <th>16</th>\n",
       "      <td>2020-11-26</td>\n",
       "      <td>2022-03-31</td>\n",
       "    </tr>\n",
       "    <tr>\n",
       "      <th>17</th>\n",
       "      <td>2020-11-27</td>\n",
       "      <td>2022-04-30</td>\n",
       "    </tr>\n",
       "    <tr>\n",
       "      <th>18</th>\n",
       "      <td>2020-11-28</td>\n",
       "      <td>2022-05-31</td>\n",
       "    </tr>\n",
       "    <tr>\n",
       "      <th>19</th>\n",
       "      <td>2020-11-29</td>\n",
       "      <td>2022-06-30</td>\n",
       "    </tr>\n",
       "    <tr>\n",
       "      <th>20</th>\n",
       "      <td>2020-11-30</td>\n",
       "      <td>2022-07-31</td>\n",
       "    </tr>\n",
       "    <tr>\n",
       "      <th>21</th>\n",
       "      <td>2020-12-01</td>\n",
       "      <td>2022-08-31</td>\n",
       "    </tr>\n",
       "    <tr>\n",
       "      <th>22</th>\n",
       "      <td>2020-12-02</td>\n",
       "      <td>2022-09-30</td>\n",
       "    </tr>\n",
       "    <tr>\n",
       "      <th>23</th>\n",
       "      <td>2020-12-03</td>\n",
       "      <td>2022-10-31</td>\n",
       "    </tr>\n",
       "    <tr>\n",
       "      <th>24</th>\n",
       "      <td>2020-12-04</td>\n",
       "      <td>2022-11-30</td>\n",
       "    </tr>\n",
       "    <tr>\n",
       "      <th>25</th>\n",
       "      <td>2020-12-05</td>\n",
       "      <td>2022-12-31</td>\n",
       "    </tr>\n",
       "    <tr>\n",
       "      <th>26</th>\n",
       "      <td>2020-12-06</td>\n",
       "      <td>2023-01-31</td>\n",
       "    </tr>\n",
       "    <tr>\n",
       "      <th>27</th>\n",
       "      <td>2020-12-07</td>\n",
       "      <td>2023-02-28</td>\n",
       "    </tr>\n",
       "    <tr>\n",
       "      <th>28</th>\n",
       "      <td>2020-12-08</td>\n",
       "      <td>2023-03-31</td>\n",
       "    </tr>\n",
       "    <tr>\n",
       "      <th>29</th>\n",
       "      <td>2020-12-09</td>\n",
       "      <td>2023-04-30</td>\n",
       "    </tr>\n",
       "    <tr>\n",
       "      <th>30</th>\n",
       "      <td>2020-12-10</td>\n",
       "      <td>2023-05-31</td>\n",
       "    </tr>\n",
       "    <tr>\n",
       "      <th>31</th>\n",
       "      <td>2020-12-11</td>\n",
       "      <td>2023-06-30</td>\n",
       "    </tr>\n",
       "    <tr>\n",
       "      <th>32</th>\n",
       "      <td>2020-12-12</td>\n",
       "      <td>2023-07-31</td>\n",
       "    </tr>\n",
       "    <tr>\n",
       "      <th>33</th>\n",
       "      <td>2020-12-13</td>\n",
       "      <td>2023-08-31</td>\n",
       "    </tr>\n",
       "    <tr>\n",
       "      <th>34</th>\n",
       "      <td>2020-12-14</td>\n",
       "      <td>2023-09-30</td>\n",
       "    </tr>\n",
       "    <tr>\n",
       "      <th>35</th>\n",
       "      <td>2020-12-15</td>\n",
       "      <td>2023-10-31</td>\n",
       "    </tr>\n",
       "    <tr>\n",
       "      <th>36</th>\n",
       "      <td>2020-12-16</td>\n",
       "      <td>2023-11-30</td>\n",
       "    </tr>\n",
       "    <tr>\n",
       "      <th>37</th>\n",
       "      <td>2020-12-17</td>\n",
       "      <td>2023-12-31</td>\n",
       "    </tr>\n",
       "    <tr>\n",
       "      <th>38</th>\n",
       "      <td>2020-12-18</td>\n",
       "      <td>2024-01-31</td>\n",
       "    </tr>\n",
       "    <tr>\n",
       "      <th>39</th>\n",
       "      <td>2020-12-19</td>\n",
       "      <td>2024-02-29</td>\n",
       "    </tr>\n",
       "    <tr>\n",
       "      <th>40</th>\n",
       "      <td>2020-12-20</td>\n",
       "      <td>2024-03-31</td>\n",
       "    </tr>\n",
       "    <tr>\n",
       "      <th>41</th>\n",
       "      <td>2020-12-21</td>\n",
       "      <td>2024-04-30</td>\n",
       "    </tr>\n",
       "    <tr>\n",
       "      <th>42</th>\n",
       "      <td>2020-12-22</td>\n",
       "      <td>2024-05-31</td>\n",
       "    </tr>\n",
       "    <tr>\n",
       "      <th>43</th>\n",
       "      <td>2020-12-23</td>\n",
       "      <td>2024-06-30</td>\n",
       "    </tr>\n",
       "    <tr>\n",
       "      <th>44</th>\n",
       "      <td>2020-12-24</td>\n",
       "      <td>2024-07-31</td>\n",
       "    </tr>\n",
       "    <tr>\n",
       "      <th>45</th>\n",
       "      <td>2020-12-25</td>\n",
       "      <td>2024-08-31</td>\n",
       "    </tr>\n",
       "  </tbody>\n",
       "</table>\n",
       "</div>"
      ],
      "text/plain": [
       "   Start_Date   End_Date\n",
       "0  2020-11-10 2020-11-30\n",
       "1  2020-11-11 2020-12-31\n",
       "2  2020-11-12 2021-01-31\n",
       "3  2020-11-13 2021-02-28\n",
       "4  2020-11-14 2021-03-31\n",
       "5  2020-11-15 2021-04-30\n",
       "6  2020-11-16 2021-05-31\n",
       "7  2020-11-17 2021-06-30\n",
       "8  2020-11-18 2021-07-31\n",
       "9  2020-11-19 2021-08-31\n",
       "10 2020-11-20 2021-09-30\n",
       "11 2020-11-21 2021-10-31\n",
       "12 2020-11-22 2021-11-30\n",
       "13 2020-11-23 2021-12-31\n",
       "14 2020-11-24 2022-01-31\n",
       "15 2020-11-25 2022-02-28\n",
       "16 2020-11-26 2022-03-31\n",
       "17 2020-11-27 2022-04-30\n",
       "18 2020-11-28 2022-05-31\n",
       "19 2020-11-29 2022-06-30\n",
       "20 2020-11-30 2022-07-31\n",
       "21 2020-12-01 2022-08-31\n",
       "22 2020-12-02 2022-09-30\n",
       "23 2020-12-03 2022-10-31\n",
       "24 2020-12-04 2022-11-30\n",
       "25 2020-12-05 2022-12-31\n",
       "26 2020-12-06 2023-01-31\n",
       "27 2020-12-07 2023-02-28\n",
       "28 2020-12-08 2023-03-31\n",
       "29 2020-12-09 2023-04-30\n",
       "30 2020-12-10 2023-05-31\n",
       "31 2020-12-11 2023-06-30\n",
       "32 2020-12-12 2023-07-31\n",
       "33 2020-12-13 2023-08-31\n",
       "34 2020-12-14 2023-09-30\n",
       "35 2020-12-15 2023-10-31\n",
       "36 2020-12-16 2023-11-30\n",
       "37 2020-12-17 2023-12-31\n",
       "38 2020-12-18 2024-01-31\n",
       "39 2020-12-19 2024-02-29\n",
       "40 2020-12-20 2024-03-31\n",
       "41 2020-12-21 2024-04-30\n",
       "42 2020-12-22 2024-05-31\n",
       "43 2020-12-23 2024-06-30\n",
       "44 2020-12-24 2024-07-31\n",
       "45 2020-12-25 2024-08-31"
      ]
     },
     "execution_count": 86,
     "metadata": {},
     "output_type": "execute_result"
    }
   ],
   "source": [
    "df= pd.DataFrame()\n",
    "print(df)\n",
    "df['Start_Date'] = pd.date_range(start='2020-11-10', end='2020-12-25', freq='D')\n",
    "df['End_Date'] = pd.date_range(start='2020-11-30', periods = 46, freq='M')\n",
    "df"
   ]
  },
  {
   "cell_type": "code",
   "execution_count": 87,
   "id": "7cb69b9c",
   "metadata": {},
   "outputs": [
    {
     "data": {
      "text/html": [
       "<div>\n",
       "<style scoped>\n",
       "    .dataframe tbody tr th:only-of-type {\n",
       "        vertical-align: middle;\n",
       "    }\n",
       "\n",
       "    .dataframe tbody tr th {\n",
       "        vertical-align: top;\n",
       "    }\n",
       "\n",
       "    .dataframe thead th {\n",
       "        text-align: right;\n",
       "    }\n",
       "</style>\n",
       "<table border=\"1\" class=\"dataframe\">\n",
       "  <thead>\n",
       "    <tr style=\"text-align: right;\">\n",
       "      <th></th>\n",
       "      <th>Start_Date</th>\n",
       "      <th>End_Date</th>\n",
       "      <th>Day</th>\n",
       "      <th>Month</th>\n",
       "      <th>Year</th>\n",
       "    </tr>\n",
       "  </thead>\n",
       "  <tbody>\n",
       "    <tr>\n",
       "      <th>0</th>\n",
       "      <td>2020-11-10</td>\n",
       "      <td>2020-11-30</td>\n",
       "      <td>10</td>\n",
       "      <td>11</td>\n",
       "      <td>2020</td>\n",
       "    </tr>\n",
       "    <tr>\n",
       "      <th>1</th>\n",
       "      <td>2020-11-11</td>\n",
       "      <td>2020-12-31</td>\n",
       "      <td>11</td>\n",
       "      <td>11</td>\n",
       "      <td>2020</td>\n",
       "    </tr>\n",
       "    <tr>\n",
       "      <th>2</th>\n",
       "      <td>2020-11-12</td>\n",
       "      <td>2021-01-31</td>\n",
       "      <td>12</td>\n",
       "      <td>11</td>\n",
       "      <td>2020</td>\n",
       "    </tr>\n",
       "    <tr>\n",
       "      <th>3</th>\n",
       "      <td>2020-11-13</td>\n",
       "      <td>2021-02-28</td>\n",
       "      <td>13</td>\n",
       "      <td>11</td>\n",
       "      <td>2020</td>\n",
       "    </tr>\n",
       "    <tr>\n",
       "      <th>4</th>\n",
       "      <td>2020-11-14</td>\n",
       "      <td>2021-03-31</td>\n",
       "      <td>14</td>\n",
       "      <td>11</td>\n",
       "      <td>2020</td>\n",
       "    </tr>\n",
       "    <tr>\n",
       "      <th>5</th>\n",
       "      <td>2020-11-15</td>\n",
       "      <td>2021-04-30</td>\n",
       "      <td>15</td>\n",
       "      <td>11</td>\n",
       "      <td>2020</td>\n",
       "    </tr>\n",
       "    <tr>\n",
       "      <th>6</th>\n",
       "      <td>2020-11-16</td>\n",
       "      <td>2021-05-31</td>\n",
       "      <td>16</td>\n",
       "      <td>11</td>\n",
       "      <td>2020</td>\n",
       "    </tr>\n",
       "    <tr>\n",
       "      <th>7</th>\n",
       "      <td>2020-11-17</td>\n",
       "      <td>2021-06-30</td>\n",
       "      <td>17</td>\n",
       "      <td>11</td>\n",
       "      <td>2020</td>\n",
       "    </tr>\n",
       "    <tr>\n",
       "      <th>8</th>\n",
       "      <td>2020-11-18</td>\n",
       "      <td>2021-07-31</td>\n",
       "      <td>18</td>\n",
       "      <td>11</td>\n",
       "      <td>2020</td>\n",
       "    </tr>\n",
       "    <tr>\n",
       "      <th>9</th>\n",
       "      <td>2020-11-19</td>\n",
       "      <td>2021-08-31</td>\n",
       "      <td>19</td>\n",
       "      <td>11</td>\n",
       "      <td>2020</td>\n",
       "    </tr>\n",
       "    <tr>\n",
       "      <th>10</th>\n",
       "      <td>2020-11-20</td>\n",
       "      <td>2021-09-30</td>\n",
       "      <td>20</td>\n",
       "      <td>11</td>\n",
       "      <td>2020</td>\n",
       "    </tr>\n",
       "    <tr>\n",
       "      <th>11</th>\n",
       "      <td>2020-11-21</td>\n",
       "      <td>2021-10-31</td>\n",
       "      <td>21</td>\n",
       "      <td>11</td>\n",
       "      <td>2020</td>\n",
       "    </tr>\n",
       "    <tr>\n",
       "      <th>12</th>\n",
       "      <td>2020-11-22</td>\n",
       "      <td>2021-11-30</td>\n",
       "      <td>22</td>\n",
       "      <td>11</td>\n",
       "      <td>2020</td>\n",
       "    </tr>\n",
       "    <tr>\n",
       "      <th>13</th>\n",
       "      <td>2020-11-23</td>\n",
       "      <td>2021-12-31</td>\n",
       "      <td>23</td>\n",
       "      <td>11</td>\n",
       "      <td>2020</td>\n",
       "    </tr>\n",
       "    <tr>\n",
       "      <th>14</th>\n",
       "      <td>2020-11-24</td>\n",
       "      <td>2022-01-31</td>\n",
       "      <td>24</td>\n",
       "      <td>11</td>\n",
       "      <td>2020</td>\n",
       "    </tr>\n",
       "    <tr>\n",
       "      <th>15</th>\n",
       "      <td>2020-11-25</td>\n",
       "      <td>2022-02-28</td>\n",
       "      <td>25</td>\n",
       "      <td>11</td>\n",
       "      <td>2020</td>\n",
       "    </tr>\n",
       "    <tr>\n",
       "      <th>16</th>\n",
       "      <td>2020-11-26</td>\n",
       "      <td>2022-03-31</td>\n",
       "      <td>26</td>\n",
       "      <td>11</td>\n",
       "      <td>2020</td>\n",
       "    </tr>\n",
       "    <tr>\n",
       "      <th>17</th>\n",
       "      <td>2020-11-27</td>\n",
       "      <td>2022-04-30</td>\n",
       "      <td>27</td>\n",
       "      <td>11</td>\n",
       "      <td>2020</td>\n",
       "    </tr>\n",
       "    <tr>\n",
       "      <th>18</th>\n",
       "      <td>2020-11-28</td>\n",
       "      <td>2022-05-31</td>\n",
       "      <td>28</td>\n",
       "      <td>11</td>\n",
       "      <td>2020</td>\n",
       "    </tr>\n",
       "    <tr>\n",
       "      <th>19</th>\n",
       "      <td>2020-11-29</td>\n",
       "      <td>2022-06-30</td>\n",
       "      <td>29</td>\n",
       "      <td>11</td>\n",
       "      <td>2020</td>\n",
       "    </tr>\n",
       "    <tr>\n",
       "      <th>20</th>\n",
       "      <td>2020-11-30</td>\n",
       "      <td>2022-07-31</td>\n",
       "      <td>30</td>\n",
       "      <td>11</td>\n",
       "      <td>2020</td>\n",
       "    </tr>\n",
       "    <tr>\n",
       "      <th>21</th>\n",
       "      <td>2020-12-01</td>\n",
       "      <td>2022-08-31</td>\n",
       "      <td>1</td>\n",
       "      <td>12</td>\n",
       "      <td>2020</td>\n",
       "    </tr>\n",
       "    <tr>\n",
       "      <th>22</th>\n",
       "      <td>2020-12-02</td>\n",
       "      <td>2022-09-30</td>\n",
       "      <td>2</td>\n",
       "      <td>12</td>\n",
       "      <td>2020</td>\n",
       "    </tr>\n",
       "    <tr>\n",
       "      <th>23</th>\n",
       "      <td>2020-12-03</td>\n",
       "      <td>2022-10-31</td>\n",
       "      <td>3</td>\n",
       "      <td>12</td>\n",
       "      <td>2020</td>\n",
       "    </tr>\n",
       "    <tr>\n",
       "      <th>24</th>\n",
       "      <td>2020-12-04</td>\n",
       "      <td>2022-11-30</td>\n",
       "      <td>4</td>\n",
       "      <td>12</td>\n",
       "      <td>2020</td>\n",
       "    </tr>\n",
       "    <tr>\n",
       "      <th>25</th>\n",
       "      <td>2020-12-05</td>\n",
       "      <td>2022-12-31</td>\n",
       "      <td>5</td>\n",
       "      <td>12</td>\n",
       "      <td>2020</td>\n",
       "    </tr>\n",
       "    <tr>\n",
       "      <th>26</th>\n",
       "      <td>2020-12-06</td>\n",
       "      <td>2023-01-31</td>\n",
       "      <td>6</td>\n",
       "      <td>12</td>\n",
       "      <td>2020</td>\n",
       "    </tr>\n",
       "    <tr>\n",
       "      <th>27</th>\n",
       "      <td>2020-12-07</td>\n",
       "      <td>2023-02-28</td>\n",
       "      <td>7</td>\n",
       "      <td>12</td>\n",
       "      <td>2020</td>\n",
       "    </tr>\n",
       "    <tr>\n",
       "      <th>28</th>\n",
       "      <td>2020-12-08</td>\n",
       "      <td>2023-03-31</td>\n",
       "      <td>8</td>\n",
       "      <td>12</td>\n",
       "      <td>2020</td>\n",
       "    </tr>\n",
       "    <tr>\n",
       "      <th>29</th>\n",
       "      <td>2020-12-09</td>\n",
       "      <td>2023-04-30</td>\n",
       "      <td>9</td>\n",
       "      <td>12</td>\n",
       "      <td>2020</td>\n",
       "    </tr>\n",
       "    <tr>\n",
       "      <th>30</th>\n",
       "      <td>2020-12-10</td>\n",
       "      <td>2023-05-31</td>\n",
       "      <td>10</td>\n",
       "      <td>12</td>\n",
       "      <td>2020</td>\n",
       "    </tr>\n",
       "    <tr>\n",
       "      <th>31</th>\n",
       "      <td>2020-12-11</td>\n",
       "      <td>2023-06-30</td>\n",
       "      <td>11</td>\n",
       "      <td>12</td>\n",
       "      <td>2020</td>\n",
       "    </tr>\n",
       "    <tr>\n",
       "      <th>32</th>\n",
       "      <td>2020-12-12</td>\n",
       "      <td>2023-07-31</td>\n",
       "      <td>12</td>\n",
       "      <td>12</td>\n",
       "      <td>2020</td>\n",
       "    </tr>\n",
       "    <tr>\n",
       "      <th>33</th>\n",
       "      <td>2020-12-13</td>\n",
       "      <td>2023-08-31</td>\n",
       "      <td>13</td>\n",
       "      <td>12</td>\n",
       "      <td>2020</td>\n",
       "    </tr>\n",
       "    <tr>\n",
       "      <th>34</th>\n",
       "      <td>2020-12-14</td>\n",
       "      <td>2023-09-30</td>\n",
       "      <td>14</td>\n",
       "      <td>12</td>\n",
       "      <td>2020</td>\n",
       "    </tr>\n",
       "    <tr>\n",
       "      <th>35</th>\n",
       "      <td>2020-12-15</td>\n",
       "      <td>2023-10-31</td>\n",
       "      <td>15</td>\n",
       "      <td>12</td>\n",
       "      <td>2020</td>\n",
       "    </tr>\n",
       "    <tr>\n",
       "      <th>36</th>\n",
       "      <td>2020-12-16</td>\n",
       "      <td>2023-11-30</td>\n",
       "      <td>16</td>\n",
       "      <td>12</td>\n",
       "      <td>2020</td>\n",
       "    </tr>\n",
       "    <tr>\n",
       "      <th>37</th>\n",
       "      <td>2020-12-17</td>\n",
       "      <td>2023-12-31</td>\n",
       "      <td>17</td>\n",
       "      <td>12</td>\n",
       "      <td>2020</td>\n",
       "    </tr>\n",
       "    <tr>\n",
       "      <th>38</th>\n",
       "      <td>2020-12-18</td>\n",
       "      <td>2024-01-31</td>\n",
       "      <td>18</td>\n",
       "      <td>12</td>\n",
       "      <td>2020</td>\n",
       "    </tr>\n",
       "    <tr>\n",
       "      <th>39</th>\n",
       "      <td>2020-12-19</td>\n",
       "      <td>2024-02-29</td>\n",
       "      <td>19</td>\n",
       "      <td>12</td>\n",
       "      <td>2020</td>\n",
       "    </tr>\n",
       "    <tr>\n",
       "      <th>40</th>\n",
       "      <td>2020-12-20</td>\n",
       "      <td>2024-03-31</td>\n",
       "      <td>20</td>\n",
       "      <td>12</td>\n",
       "      <td>2020</td>\n",
       "    </tr>\n",
       "    <tr>\n",
       "      <th>41</th>\n",
       "      <td>2020-12-21</td>\n",
       "      <td>2024-04-30</td>\n",
       "      <td>21</td>\n",
       "      <td>12</td>\n",
       "      <td>2020</td>\n",
       "    </tr>\n",
       "    <tr>\n",
       "      <th>42</th>\n",
       "      <td>2020-12-22</td>\n",
       "      <td>2024-05-31</td>\n",
       "      <td>22</td>\n",
       "      <td>12</td>\n",
       "      <td>2020</td>\n",
       "    </tr>\n",
       "    <tr>\n",
       "      <th>43</th>\n",
       "      <td>2020-12-23</td>\n",
       "      <td>2024-06-30</td>\n",
       "      <td>23</td>\n",
       "      <td>12</td>\n",
       "      <td>2020</td>\n",
       "    </tr>\n",
       "    <tr>\n",
       "      <th>44</th>\n",
       "      <td>2020-12-24</td>\n",
       "      <td>2024-07-31</td>\n",
       "      <td>24</td>\n",
       "      <td>12</td>\n",
       "      <td>2020</td>\n",
       "    </tr>\n",
       "    <tr>\n",
       "      <th>45</th>\n",
       "      <td>2020-12-25</td>\n",
       "      <td>2024-08-31</td>\n",
       "      <td>25</td>\n",
       "      <td>12</td>\n",
       "      <td>2020</td>\n",
       "    </tr>\n",
       "  </tbody>\n",
       "</table>\n",
       "</div>"
      ],
      "text/plain": [
       "   Start_Date   End_Date  Day  Month  Year\n",
       "0  2020-11-10 2020-11-30   10     11  2020\n",
       "1  2020-11-11 2020-12-31   11     11  2020\n",
       "2  2020-11-12 2021-01-31   12     11  2020\n",
       "3  2020-11-13 2021-02-28   13     11  2020\n",
       "4  2020-11-14 2021-03-31   14     11  2020\n",
       "5  2020-11-15 2021-04-30   15     11  2020\n",
       "6  2020-11-16 2021-05-31   16     11  2020\n",
       "7  2020-11-17 2021-06-30   17     11  2020\n",
       "8  2020-11-18 2021-07-31   18     11  2020\n",
       "9  2020-11-19 2021-08-31   19     11  2020\n",
       "10 2020-11-20 2021-09-30   20     11  2020\n",
       "11 2020-11-21 2021-10-31   21     11  2020\n",
       "12 2020-11-22 2021-11-30   22     11  2020\n",
       "13 2020-11-23 2021-12-31   23     11  2020\n",
       "14 2020-11-24 2022-01-31   24     11  2020\n",
       "15 2020-11-25 2022-02-28   25     11  2020\n",
       "16 2020-11-26 2022-03-31   26     11  2020\n",
       "17 2020-11-27 2022-04-30   27     11  2020\n",
       "18 2020-11-28 2022-05-31   28     11  2020\n",
       "19 2020-11-29 2022-06-30   29     11  2020\n",
       "20 2020-11-30 2022-07-31   30     11  2020\n",
       "21 2020-12-01 2022-08-31    1     12  2020\n",
       "22 2020-12-02 2022-09-30    2     12  2020\n",
       "23 2020-12-03 2022-10-31    3     12  2020\n",
       "24 2020-12-04 2022-11-30    4     12  2020\n",
       "25 2020-12-05 2022-12-31    5     12  2020\n",
       "26 2020-12-06 2023-01-31    6     12  2020\n",
       "27 2020-12-07 2023-02-28    7     12  2020\n",
       "28 2020-12-08 2023-03-31    8     12  2020\n",
       "29 2020-12-09 2023-04-30    9     12  2020\n",
       "30 2020-12-10 2023-05-31   10     12  2020\n",
       "31 2020-12-11 2023-06-30   11     12  2020\n",
       "32 2020-12-12 2023-07-31   12     12  2020\n",
       "33 2020-12-13 2023-08-31   13     12  2020\n",
       "34 2020-12-14 2023-09-30   14     12  2020\n",
       "35 2020-12-15 2023-10-31   15     12  2020\n",
       "36 2020-12-16 2023-11-30   16     12  2020\n",
       "37 2020-12-17 2023-12-31   17     12  2020\n",
       "38 2020-12-18 2024-01-31   18     12  2020\n",
       "39 2020-12-19 2024-02-29   19     12  2020\n",
       "40 2020-12-20 2024-03-31   20     12  2020\n",
       "41 2020-12-21 2024-04-30   21     12  2020\n",
       "42 2020-12-22 2024-05-31   22     12  2020\n",
       "43 2020-12-23 2024-06-30   23     12  2020\n",
       "44 2020-12-24 2024-07-31   24     12  2020\n",
       "45 2020-12-25 2024-08-31   25     12  2020"
      ]
     },
     "execution_count": 87,
     "metadata": {},
     "output_type": "execute_result"
    }
   ],
   "source": [
    "df['Day'] = df['Start_Date'].dt.day\n",
    "df['Month'] = df['Start_Date'].dt.month\n",
    "df['Year'] = df['Start_Date'].dt.year\n",
    "df"
   ]
  },
  {
   "cell_type": "code",
   "execution_count": 88,
   "id": "d8cb5c6c",
   "metadata": {},
   "outputs": [
    {
     "data": {
      "text/html": [
       "<div>\n",
       "<style scoped>\n",
       "    .dataframe tbody tr th:only-of-type {\n",
       "        vertical-align: middle;\n",
       "    }\n",
       "\n",
       "    .dataframe tbody tr th {\n",
       "        vertical-align: top;\n",
       "    }\n",
       "\n",
       "    .dataframe thead th {\n",
       "        text-align: right;\n",
       "    }\n",
       "</style>\n",
       "<table border=\"1\" class=\"dataframe\">\n",
       "  <thead>\n",
       "    <tr style=\"text-align: right;\">\n",
       "      <th></th>\n",
       "      <th>Start_Date</th>\n",
       "      <th>End_Date</th>\n",
       "      <th>Day</th>\n",
       "      <th>Month</th>\n",
       "      <th>Year</th>\n",
       "      <th>Start_hour</th>\n",
       "      <th>Start_minute</th>\n",
       "      <th>Start_second</th>\n",
       "    </tr>\n",
       "  </thead>\n",
       "  <tbody>\n",
       "    <tr>\n",
       "      <th>0</th>\n",
       "      <td>2020-11-10</td>\n",
       "      <td>2020-11-30</td>\n",
       "      <td>10</td>\n",
       "      <td>11</td>\n",
       "      <td>2020</td>\n",
       "      <td>0</td>\n",
       "      <td>0</td>\n",
       "      <td>0</td>\n",
       "    </tr>\n",
       "    <tr>\n",
       "      <th>1</th>\n",
       "      <td>2020-11-11</td>\n",
       "      <td>2020-12-31</td>\n",
       "      <td>11</td>\n",
       "      <td>11</td>\n",
       "      <td>2020</td>\n",
       "      <td>0</td>\n",
       "      <td>0</td>\n",
       "      <td>0</td>\n",
       "    </tr>\n",
       "    <tr>\n",
       "      <th>2</th>\n",
       "      <td>2020-11-12</td>\n",
       "      <td>2021-01-31</td>\n",
       "      <td>12</td>\n",
       "      <td>11</td>\n",
       "      <td>2020</td>\n",
       "      <td>0</td>\n",
       "      <td>0</td>\n",
       "      <td>0</td>\n",
       "    </tr>\n",
       "    <tr>\n",
       "      <th>3</th>\n",
       "      <td>2020-11-13</td>\n",
       "      <td>2021-02-28</td>\n",
       "      <td>13</td>\n",
       "      <td>11</td>\n",
       "      <td>2020</td>\n",
       "      <td>0</td>\n",
       "      <td>0</td>\n",
       "      <td>0</td>\n",
       "    </tr>\n",
       "    <tr>\n",
       "      <th>4</th>\n",
       "      <td>2020-11-14</td>\n",
       "      <td>2021-03-31</td>\n",
       "      <td>14</td>\n",
       "      <td>11</td>\n",
       "      <td>2020</td>\n",
       "      <td>0</td>\n",
       "      <td>0</td>\n",
       "      <td>0</td>\n",
       "    </tr>\n",
       "    <tr>\n",
       "      <th>5</th>\n",
       "      <td>2020-11-15</td>\n",
       "      <td>2021-04-30</td>\n",
       "      <td>15</td>\n",
       "      <td>11</td>\n",
       "      <td>2020</td>\n",
       "      <td>0</td>\n",
       "      <td>0</td>\n",
       "      <td>0</td>\n",
       "    </tr>\n",
       "    <tr>\n",
       "      <th>6</th>\n",
       "      <td>2020-11-16</td>\n",
       "      <td>2021-05-31</td>\n",
       "      <td>16</td>\n",
       "      <td>11</td>\n",
       "      <td>2020</td>\n",
       "      <td>0</td>\n",
       "      <td>0</td>\n",
       "      <td>0</td>\n",
       "    </tr>\n",
       "    <tr>\n",
       "      <th>7</th>\n",
       "      <td>2020-11-17</td>\n",
       "      <td>2021-06-30</td>\n",
       "      <td>17</td>\n",
       "      <td>11</td>\n",
       "      <td>2020</td>\n",
       "      <td>0</td>\n",
       "      <td>0</td>\n",
       "      <td>0</td>\n",
       "    </tr>\n",
       "    <tr>\n",
       "      <th>8</th>\n",
       "      <td>2020-11-18</td>\n",
       "      <td>2021-07-31</td>\n",
       "      <td>18</td>\n",
       "      <td>11</td>\n",
       "      <td>2020</td>\n",
       "      <td>0</td>\n",
       "      <td>0</td>\n",
       "      <td>0</td>\n",
       "    </tr>\n",
       "    <tr>\n",
       "      <th>9</th>\n",
       "      <td>2020-11-19</td>\n",
       "      <td>2021-08-31</td>\n",
       "      <td>19</td>\n",
       "      <td>11</td>\n",
       "      <td>2020</td>\n",
       "      <td>0</td>\n",
       "      <td>0</td>\n",
       "      <td>0</td>\n",
       "    </tr>\n",
       "    <tr>\n",
       "      <th>10</th>\n",
       "      <td>2020-11-20</td>\n",
       "      <td>2021-09-30</td>\n",
       "      <td>20</td>\n",
       "      <td>11</td>\n",
       "      <td>2020</td>\n",
       "      <td>0</td>\n",
       "      <td>0</td>\n",
       "      <td>0</td>\n",
       "    </tr>\n",
       "    <tr>\n",
       "      <th>11</th>\n",
       "      <td>2020-11-21</td>\n",
       "      <td>2021-10-31</td>\n",
       "      <td>21</td>\n",
       "      <td>11</td>\n",
       "      <td>2020</td>\n",
       "      <td>0</td>\n",
       "      <td>0</td>\n",
       "      <td>0</td>\n",
       "    </tr>\n",
       "    <tr>\n",
       "      <th>12</th>\n",
       "      <td>2020-11-22</td>\n",
       "      <td>2021-11-30</td>\n",
       "      <td>22</td>\n",
       "      <td>11</td>\n",
       "      <td>2020</td>\n",
       "      <td>0</td>\n",
       "      <td>0</td>\n",
       "      <td>0</td>\n",
       "    </tr>\n",
       "    <tr>\n",
       "      <th>13</th>\n",
       "      <td>2020-11-23</td>\n",
       "      <td>2021-12-31</td>\n",
       "      <td>23</td>\n",
       "      <td>11</td>\n",
       "      <td>2020</td>\n",
       "      <td>0</td>\n",
       "      <td>0</td>\n",
       "      <td>0</td>\n",
       "    </tr>\n",
       "    <tr>\n",
       "      <th>14</th>\n",
       "      <td>2020-11-24</td>\n",
       "      <td>2022-01-31</td>\n",
       "      <td>24</td>\n",
       "      <td>11</td>\n",
       "      <td>2020</td>\n",
       "      <td>0</td>\n",
       "      <td>0</td>\n",
       "      <td>0</td>\n",
       "    </tr>\n",
       "    <tr>\n",
       "      <th>15</th>\n",
       "      <td>2020-11-25</td>\n",
       "      <td>2022-02-28</td>\n",
       "      <td>25</td>\n",
       "      <td>11</td>\n",
       "      <td>2020</td>\n",
       "      <td>0</td>\n",
       "      <td>0</td>\n",
       "      <td>0</td>\n",
       "    </tr>\n",
       "    <tr>\n",
       "      <th>16</th>\n",
       "      <td>2020-11-26</td>\n",
       "      <td>2022-03-31</td>\n",
       "      <td>26</td>\n",
       "      <td>11</td>\n",
       "      <td>2020</td>\n",
       "      <td>0</td>\n",
       "      <td>0</td>\n",
       "      <td>0</td>\n",
       "    </tr>\n",
       "    <tr>\n",
       "      <th>17</th>\n",
       "      <td>2020-11-27</td>\n",
       "      <td>2022-04-30</td>\n",
       "      <td>27</td>\n",
       "      <td>11</td>\n",
       "      <td>2020</td>\n",
       "      <td>0</td>\n",
       "      <td>0</td>\n",
       "      <td>0</td>\n",
       "    </tr>\n",
       "    <tr>\n",
       "      <th>18</th>\n",
       "      <td>2020-11-28</td>\n",
       "      <td>2022-05-31</td>\n",
       "      <td>28</td>\n",
       "      <td>11</td>\n",
       "      <td>2020</td>\n",
       "      <td>0</td>\n",
       "      <td>0</td>\n",
       "      <td>0</td>\n",
       "    </tr>\n",
       "    <tr>\n",
       "      <th>19</th>\n",
       "      <td>2020-11-29</td>\n",
       "      <td>2022-06-30</td>\n",
       "      <td>29</td>\n",
       "      <td>11</td>\n",
       "      <td>2020</td>\n",
       "      <td>0</td>\n",
       "      <td>0</td>\n",
       "      <td>0</td>\n",
       "    </tr>\n",
       "    <tr>\n",
       "      <th>20</th>\n",
       "      <td>2020-11-30</td>\n",
       "      <td>2022-07-31</td>\n",
       "      <td>30</td>\n",
       "      <td>11</td>\n",
       "      <td>2020</td>\n",
       "      <td>0</td>\n",
       "      <td>0</td>\n",
       "      <td>0</td>\n",
       "    </tr>\n",
       "    <tr>\n",
       "      <th>21</th>\n",
       "      <td>2020-12-01</td>\n",
       "      <td>2022-08-31</td>\n",
       "      <td>1</td>\n",
       "      <td>12</td>\n",
       "      <td>2020</td>\n",
       "      <td>0</td>\n",
       "      <td>0</td>\n",
       "      <td>0</td>\n",
       "    </tr>\n",
       "    <tr>\n",
       "      <th>22</th>\n",
       "      <td>2020-12-02</td>\n",
       "      <td>2022-09-30</td>\n",
       "      <td>2</td>\n",
       "      <td>12</td>\n",
       "      <td>2020</td>\n",
       "      <td>0</td>\n",
       "      <td>0</td>\n",
       "      <td>0</td>\n",
       "    </tr>\n",
       "    <tr>\n",
       "      <th>23</th>\n",
       "      <td>2020-12-03</td>\n",
       "      <td>2022-10-31</td>\n",
       "      <td>3</td>\n",
       "      <td>12</td>\n",
       "      <td>2020</td>\n",
       "      <td>0</td>\n",
       "      <td>0</td>\n",
       "      <td>0</td>\n",
       "    </tr>\n",
       "    <tr>\n",
       "      <th>24</th>\n",
       "      <td>2020-12-04</td>\n",
       "      <td>2022-11-30</td>\n",
       "      <td>4</td>\n",
       "      <td>12</td>\n",
       "      <td>2020</td>\n",
       "      <td>0</td>\n",
       "      <td>0</td>\n",
       "      <td>0</td>\n",
       "    </tr>\n",
       "    <tr>\n",
       "      <th>25</th>\n",
       "      <td>2020-12-05</td>\n",
       "      <td>2022-12-31</td>\n",
       "      <td>5</td>\n",
       "      <td>12</td>\n",
       "      <td>2020</td>\n",
       "      <td>0</td>\n",
       "      <td>0</td>\n",
       "      <td>0</td>\n",
       "    </tr>\n",
       "    <tr>\n",
       "      <th>26</th>\n",
       "      <td>2020-12-06</td>\n",
       "      <td>2023-01-31</td>\n",
       "      <td>6</td>\n",
       "      <td>12</td>\n",
       "      <td>2020</td>\n",
       "      <td>0</td>\n",
       "      <td>0</td>\n",
       "      <td>0</td>\n",
       "    </tr>\n",
       "    <tr>\n",
       "      <th>27</th>\n",
       "      <td>2020-12-07</td>\n",
       "      <td>2023-02-28</td>\n",
       "      <td>7</td>\n",
       "      <td>12</td>\n",
       "      <td>2020</td>\n",
       "      <td>0</td>\n",
       "      <td>0</td>\n",
       "      <td>0</td>\n",
       "    </tr>\n",
       "    <tr>\n",
       "      <th>28</th>\n",
       "      <td>2020-12-08</td>\n",
       "      <td>2023-03-31</td>\n",
       "      <td>8</td>\n",
       "      <td>12</td>\n",
       "      <td>2020</td>\n",
       "      <td>0</td>\n",
       "      <td>0</td>\n",
       "      <td>0</td>\n",
       "    </tr>\n",
       "    <tr>\n",
       "      <th>29</th>\n",
       "      <td>2020-12-09</td>\n",
       "      <td>2023-04-30</td>\n",
       "      <td>9</td>\n",
       "      <td>12</td>\n",
       "      <td>2020</td>\n",
       "      <td>0</td>\n",
       "      <td>0</td>\n",
       "      <td>0</td>\n",
       "    </tr>\n",
       "    <tr>\n",
       "      <th>30</th>\n",
       "      <td>2020-12-10</td>\n",
       "      <td>2023-05-31</td>\n",
       "      <td>10</td>\n",
       "      <td>12</td>\n",
       "      <td>2020</td>\n",
       "      <td>0</td>\n",
       "      <td>0</td>\n",
       "      <td>0</td>\n",
       "    </tr>\n",
       "    <tr>\n",
       "      <th>31</th>\n",
       "      <td>2020-12-11</td>\n",
       "      <td>2023-06-30</td>\n",
       "      <td>11</td>\n",
       "      <td>12</td>\n",
       "      <td>2020</td>\n",
       "      <td>0</td>\n",
       "      <td>0</td>\n",
       "      <td>0</td>\n",
       "    </tr>\n",
       "    <tr>\n",
       "      <th>32</th>\n",
       "      <td>2020-12-12</td>\n",
       "      <td>2023-07-31</td>\n",
       "      <td>12</td>\n",
       "      <td>12</td>\n",
       "      <td>2020</td>\n",
       "      <td>0</td>\n",
       "      <td>0</td>\n",
       "      <td>0</td>\n",
       "    </tr>\n",
       "    <tr>\n",
       "      <th>33</th>\n",
       "      <td>2020-12-13</td>\n",
       "      <td>2023-08-31</td>\n",
       "      <td>13</td>\n",
       "      <td>12</td>\n",
       "      <td>2020</td>\n",
       "      <td>0</td>\n",
       "      <td>0</td>\n",
       "      <td>0</td>\n",
       "    </tr>\n",
       "    <tr>\n",
       "      <th>34</th>\n",
       "      <td>2020-12-14</td>\n",
       "      <td>2023-09-30</td>\n",
       "      <td>14</td>\n",
       "      <td>12</td>\n",
       "      <td>2020</td>\n",
       "      <td>0</td>\n",
       "      <td>0</td>\n",
       "      <td>0</td>\n",
       "    </tr>\n",
       "    <tr>\n",
       "      <th>35</th>\n",
       "      <td>2020-12-15</td>\n",
       "      <td>2023-10-31</td>\n",
       "      <td>15</td>\n",
       "      <td>12</td>\n",
       "      <td>2020</td>\n",
       "      <td>0</td>\n",
       "      <td>0</td>\n",
       "      <td>0</td>\n",
       "    </tr>\n",
       "    <tr>\n",
       "      <th>36</th>\n",
       "      <td>2020-12-16</td>\n",
       "      <td>2023-11-30</td>\n",
       "      <td>16</td>\n",
       "      <td>12</td>\n",
       "      <td>2020</td>\n",
       "      <td>0</td>\n",
       "      <td>0</td>\n",
       "      <td>0</td>\n",
       "    </tr>\n",
       "    <tr>\n",
       "      <th>37</th>\n",
       "      <td>2020-12-17</td>\n",
       "      <td>2023-12-31</td>\n",
       "      <td>17</td>\n",
       "      <td>12</td>\n",
       "      <td>2020</td>\n",
       "      <td>0</td>\n",
       "      <td>0</td>\n",
       "      <td>0</td>\n",
       "    </tr>\n",
       "    <tr>\n",
       "      <th>38</th>\n",
       "      <td>2020-12-18</td>\n",
       "      <td>2024-01-31</td>\n",
       "      <td>18</td>\n",
       "      <td>12</td>\n",
       "      <td>2020</td>\n",
       "      <td>0</td>\n",
       "      <td>0</td>\n",
       "      <td>0</td>\n",
       "    </tr>\n",
       "    <tr>\n",
       "      <th>39</th>\n",
       "      <td>2020-12-19</td>\n",
       "      <td>2024-02-29</td>\n",
       "      <td>19</td>\n",
       "      <td>12</td>\n",
       "      <td>2020</td>\n",
       "      <td>0</td>\n",
       "      <td>0</td>\n",
       "      <td>0</td>\n",
       "    </tr>\n",
       "    <tr>\n",
       "      <th>40</th>\n",
       "      <td>2020-12-20</td>\n",
       "      <td>2024-03-31</td>\n",
       "      <td>20</td>\n",
       "      <td>12</td>\n",
       "      <td>2020</td>\n",
       "      <td>0</td>\n",
       "      <td>0</td>\n",
       "      <td>0</td>\n",
       "    </tr>\n",
       "    <tr>\n",
       "      <th>41</th>\n",
       "      <td>2020-12-21</td>\n",
       "      <td>2024-04-30</td>\n",
       "      <td>21</td>\n",
       "      <td>12</td>\n",
       "      <td>2020</td>\n",
       "      <td>0</td>\n",
       "      <td>0</td>\n",
       "      <td>0</td>\n",
       "    </tr>\n",
       "    <tr>\n",
       "      <th>42</th>\n",
       "      <td>2020-12-22</td>\n",
       "      <td>2024-05-31</td>\n",
       "      <td>22</td>\n",
       "      <td>12</td>\n",
       "      <td>2020</td>\n",
       "      <td>0</td>\n",
       "      <td>0</td>\n",
       "      <td>0</td>\n",
       "    </tr>\n",
       "    <tr>\n",
       "      <th>43</th>\n",
       "      <td>2020-12-23</td>\n",
       "      <td>2024-06-30</td>\n",
       "      <td>23</td>\n",
       "      <td>12</td>\n",
       "      <td>2020</td>\n",
       "      <td>0</td>\n",
       "      <td>0</td>\n",
       "      <td>0</td>\n",
       "    </tr>\n",
       "    <tr>\n",
       "      <th>44</th>\n",
       "      <td>2020-12-24</td>\n",
       "      <td>2024-07-31</td>\n",
       "      <td>24</td>\n",
       "      <td>12</td>\n",
       "      <td>2020</td>\n",
       "      <td>0</td>\n",
       "      <td>0</td>\n",
       "      <td>0</td>\n",
       "    </tr>\n",
       "    <tr>\n",
       "      <th>45</th>\n",
       "      <td>2020-12-25</td>\n",
       "      <td>2024-08-31</td>\n",
       "      <td>25</td>\n",
       "      <td>12</td>\n",
       "      <td>2020</td>\n",
       "      <td>0</td>\n",
       "      <td>0</td>\n",
       "      <td>0</td>\n",
       "    </tr>\n",
       "  </tbody>\n",
       "</table>\n",
       "</div>"
      ],
      "text/plain": [
       "   Start_Date   End_Date  Day  Month  Year  Start_hour  Start_minute  \\\n",
       "0  2020-11-10 2020-11-30   10     11  2020           0             0   \n",
       "1  2020-11-11 2020-12-31   11     11  2020           0             0   \n",
       "2  2020-11-12 2021-01-31   12     11  2020           0             0   \n",
       "3  2020-11-13 2021-02-28   13     11  2020           0             0   \n",
       "4  2020-11-14 2021-03-31   14     11  2020           0             0   \n",
       "5  2020-11-15 2021-04-30   15     11  2020           0             0   \n",
       "6  2020-11-16 2021-05-31   16     11  2020           0             0   \n",
       "7  2020-11-17 2021-06-30   17     11  2020           0             0   \n",
       "8  2020-11-18 2021-07-31   18     11  2020           0             0   \n",
       "9  2020-11-19 2021-08-31   19     11  2020           0             0   \n",
       "10 2020-11-20 2021-09-30   20     11  2020           0             0   \n",
       "11 2020-11-21 2021-10-31   21     11  2020           0             0   \n",
       "12 2020-11-22 2021-11-30   22     11  2020           0             0   \n",
       "13 2020-11-23 2021-12-31   23     11  2020           0             0   \n",
       "14 2020-11-24 2022-01-31   24     11  2020           0             0   \n",
       "15 2020-11-25 2022-02-28   25     11  2020           0             0   \n",
       "16 2020-11-26 2022-03-31   26     11  2020           0             0   \n",
       "17 2020-11-27 2022-04-30   27     11  2020           0             0   \n",
       "18 2020-11-28 2022-05-31   28     11  2020           0             0   \n",
       "19 2020-11-29 2022-06-30   29     11  2020           0             0   \n",
       "20 2020-11-30 2022-07-31   30     11  2020           0             0   \n",
       "21 2020-12-01 2022-08-31    1     12  2020           0             0   \n",
       "22 2020-12-02 2022-09-30    2     12  2020           0             0   \n",
       "23 2020-12-03 2022-10-31    3     12  2020           0             0   \n",
       "24 2020-12-04 2022-11-30    4     12  2020           0             0   \n",
       "25 2020-12-05 2022-12-31    5     12  2020           0             0   \n",
       "26 2020-12-06 2023-01-31    6     12  2020           0             0   \n",
       "27 2020-12-07 2023-02-28    7     12  2020           0             0   \n",
       "28 2020-12-08 2023-03-31    8     12  2020           0             0   \n",
       "29 2020-12-09 2023-04-30    9     12  2020           0             0   \n",
       "30 2020-12-10 2023-05-31   10     12  2020           0             0   \n",
       "31 2020-12-11 2023-06-30   11     12  2020           0             0   \n",
       "32 2020-12-12 2023-07-31   12     12  2020           0             0   \n",
       "33 2020-12-13 2023-08-31   13     12  2020           0             0   \n",
       "34 2020-12-14 2023-09-30   14     12  2020           0             0   \n",
       "35 2020-12-15 2023-10-31   15     12  2020           0             0   \n",
       "36 2020-12-16 2023-11-30   16     12  2020           0             0   \n",
       "37 2020-12-17 2023-12-31   17     12  2020           0             0   \n",
       "38 2020-12-18 2024-01-31   18     12  2020           0             0   \n",
       "39 2020-12-19 2024-02-29   19     12  2020           0             0   \n",
       "40 2020-12-20 2024-03-31   20     12  2020           0             0   \n",
       "41 2020-12-21 2024-04-30   21     12  2020           0             0   \n",
       "42 2020-12-22 2024-05-31   22     12  2020           0             0   \n",
       "43 2020-12-23 2024-06-30   23     12  2020           0             0   \n",
       "44 2020-12-24 2024-07-31   24     12  2020           0             0   \n",
       "45 2020-12-25 2024-08-31   25     12  2020           0             0   \n",
       "\n",
       "    Start_second  \n",
       "0              0  \n",
       "1              0  \n",
       "2              0  \n",
       "3              0  \n",
       "4              0  \n",
       "5              0  \n",
       "6              0  \n",
       "7              0  \n",
       "8              0  \n",
       "9              0  \n",
       "10             0  \n",
       "11             0  \n",
       "12             0  \n",
       "13             0  \n",
       "14             0  \n",
       "15             0  \n",
       "16             0  \n",
       "17             0  \n",
       "18             0  \n",
       "19             0  \n",
       "20             0  \n",
       "21             0  \n",
       "22             0  \n",
       "23             0  \n",
       "24             0  \n",
       "25             0  \n",
       "26             0  \n",
       "27             0  \n",
       "28             0  \n",
       "29             0  \n",
       "30             0  \n",
       "31             0  \n",
       "32             0  \n",
       "33             0  \n",
       "34             0  \n",
       "35             0  \n",
       "36             0  \n",
       "37             0  \n",
       "38             0  \n",
       "39             0  \n",
       "40             0  \n",
       "41             0  \n",
       "42             0  \n",
       "43             0  \n",
       "44             0  \n",
       "45             0  "
      ]
     },
     "execution_count": 88,
     "metadata": {},
     "output_type": "execute_result"
    }
   ],
   "source": [
    "df['Start_hour'] = df['Start_Date'].dt.hour\n",
    "df['Start_minute'] = df['Start_Date'].dt.minute\n",
    "df['Start_second'] = df['Start_Date'].dt.second\n",
    "df"
   ]
  }
 ],
 "metadata": {
  "kernelspec": {
   "display_name": "Python 3",
   "language": "python",
   "name": "python3"
  },
  "language_info": {
   "codemirror_mode": {
    "name": "ipython",
    "version": 3
   },
   "file_extension": ".py",
   "mimetype": "text/x-python",
   "name": "python",
   "nbconvert_exporter": "python",
   "pygments_lexer": "ipython3",
   "version": "3.10.12"
  }
 },
 "nbformat": 4,
 "nbformat_minor": 5
}
