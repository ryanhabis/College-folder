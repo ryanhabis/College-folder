{
 "cells": [
  {
   "cell_type": "markdown",
   "id": "391cd613",
   "metadata": {},
   "source": [
    "1 Dates, times and datetimes in Python\n",
    "\n",
    "1.1 Dates in Python\n",
    "\n",
    "• Dates and times contain so much information!\n",
    "\n",
    "• Python dates should be in the form YYYY-MM-DD, and they should be a datetime object\n",
    "so that Python recognises them as dates.\n",
    "\n",
    "• For example, 2024-02-21 is the correct format for today’s date.\n",
    "\n",
    "• In Pandas, we use the function pd.to_datetime to convert a date into the correct format.\n",
    "\n",
    "• There is a datetime package in Python dedicated to dealing with datetime objects. It has\n",
    "lots of useful features!"
   ]
  },
  {
   "cell_type": "code",
   "execution_count": 25,
   "id": "96452044",
   "metadata": {},
   "outputs": [
    {
     "name": "stdout",
     "output_type": "stream",
     "text": [
      "2024-02-21\n",
      "2025-10-09\n"
     ]
    }
   ],
   "source": [
    "from datetime import date\n",
    "\n",
    "date_today = date(2024,2,21)\n",
    "print(date_today)\n",
    "\n",
    "date_today = date.today()\n",
    "print(date_today)"
   ]
  },
  {
   "cell_type": "code",
   "execution_count": 26,
   "id": "000d63f4",
   "metadata": {},
   "outputs": [
    {
     "name": "stdout",
     "output_type": "stream",
     "text": [
      "<class 'datetime.date'>\n"
     ]
    }
   ],
   "source": [
    "print(type(date_today))"
   ]
  },
  {
   "cell_type": "code",
   "execution_count": 27,
   "id": "7c907f06",
   "metadata": {},
   "outputs": [
    {
     "data": {
      "text/plain": [
       "datetime.date(2025, 10, 9)"
      ]
     },
     "execution_count": 27,
     "metadata": {},
     "output_type": "execute_result"
    }
   ],
   "source": [
    "date_today"
   ]
  },
  {
   "cell_type": "code",
   "execution_count": 28,
   "id": "eadb31ac",
   "metadata": {},
   "outputs": [
    {
     "name": "stdout",
     "output_type": "stream",
     "text": [
      "The Date: \n",
      "Today 9\n",
      "Month 10\n",
      "Year 2025\n"
     ]
    }
   ],
   "source": [
    "\n",
    "print(\"The Date: \")\n",
    "\n",
    "print(\"Today\", date_today.day)\n",
    "print(\"Month\",date_today.month)\n",
    "print(\"Year\",date_today.year)"
   ]
  },
  {
   "cell_type": "markdown",
   "id": "8de4670e",
   "metadata": {},
   "source": [
    "1.3 Times in datetime\n",
    "\n",
    "Time is in the format hour, minute, seconds, \n",
    "microseconds.\n",
    "\n",
    "(1 microsecond = 1*10^(-6) seconds)"
   ]
  },
  {
   "cell_type": "code",
   "execution_count": 29,
   "id": "6c80eb75",
   "metadata": {},
   "outputs": [
    {
     "name": "stdout",
     "output_type": "stream",
     "text": [
      "14:00:22.000010\n"
     ]
    }
   ],
   "source": [
    "from datetime import time\n",
    "time1 = time(14,0,22,10)\n",
    "print(time1)"
   ]
  },
  {
   "cell_type": "code",
   "execution_count": 30,
   "id": "7eed1a6b",
   "metadata": {},
   "outputs": [
    {
     "name": "stdout",
     "output_type": "stream",
     "text": [
      "<class 'datetime.time'>\n"
     ]
    }
   ],
   "source": [
    "print(type(time1))"
   ]
  },
  {
   "cell_type": "code",
   "execution_count": 31,
   "id": "6397b0ee",
   "metadata": {},
   "outputs": [
    {
     "name": "stdout",
     "output_type": "stream",
     "text": [
      "14\n"
     ]
    }
   ],
   "source": [
    "print(time1.hour)"
   ]
  },
  {
   "cell_type": "code",
   "execution_count": 32,
   "id": "72cf5f2a",
   "metadata": {},
   "outputs": [
    {
     "name": "stdout",
     "output_type": "stream",
     "text": [
      "0\n"
     ]
    }
   ],
   "source": [
    "print(time1.minute)"
   ]
  },
  {
   "cell_type": "code",
   "execution_count": 33,
   "id": "b55062b9",
   "metadata": {},
   "outputs": [
    {
     "name": "stdout",
     "output_type": "stream",
     "text": [
      "22\n"
     ]
    }
   ],
   "source": [
    "print(time1.second)"
   ]
  },
  {
   "cell_type": "code",
   "execution_count": 34,
   "id": "60d355e5",
   "metadata": {},
   "outputs": [
    {
     "name": "stdout",
     "output_type": "stream",
     "text": [
      "10\n"
     ]
    }
   ],
   "source": [
    "print(time1.microsecond)"
   ]
  },
  {
   "cell_type": "markdown",
   "id": "a199c218",
   "metadata": {},
   "source": [
    "1.4 Datetimes in datetime"
   ]
  },
  {
   "cell_type": "code",
   "execution_count": 35,
   "id": "12b6767e",
   "metadata": {},
   "outputs": [
    {
     "data": {
      "text/plain": [
       "datetime.datetime(2024, 2, 21, 19, 30, 5, 10)"
      ]
     },
     "execution_count": 35,
     "metadata": {},
     "output_type": "execute_result"
    }
   ],
   "source": [
    "from datetime import datetime\n",
    "datetime1 = datetime(2024,2,21,19,30,5,10)\n",
    "datetime1"
   ]
  },
  {
   "cell_type": "code",
   "execution_count": 36,
   "id": "4221d079",
   "metadata": {},
   "outputs": [
    {
     "name": "stdout",
     "output_type": "stream",
     "text": [
      "2024-02-21 19:30:05.000010\n"
     ]
    }
   ],
   "source": [
    "print(datetime1)"
   ]
  },
  {
   "cell_type": "code",
   "execution_count": 37,
   "id": "1545ff14",
   "metadata": {},
   "outputs": [
    {
     "name": "stdout",
     "output_type": "stream",
     "text": [
      "<class 'datetime.datetime'>\n"
     ]
    }
   ],
   "source": [
    "print(type(datetime1))"
   ]
  },
  {
   "cell_type": "code",
   "execution_count": 38,
   "id": "5fa43478",
   "metadata": {},
   "outputs": [
    {
     "name": "stdout",
     "output_type": "stream",
     "text": [
      "2024-02-21\n"
     ]
    }
   ],
   "source": [
    "print(datetime1.date())"
   ]
  },
  {
   "cell_type": "code",
   "execution_count": 39,
   "id": "130301ea",
   "metadata": {},
   "outputs": [
    {
     "name": "stdout",
     "output_type": "stream",
     "text": [
      "19:30:05.000010\n"
     ]
    }
   ],
   "source": [
    "print(datetime1.time())"
   ]
  },
  {
   "cell_type": "code",
   "execution_count": 41,
   "id": "d410ce29",
   "metadata": {},
   "outputs": [
    {
     "name": "stdout",
     "output_type": "stream",
     "text": [
      "2024-02-11 15:30:05.000010\n"
     ]
    }
   ],
   "source": [
    "print(datetime1.replace(day=11, hour=15))"
   ]
  },
  {
   "cell_type": "markdown",
   "id": "e018ee45",
   "metadata": {},
   "source": [
    "1.6 Changing format of datetime objects\n",
    "\n",
    "• strptime() creates a DateTime object from a string representing date and time.\n",
    "\n",
    "• It takes two arguments: the date and the format in which your date is present.\n",
    "\n",
    "• Formatting code link: https://docs.python.org/3/library/datetime.html#strftime-andstrptime-format-codes"
   ]
  },
  {
   "cell_type": "code",
   "execution_count": 42,
   "id": "4626d679",
   "metadata": {},
   "outputs": [
    {
     "name": "stdout",
     "output_type": "stream",
     "text": [
      "2024-02-21 19:30:00\n"
     ]
    }
   ],
   "source": [
    "date = '21 February, 2024 19:30:00'\n",
    "python_date = datetime.strptime(date,'%d %B, %Y %H:%M:%S')\n",
    "print(python_date)"
   ]
  },
  {
   "cell_type": "markdown",
   "id": "e7ac4ce4",
   "metadata": {},
   "source": [
    "Use strftime() to format the date into a string representing date and time."
   ]
  },
  {
   "cell_type": "code",
   "execution_count": 43,
   "id": "7230b427",
   "metadata": {},
   "outputs": [
    {
     "name": "stdout",
     "output_type": "stream",
     "text": [
      "21/02/2024 19:30\n"
     ]
    }
   ],
   "source": [
    "formatted_date = python_date.strftime('%d/%m/%Y %H:%M')\n",
    "print(formatted_date)"
   ]
  },
  {
   "cell_type": "markdown",
   "id": "47dac606",
   "metadata": {},
   "source": [
    "Can use strftime() to extract information from the datetime object and print it to the console:"
   ]
  },
  {
   "cell_type": "code",
   "execution_count": 44,
   "id": "ffb82fe8",
   "metadata": {},
   "outputs": [
    {
     "name": "stdout",
     "output_type": "stream",
     "text": [
      "Weekday : Wednesday\n",
      "Month : February\n",
      "Week number : 08\n",
      "Locale's date and time representation : Wed Feb 21 19:30:00 2024\n"
     ]
    }
   ],
   "source": [
    "print('Weekday :', python_date.strftime('%A'))\n",
    "print('Month :', python_date.strftime('%B'))\n",
    "print('Week number :', python_date.strftime('%W'))\n",
    "print(\"Locale's date and time representation :\", python_date.strftime('%c'))"
   ]
  },
  {
   "cell_type": "markdown",
   "id": "9cf7ce6d",
   "metadata": {},
   "source": [
    "### Dates in pandas"
   ]
  },
  {
   "cell_type": "code",
   "execution_count": null,
   "id": "1a2dba44",
   "metadata": {},
   "outputs": [],
   "source": [
    "import pandas as pd\n",
    "date_pandas = pd.to_datetime('21/02/2024', format = '%d/%m/%Y')\n",
    "print(date_pandas)"
   ]
  }
 ],
 "metadata": {
  "kernelspec": {
   "display_name": "Python 3",
   "language": "python",
   "name": "python3"
  },
  "language_info": {
   "codemirror_mode": {
    "name": "ipython",
    "version": 3
   },
   "file_extension": ".py",
   "mimetype": "text/x-python",
   "name": "python",
   "nbconvert_exporter": "python",
   "pygments_lexer": "ipython3",
   "version": "3.10.12"
  }
 },
 "nbformat": 4,
 "nbformat_minor": 5
}
