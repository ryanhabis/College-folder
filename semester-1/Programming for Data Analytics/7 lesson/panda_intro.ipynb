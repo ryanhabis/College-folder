{
 "cells": [
  {
   "cell_type": "markdown",
   "id": "fe225ea1",
   "metadata": {},
   "source": [
    "# Pandas Library\n",
    "## Series, DataFrames and reading in flat files\n",
    "Pandas is the most popular Python library for data analysis!\n",
    "\n",
    "It is for tabular datasets.\n",
    "\n",
    "It is built on the Numpy package.\n",
    "\n",
    "The convention is to import pandas using the following code: import pandas as pd\n",
    "Pandas uses two core objects: DataFrame and Series .\n",
    "\n",
    "A DataFrame is like a table, a Series is like a list.\n",
    "\n",
    "DataFrames are really useful for data analysis.\n",
    "\n",
    "## Creating a Pandas Series\n",
    "A series is like a table with a single column.\n",
    "\n",
    "Lets create a series with Pandas library. Don't forget to import pandas first!"
   ]
  },
  {
   "cell_type": "code",
   "execution_count": 15,
   "id": "72fa9110",
   "metadata": {},
   "outputs": [
    {
     "name": "stderr",
     "output_type": "stream",
     "text": [
      "791.81s - pydevd: Sending message related to process being replaced timed-out after 5 seconds\n"
     ]
    },
    {
     "name": "stdout",
     "output_type": "stream",
     "text": [
      "Defaulting to user installation because normal site-packages is not writeable\n",
      "Requirement already satisfied: pandas in /home/ryanhabis/.local/lib/python3.10/site-packages (2.3.2)\n",
      "Requirement already satisfied: pytz>=2020.1 in /usr/lib/python3/dist-packages (from pandas) (2022.1)\n",
      "Requirement already satisfied: tzdata>=2022.7 in /home/ryanhabis/.local/lib/python3.10/site-packages (from pandas) (2025.2)\n",
      "Requirement already satisfied: python-dateutil>=2.8.2 in /home/ryanhabis/.local/lib/python3.10/site-packages (from pandas) (2.9.0.post0)\n",
      "Requirement already satisfied: numpy>=1.22.4 in /home/ryanhabis/.local/lib/python3.10/site-packages (from pandas) (2.2.6)\n",
      "Requirement already satisfied: six>=1.5 in /usr/lib/python3/dist-packages (from python-dateutil>=2.8.2->pandas) (1.16.0)\n"
     ]
    }
   ],
   "source": [
    "!pip install pandas # to install pandas"
   ]
  },
  {
   "cell_type": "code",
   "execution_count": 16,
   "id": "2ad0aa79",
   "metadata": {},
   "outputs": [],
   "source": [
    "# command to import pandas\n",
    "\n",
    "import pandas as pd # where alias is pd, which we will use in the rest of the jupyter notebook to ref"
   ]
  },
  {
   "cell_type": "markdown",
   "id": "bce587e2",
   "metadata": {},
   "source": [
    "To create a series use pd.Series()"
   ]
  },
  {
   "cell_type": "code",
   "execution_count": 17,
   "id": "7fae9af2",
   "metadata": {},
   "outputs": [],
   "source": [
    "# create a Series\n",
    "mySeries = pd.Series([1, 3, 5, 7, 9, 11, 13, 15, 17])"
   ]
  },
  {
   "cell_type": "code",
   "execution_count": 18,
   "id": "93206342",
   "metadata": {},
   "outputs": [
    {
     "name": "stdout",
     "output_type": "stream",
     "text": [
      "<class 'pandas.core.series.Series'>\n"
     ]
    }
   ],
   "source": [
    "print(type(mySeries))"
   ]
  },
  {
   "cell_type": "code",
   "execution_count": 19,
   "id": "0bdf2354",
   "metadata": {},
   "outputs": [
    {
     "name": "stdout",
     "output_type": "stream",
     "text": [
      "0     1\n",
      "1     3\n",
      "2     5\n",
      "3     7\n",
      "4     9\n",
      "5    11\n",
      "6    13\n",
      "7    15\n",
      "8    17\n",
      "dtype: int64\n"
     ]
    }
   ],
   "source": [
    "print(mySeries)"
   ]
  },
  {
   "cell_type": "markdown",
   "id": "2bbbe361",
   "metadata": {},
   "source": [
    "A Series is like a single column of a DataFrame.\n",
    "\n",
    "Series can have ‘index’ names but only one ‘name’.\n",
    "\n",
    "Example:"
   ]
  },
  {
   "cell_type": "code",
   "execution_count": 20,
   "id": "0bd4170a",
   "metadata": {},
   "outputs": [
    {
     "data": {
      "text/plain": [
       "2016    10500\n",
       "2017    13850\n",
       "2018    15000\n",
       "2019    23750\n",
       "Name: Sales, dtype: int64"
      ]
     },
     "execution_count": 20,
     "metadata": {},
     "output_type": "execute_result"
    }
   ],
   "source": [
    "mySeries = pd.Series( [10500, 13850, 15000, 23750],\n",
    " index = [ \"2016\", \"2017\", \"2018\", \"2019\" ],\n",
    " name = \"Sales\")\n",
    "mySeries"
   ]
  },
  {
   "cell_type": "markdown",
   "id": "9844f35d",
   "metadata": {},
   "source": [
    "## Pandas Series and DataFrame\n",
    "\n",
    "We can think of a Series as a single column of a DataFrame.\n",
    "\n",
    "We think of a DataFrame as a collection of Series glued together in columns.\n",
    "\n",
    "Series can have ‘index’ names but only one ‘name’. This ‘name’ is the column name in the DataFrame.\n",
    "\n",
    "DataFrames can contain different data types in the different columns.\n",
    "\n",
    "## Creating a Pandas DataFrame\n",
    "\n",
    "DataFrames can be created in two ways:\n",
    "1. From a list of dictionaries (row by row).\n",
    "2. From a dictionary of lists (column by column).\n",
    "\n",
    "Each of these methods is outlined in the following cells.\n",
    "\n",
    "DataFrames can be read in from files using Pandas commands. We will see some of these commands later in the\n",
    "lecture.\n",
    "\n",
    "\n",
    "## Creating a Pandas DataFrame from a list of dictionaries (row by row)\n",
    "\n",
    "t_of_dicts = [\n",
    "\n",
    " { “colname_1”: r1c1, “colname_2”: r1c2,…, “colname_n”: r1cn },\n",
    "\n",
    " { “colname_1”: r2c1, “colname_2”: r2c2,…, “colname_n”: r2cn},\n",
    " \n",
    " …\n",
    " \n",
    " { “colname_1”: rmc1, “colname_2”: rmc2,…, “colname_n”: rmcn}\n",
    " ]"
   ]
  },
  {
   "cell_type": "code",
   "execution_count": 26,
   "id": "97d23ce5",
   "metadata": {},
   "outputs": [
    {
     "name": "stdout",
     "output_type": "stream",
     "text": [
      "[{'country': 'Ireland', 'capital': 'Dublin', 'Currency': 'Euro'}, {'country': 'France', 'capital': 'Paris', 'Currency': 'Euro'}, {'country': 'Germany', 'capital': 'Berlin', 'Currency': 'Euro'}, {'country': 'Italy', 'capital': 'Rome', 'Currency': 'Euro'}, {'country': 'Spain', 'capital': 'Madrid', 'Currency': 'Euro'}]\n"
     ]
    }
   ],
   "source": [
    "list_countries = [{\"country\":\"Ireland\", \"capital\":\"Dublin\", \"Currency\":\"Euro\"},\n",
    "                  {\"country\":\"France\", \"capital\":\"Paris\", \"Currency\":\"Euro\"},\n",
    "                  {\"country\":\"Germany\", \"capital\":\"Berlin\", \"Currency\":\"Euro\"},\n",
    "                  {\"country\":\"Italy\", \"capital\":\"Rome\", \"Currency\":\"Euro\"},\n",
    "                   {\"country\":\"Spain\", \"capital\":\"Madrid\", \"Currency\":\"Euro\"}]\n",
    "print(list_countries)"
   ]
  },
  {
   "cell_type": "code",
   "execution_count": 27,
   "id": "62bd80e2",
   "metadata": {},
   "outputs": [
    {
     "data": {
      "text/html": [
       "<div>\n",
       "<style scoped>\n",
       "    .dataframe tbody tr th:only-of-type {\n",
       "        vertical-align: middle;\n",
       "    }\n",
       "\n",
       "    .dataframe tbody tr th {\n",
       "        vertical-align: top;\n",
       "    }\n",
       "\n",
       "    .dataframe thead th {\n",
       "        text-align: right;\n",
       "    }\n",
       "</style>\n",
       "<table border=\"1\" class=\"dataframe\">\n",
       "  <thead>\n",
       "    <tr style=\"text-align: right;\">\n",
       "      <th></th>\n",
       "      <th>country</th>\n",
       "      <th>capital</th>\n",
       "      <th>Currency</th>\n",
       "    </tr>\n",
       "  </thead>\n",
       "  <tbody>\n",
       "    <tr>\n",
       "      <th>0</th>\n",
       "      <td>Ireland</td>\n",
       "      <td>Dublin</td>\n",
       "      <td>Euro</td>\n",
       "    </tr>\n",
       "    <tr>\n",
       "      <th>1</th>\n",
       "      <td>France</td>\n",
       "      <td>Paris</td>\n",
       "      <td>Euro</td>\n",
       "    </tr>\n",
       "    <tr>\n",
       "      <th>2</th>\n",
       "      <td>Germany</td>\n",
       "      <td>Berlin</td>\n",
       "      <td>Euro</td>\n",
       "    </tr>\n",
       "    <tr>\n",
       "      <th>3</th>\n",
       "      <td>Italy</td>\n",
       "      <td>Rome</td>\n",
       "      <td>Euro</td>\n",
       "    </tr>\n",
       "    <tr>\n",
       "      <th>4</th>\n",
       "      <td>Spain</td>\n",
       "      <td>Madrid</td>\n",
       "      <td>Euro</td>\n",
       "    </tr>\n",
       "  </tbody>\n",
       "</table>\n",
       "</div>"
      ],
      "text/plain": [
       "   country capital Currency\n",
       "0  Ireland  Dublin     Euro\n",
       "1   France   Paris     Euro\n",
       "2  Germany  Berlin     Euro\n",
       "3    Italy    Rome     Euro\n",
       "4    Spain  Madrid     Euro"
      ]
     },
     "metadata": {},
     "output_type": "display_data"
    }
   ],
   "source": [
    "countries = pd.DataFrame(list_countries)\n",
    "display(countries)"
   ]
  },
  {
   "cell_type": "code",
   "execution_count": null,
   "id": "d43609be",
   "metadata": {},
   "outputs": [
    {
     "name": "stdout",
     "output_type": "stream",
     "text": [
      "a    1\n",
      "b    3\n",
      "c    5\n",
      "d    7\n",
      "e    9\n",
      "dtype: int64\n"
     ]
    }
   ],
   "source": [
    "sereies = pd.Series([1, 3, 5, 7, 9], index=['a', 'b', 'c', 'd', 'e']    )\n",
    "print(sereies)\n"
   ]
  }
 ],
 "metadata": {
  "kernelspec": {
   "display_name": "Python 3",
   "language": "python",
   "name": "python3"
  },
  "language_info": {
   "codemirror_mode": {
    "name": "ipython",
    "version": 3
   },
   "file_extension": ".py",
   "mimetype": "text/x-python",
   "name": "python",
   "nbconvert_exporter": "python",
   "pygments_lexer": "ipython3",
   "version": "3.10.12"
  }
 },
 "nbformat": 4,
 "nbformat_minor": 5
}
