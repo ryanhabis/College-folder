{
 "cells": [
  {
   "cell_type": "markdown",
   "id": "7c3fcc45",
   "metadata": {},
   "source": [
    "Creating a function in Python "
   ]
  },
  {
   "cell_type": "code",
   "execution_count": 137,
   "id": "d9a7f297",
   "metadata": {},
   "outputs": [],
   "source": [
    "def functionName(my_name, age):\n",
    "    print(f\"Hello {my_name}, you are {2*age} years old.\")\n"
   ]
  },
  {
   "cell_type": "markdown",
   "id": "3e80eb31",
   "metadata": {},
   "source": [
    "Calling function and passing name Ryan."
   ]
  },
  {
   "cell_type": "code",
   "execution_count": 138,
   "id": "b216b545",
   "metadata": {},
   "outputs": [
    {
     "name": "stdout",
     "output_type": "stream",
     "text": [
      "Hello Ryan, you are 38 years old.\n"
     ]
    }
   ],
   "source": [
    "# This is calling the function and passing the name Ryan.\n",
    "functionName(\"Ryan\" , 19)\n"
   ]
  },
  {
   "cell_type": "code",
   "execution_count": 139,
   "id": "e7f80027",
   "metadata": {},
   "outputs": [],
   "source": [
    "def add(a, b):\n",
    "    return a + b\n",
    "\n",
    "def subtract(a, b):\n",
    "    return a - b\n",
    "\n",
    "def multiply(a, b):\n",
    "    return a * b\n",
    "\n",
    "def divide(a, b):\n",
    "    return a / b\n",
    "\n",
    "def modulus(a, b):\n",
    "    return a % b\n",
    "\n",
    "def exponent(a, b):\n",
    "    return a ** b\n",
    "\n",
    "def floor_divide(a, b):\n",
    "    return a // b"
   ]
  },
  {
   "cell_type": "markdown",
   "id": "81106b20",
   "metadata": {},
   "source": [
    "Creating a simple calculator."
   ]
  },
  {
   "cell_type": "code",
   "execution_count": 140,
   "id": "99c01ce6",
   "metadata": {},
   "outputs": [
    {
     "name": "stdout",
     "output_type": "stream",
     "text": [
      "Addition:         8\n",
      "Subtraction:      2\n",
      "Multiplication:   15\n",
      "Division:         1.6666666666666667\n",
      "Modulus:          2\n",
      "Exponentiation:   125\n",
      "Floor Division:   1\n"
     ]
    }
   ],
   "source": [
    "# Simple Calculator Program\n",
    "\n",
    "print(\"Addition:        \", add(5, 3))\n",
    "print(\"Subtraction:     \", subtract(5, 3))\n",
    "print(\"Multiplication:  \", multiply(5, 3))\n",
    "print(\"Division:        \", divide(5, 3))\n",
    "print(\"Modulus:         \", modulus(5, 3))\n",
    "print(\"Exponentiation:  \", exponent(5, 3))\n",
    "print(\"Floor Division:  \", floor_divide(5, 3))\n"
   ]
  },
  {
   "cell_type": "markdown",
   "id": "e94af1a7",
   "metadata": {},
   "source": [
    "Creating a calculator with user input using a scanner."
   ]
  },
  {
   "cell_type": "code",
   "execution_count": 141,
   "id": "4b804ed1",
   "metadata": {},
   "outputs": [
    {
     "name": "stdout",
     "output_type": "stream",
     "text": [
      "Addition:         0\n",
      "Subtraction:      0\n",
      "Multiplication:   0\n"
     ]
    },
    {
     "ename": "ZeroDivisionError",
     "evalue": "division by zero",
     "output_type": "error",
     "traceback": [
      "\u001b[0;31m---------------------------------------------------------------------------\u001b[0m",
      "\u001b[0;31mZeroDivisionError\u001b[0m                         Traceback (most recent call last)",
      "Cell \u001b[0;32mIn[141], line 9\u001b[0m\n\u001b[1;32m      7\u001b[0m \u001b[38;5;28mprint\u001b[39m(\u001b[38;5;124m\"\u001b[39m\u001b[38;5;124mSubtraction:     \u001b[39m\u001b[38;5;124m\"\u001b[39m, subtract(a, b))\n\u001b[1;32m      8\u001b[0m \u001b[38;5;28mprint\u001b[39m(\u001b[38;5;124m\"\u001b[39m\u001b[38;5;124mMultiplication:  \u001b[39m\u001b[38;5;124m\"\u001b[39m, multiply(a, b))\n\u001b[0;32m----> 9\u001b[0m \u001b[38;5;28mprint\u001b[39m(\u001b[38;5;124m\"\u001b[39m\u001b[38;5;124mDivision:        \u001b[39m\u001b[38;5;124m\"\u001b[39m, \u001b[43mdivide\u001b[49m\u001b[43m(\u001b[49m\u001b[43ma\u001b[49m\u001b[43m,\u001b[49m\u001b[43m \u001b[49m\u001b[43mb\u001b[49m\u001b[43m)\u001b[49m)\n\u001b[1;32m     10\u001b[0m \u001b[38;5;28mprint\u001b[39m(\u001b[38;5;124m\"\u001b[39m\u001b[38;5;124mModulus:         \u001b[39m\u001b[38;5;124m\"\u001b[39m, modulus(a, b))\n\u001b[1;32m     11\u001b[0m \u001b[38;5;28mprint\u001b[39m(\u001b[38;5;124m\"\u001b[39m\u001b[38;5;124mExponentiation:  \u001b[39m\u001b[38;5;124m\"\u001b[39m, exponent(a, b))\n",
      "Cell \u001b[0;32mIn[139], line 11\u001b[0m, in \u001b[0;36mdivide\u001b[0;34m(a, b)\u001b[0m\n\u001b[1;32m     10\u001b[0m \u001b[38;5;28;01mdef\u001b[39;00m\u001b[38;5;250m \u001b[39m\u001b[38;5;21mdivide\u001b[39m(a, b):\n\u001b[0;32m---> 11\u001b[0m     \u001b[38;5;28;01mreturn\u001b[39;00m \u001b[43ma\u001b[49m\u001b[43m \u001b[49m\u001b[38;5;241;43m/\u001b[39;49m\u001b[43m \u001b[49m\u001b[43mb\u001b[49m\n",
      "\u001b[0;31mZeroDivisionError\u001b[0m: division by zero"
     ]
    }
   ],
   "source": [
    "# Simple Calculator Program with User Input\n",
    "\n",
    "a = int(input(\"Enter the first number: \"))\n",
    "b = int(input(\"Enter the second number: \"))\n",
    "\n",
    "print(\"Addition:        \", add(a, b))\n",
    "print(\"Subtraction:     \", subtract(a, b))\n",
    "print(\"Multiplication:  \", multiply(a, b))\n",
    "print(\"Division:        \", divide(a, b))\n",
    "print(\"Modulus:         \", modulus(a, b))\n",
    "print(\"Exponentiation:  \", exponent(a, b))\n",
    "print(\"Floor Division:  \", floor_divide(a, b))"
   ]
  },
  {
   "cell_type": "markdown",
   "id": "a17a4f0b",
   "metadata": {},
   "source": [
    "Can't do this in java XD"
   ]
  },
  {
   "cell_type": "code",
   "execution_count": null,
   "id": "645a512e",
   "metadata": {},
   "outputs": [],
   "source": [
    "copy_cat = \"cat\" * 5"
   ]
  },
  {
   "cell_type": "markdown",
   "id": "2f518b50",
   "metadata": {},
   "source": [
    "Exersice question"
   ]
  },
  {
   "cell_type": "code",
   "execution_count": null,
   "id": "18ee0d90",
   "metadata": {},
   "outputs": [
    {
     "name": "stdout",
     "output_type": "stream",
     "text": [
      "12\n"
     ]
    }
   ],
   "source": [
    "def function1(num1, num2, num3):\n",
    "    return num1 + num2 - num3\n",
    "\n",
    "# Example usage:\n",
    "result1 = function1(10, 5, 3)\n",
    "print(result1)\n",
    "\n"
   ]
  },
  {
   "cell_type": "code",
   "execution_count": null,
   "id": "1717329d",
   "metadata": {},
   "outputs": [],
   "source": [
    "def function2(num, squared):\n",
    "\n",
    "    squared = pow(num, 2)\n",
    "\n",
    "    return squared"
   ]
  },
  {
   "cell_type": "code",
   "execution_count": null,
   "id": "1d2b77c5",
   "metadata": {},
   "outputs": [
    {
     "name": "stdout",
     "output_type": "stream",
     "text": [
      "1296\n"
     ]
    }
   ],
   "source": [
    "print(function2(36, 2))"
   ]
  },
  {
   "cell_type": "code",
   "execution_count": null,
   "id": "09f2075e",
   "metadata": {},
   "outputs": [],
   "source": [
    "def function3(num, num2, num3):\n",
    "    answer = (num * num2) % num3\n",
    "    return answer"
   ]
  },
  {
   "cell_type": "code",
   "execution_count": null,
   "id": "18f8254c",
   "metadata": {},
   "outputs": [
    {
     "name": "stdout",
     "output_type": "stream",
     "text": [
      "3\n"
     ]
    }
   ],
   "source": [
    "print(function3(24, 365, 7))"
   ]
  },
  {
   "cell_type": "code",
   "execution_count": null,
   "id": "adc62f74",
   "metadata": {},
   "outputs": [],
   "source": [
    "def function4(n_weeks):\n",
    "    return f\"There are {n_weeks} weeks in a year\""
   ]
  },
  {
   "cell_type": "code",
   "execution_count": null,
   "id": "969bf6c3",
   "metadata": {},
   "outputs": [
    {
     "data": {
      "text/plain": [
       "'There are 52 weeks in a year'"
      ]
     },
     "execution_count": 107,
     "metadata": {},
     "output_type": "execute_result"
    }
   ],
   "source": [
    "function4(52)"
   ]
  },
  {
   "cell_type": "code",
   "execution_count": null,
   "id": "b0be12f3",
   "metadata": {},
   "outputs": [],
   "source": [
    "def function5():\n",
    "    a = \" Hello\"\n",
    "    b = \"World \"\n",
    "    return(a + b)*7"
   ]
  },
  {
   "cell_type": "code",
   "execution_count": null,
   "id": "8d5abbde",
   "metadata": {},
   "outputs": [
    {
     "data": {
      "text/plain": [
       "' HelloWorld  HelloWorld  HelloWorld  HelloWorld  HelloWorld  HelloWorld  HelloWorld '"
      ]
     },
     "execution_count": 111,
     "metadata": {},
     "output_type": "execute_result"
    }
   ],
   "source": [
    "function5()"
   ]
  },
  {
   "cell_type": "markdown",
   "id": "4f2d798a",
   "metadata": {},
   "source": [
    "creating a list"
   ]
  },
  {
   "cell_type": "code",
   "execution_count": null,
   "id": "a47ebfaf",
   "metadata": {},
   "outputs": [],
   "source": [
    "def function6(num, num2, num3, num4, num5):\n",
    "    return [num, num2, num3, num4, num5]\n"
   ]
  },
  {
   "cell_type": "code",
   "execution_count": null,
   "id": "7f698276",
   "metadata": {},
   "outputs": [
    {
     "data": {
      "text/plain": [
       "[1, 2, 3, 4, 5]"
      ]
     },
     "execution_count": 114,
     "metadata": {},
     "output_type": "execute_result"
    }
   ],
   "source": [
    "function6(1, 2, 3, 4, 5)\n"
   ]
  },
  {
   "cell_type": "markdown",
   "id": "88c26c95",
   "metadata": {},
   "source": [
    "creating a list that asks the user for input until they say done."
   ]
  },
  {
   "cell_type": "code",
   "execution_count": null,
   "id": "36d421bc",
   "metadata": {},
   "outputs": [
    {
     "name": "stdout",
     "output_type": "stream",
     "text": [
      "Your list: ['1', '2', '3', '4', '5', '6']\n"
     ]
    }
   ],
   "source": [
    "# Create a list by asking the user for values in a loop\n",
    "\n",
    "user_list = []\n",
    "while True:\n",
    "    value = input(\"Enter a value (or type 'done' to finish): \")\n",
    "    if value.lower() == 'done':\n",
    "        break\n",
    "    user_list.append(value)\n",
    "\n",
    "print(\"Your list:\", user_list)"
   ]
  },
  {
   "cell_type": "code",
   "execution_count": null,
   "id": "58a19b75",
   "metadata": {},
   "outputs": [],
   "source": [
    "def user_option(choice):\n",
    "    fruits = ['orange', 'apple', 'pear', 'banana', 'kiwi', 'apple', 'banana']\n",
    "\n",
    "\n",
    "    while True:\n",
    "        print(\"\\nChoose an option:\")\n",
    "        print(\"1. Count occurrences of 'apple'\")\n",
    "        print(\"2. Count occurrences of 'tangerine'\")\n",
    "        print(\"3. Find index of 'banana'\")\n",
    "        print(\"4. Find next 'banana' starting at position 4\")\n",
    "        print(\"5. Reverse the list\")\n",
    "        print(\"6. Append 'grape'\")\n",
    "        print(\"7. Sort the list\")\n",
    "        print(\"8. Pop last item\")\n",
    "        print(\"9. Show current list\")\n",
    "        print(\"0. Exit\")\n",
    "        choice = input(\"Enter your choice: \")\n",
    "\n",
    "        if choice == '1':\n",
    "            print(fruits.count('apple'))\n",
    "        elif choice == '2':\n",
    "            print(fruits.count('tangerine'))\n",
    "        elif choice == '3':\n",
    "            print(fruits.index('banana'))\n",
    "        elif choice == '4':\n",
    "            print(fruits.index('banana', 4))\n",
    "        elif choice == '5':\n",
    "            fruits.reverse()\n",
    "            print(\"List reversed.\")\n",
    "        elif choice == '6':\n",
    "            fruits.append('grape')\n",
    "            print(\"'grape' appended.\")\n",
    "        elif choice == '7':\n",
    "            fruits.sort()\n",
    "            print(\"List sorted.\")\n",
    "        elif choice == '8':\n",
    "            popped = fruits.pop()\n",
    "            print(f\"Popped item: {popped}\")\n",
    "        elif choice == '9':\n",
    "            print(fruits)\n",
    "        elif choice == '0':\n",
    "            break\n",
    "        else:\n",
    "            print(\"Invalid choice. Try again.\")"
   ]
  },
  {
   "cell_type": "code",
   "execution_count": null,
   "id": "9d9ae5ba",
   "metadata": {},
   "outputs": [
    {
     "name": "stdout",
     "output_type": "stream",
     "text": [
      "\n",
      "Choose an option:\n",
      "1. Count occurrences of 'apple'\n",
      "2. Count occurrences of 'tangerine'\n",
      "3. Find index of 'banana'\n",
      "4. Find next 'banana' starting at position 4\n",
      "5. Reverse the list\n",
      "6. Append 'grape'\n",
      "7. Sort the list\n",
      "8. Pop last item\n",
      "9. Show current list\n",
      "0. Exit\n",
      "2\n",
      "\n",
      "Choose an option:\n",
      "1. Count occurrences of 'apple'\n",
      "2. Count occurrences of 'tangerine'\n",
      "3. Find index of 'banana'\n",
      "4. Find next 'banana' starting at position 4\n",
      "5. Reverse the list\n",
      "6. Append 'grape'\n",
      "7. Sort the list\n",
      "8. Pop last item\n",
      "9. Show current list\n",
      "0. Exit\n"
     ]
    }
   ],
   "source": [
    "user_option(choice)"
   ]
  },
  {
   "cell_type": "code",
   "execution_count": null,
   "id": "53dda256",
   "metadata": {},
   "outputs": [
    {
     "name": "stdout",
     "output_type": "stream",
     "text": [
      "[[15, 5, 63, 79], [43, 93, 80, 73], [78, 29, 59, 44], [15, 48, 5, 27], [28, 63, 13, 38]]\n"
     ]
    }
   ],
   "source": [
    "import random\n",
    "\n",
    "nested_list = []\n",
    "for _ in range(5):\n",
    "    inner_list = [random.randint(1, 100) for _ in range(4)]\n",
    "    nested_list.append(inner_list)\n",
    "\n",
    "print(nested_list)"
   ]
  },
  {
   "cell_type": "code",
   "execution_count": null,
   "id": "99bfd32c",
   "metadata": {},
   "outputs": [
    {
     "name": "stdout",
     "output_type": "stream",
     "text": [
      "(['Alice', 'Bob', 'Charlie', 'David', 'Eva'], [28, 34, 23, 45, 30])\n",
      "[('Alice', 28), ('Bob', 34), ('Charlie', 23), ('David', 45), ('Eva', 30)]\n"
     ]
    }
   ],
   "source": [
    "people_names = [\"Alice\", \"Bob\", \"Charlie\", \"David\", \"Eva\"]\n",
    "people_ages = [28, 34, 23, 45, 30]\n",
    "people_age  = list(zip(people_names, people_ages))\n",
    "\n",
    "people= people_names, people_ages\n",
    "\n",
    "#people alone \n",
    "print(people)\n",
    "\n",
    "#people combined with age\n",
    "print(people_age)"
   ]
  },
  {
   "cell_type": "code",
   "execution_count": 13,
   "id": "160dfecf",
   "metadata": {},
   "outputs": [],
   "source": [
    "def get_people_name():\n",
    "    people_names = [\"Alice\", \"Bob\", \"Charlie\", \"David\", \"Eva\"]\n",
    "    return people_names\n",
    "\n"
   ]
  },
  {
   "cell_type": "code",
   "execution_count": null,
   "id": "bafc54d1",
   "metadata": {},
   "outputs": [
    {
     "name": "stdout",
     "output_type": "stream",
     "text": [
      "Alice is in the list\n",
      "Rocky is not found\n"
     ]
    }
   ],
   "source": [
    "if \"Alice\" in get_people_name():\n",
    "    print(\"Alice is in the list\")\n",
    "else:\n",
    "    print(\"she was not found\")\n",
    "\n",
    "if \"Rocky\" in get_people_name():\n",
    "    print(\"Rocky is in the list\")\n",
    "else:\n",
    "    print(\"Rocky is not found\")\n",
    "    \n",
    "\n",
    "\n"
   ]
  },
  {
   "cell_type": "code",
   "execution_count": null,
   "id": "3b3eb6bb",
   "metadata": {},
   "outputs": [
    {
     "name": "stdout",
     "output_type": "stream",
     "text": [
      "============================================================\n",
      "PYTHON LISTS - COMPLETE TUTORIAL\n",
      "============================================================\n",
      "\n",
      "1. CREATING LISTS\n",
      "----------------------------------------\n",
      "Empty list: []\n",
      "String list: ['apple', 'banana', 'cherry']\n",
      "Mixed types: [1, 'hello', 3.14, True]\n",
      "Using list(): [0, 1, 2, 3, 4]\n",
      "List comprehension: [0, 1, 4, 9, 16]\n",
      "\n",
      "2. ACCESSING ELEMENTS\n",
      "----------------------------------------\n",
      "Colors list: ['red', 'green', 'blue', 'yellow', 'purple']\n",
      "First element: red\n",
      "Last element: purple\n",
      "Third element: blue\n",
      "First three: ['red', 'green', 'blue']\n",
      "Last two: ['yellow', 'purple']\n",
      "Middle three: ['green', 'blue', 'yellow']\n",
      "Every other: ['red', 'blue', 'purple']\n",
      "Reversed: ['purple', 'yellow', 'blue', 'green', 'red']\n",
      "\n",
      "3. MODIFYING LISTS\n",
      "----------------------------------------\n",
      "After changing index 1: ['red', 'emerald', 'blue', 'yellow', 'purple']\n",
      "After append: ['red', 'emerald', 'blue', 'yellow', 'purple', 'orange']\n",
      "After insert at index 2: ['red', 'emerald', 'pink', 'blue', 'yellow', 'purple', 'orange']\n",
      "After extend: ['red', 'emerald', 'pink', 'blue', 'yellow', 'purple', 'orange', 'cyan', 'magenta']\n",
      "\n",
      "4. REMOVING ELEMENTS\n",
      "----------------------------------------\n",
      "After pop(): ['red', 'emerald', 'pink', 'blue', 'yellow', 'purple', 'orange', 'cyan'] (removed: magenta)\n",
      "After pop(3): ['red', 'emerald', 'pink', 'yellow', 'purple', 'orange', 'cyan'] (removed: blue)\n",
      "After remove('pink'): ['red', 'emerald', 'yellow', 'purple', 'orange', 'cyan']\n",
      "After del colors[0:2]: ['yellow', 'purple', 'orange', 'cyan']\n",
      "After clear(): []\n",
      "\n",
      "5. LIST OPERATIONS\n",
      "----------------------------------------\n",
      "Concatenation: [1, 2, 3] + [4, 5, 6] = [1, 2, 3, 4, 5, 6]\n",
      "Repetition: [1, 2, 3] * 3 = [1, 2, 3, 1, 2, 3, 1, 2, 3]\n",
      "2 in [1, 2, 3]: True\n",
      "7 in [1, 2, 3]: False\n",
      "\n",
      "6. LIST METHODS\n",
      "----------------------------------------\n",
      "Demo list: [3, 1, 4, 1, 5, 9, 2, 6]\n",
      "Count of 1: 2\n",
      "Index of 5: 4\n",
      "After sort(): [1, 1, 2, 3, 4, 5, 6, 9]\n",
      "After sort(reverse=True): [9, 6, 5, 4, 3, 2, 1, 1]\n",
      "After reverse(): [1, 1, 2, 3, 4, 5, 6, 9]\n",
      "Copy: [1, 1, 2, 3, 4, 5, 6, 9]\n",
      "\n",
      "7. LIST COMPREHENSIONS\n",
      "----------------------------------------\n",
      "Even squares: [0, 4, 16, 36, 64]\n",
      "Categorized: ['odd', 'even', 'odd', 'even', 'odd', 'even']\n",
      "Flattened matrix: [1, 2, 3, 4, 5, 6, 7, 8, 9]\n",
      "\n",
      "8. MULTIDIMENSIONAL LISTS\n",
      "----------------------------------------\n",
      "2D Matrix:\n",
      "  [1, 2, 3]\n",
      "  [4, 5, 6]\n",
      "  [7, 8, 9]\n",
      "Element at [1][2]: 6\n",
      "3D element at [0][1][0]: 3\n",
      "\n",
      "9. ITERATING OVER LISTS\n",
      "----------------------------------------\n",
      "Using for loop:\n",
      "  - apple\n",
      "  - banana\n",
      "  - cherry\n",
      "Using enumerate:\n",
      "  0: apple\n",
      "  1: banana\n",
      "  2: cherry\n",
      "Using while loop:\n",
      "  0: apple\n",
      "  1: banana\n",
      "  2: cherry\n",
      "\n",
      "10. USEFUL LIST FUNCTIONS\n",
      "----------------------------------------\n",
      "Sample list: [5, 2, 8, 1, 9]\n",
      "Length: 5\n",
      "Minimum: 1\n",
      "Maximum: 9\n",
      "Sum: 25\n",
      "Sorted (new list): [1, 2, 5, 8, 9]\n",
      "Original unchanged: [5, 2, 8, 1, 9]\n",
      "\n",
      "11. COMMON LIST PATTERNS\n",
      "----------------------------------------\n",
      "Even numbers: [2, 4, 6, 8, 10]\n",
      "Doubled numbers: [2, 4, 6, 8, 10, 12, 14, 16, 18, 20]\n",
      "Zipped: [('Alice', 85), ('Bob', 92), ('Charlie', 78)]\n",
      "Unzipped names: ('Alice', 'Bob', 'Charlie')\n",
      "Unzipped scores: (85, 92, 78)\n",
      "\n",
      "12. MEMORY AND REFERENCES\n",
      "----------------------------------------\n",
      "Original: [1, 2, 3, 4]\n",
      "Reference: [1, 2, 3, 4] (changed!)\n",
      "Copy: [1, 2, 3] (unchanged)\n",
      "original is reference: True\n",
      "original is copy_list: False\n",
      "\n",
      "============================================================\n",
      "LIST TUTORIAL COMPLETE!\n",
      "============================================================\n"
     ]
    }
   ],
   "source": [
    "def list_tutorial():\n",
    "    print(\"=\" * 60)\n",
    "    print(\"PYTHON LISTS - COMPLETE TUTORIAL\")\n",
    "    print(\"=\" * 60)\n",
    "    \n",
    "    # 1. CREATING LISTS\n",
    "    print(\"\\n1. CREATING LISTS\")\n",
    "    print(\"-\" * 40)\n",
    "    \n",
    "    # Empty list\n",
    "    empty_list = []\n",
    "    print(f\"Empty list: {empty_list}\")\n",
    "    \n",
    "    # List with elements\n",
    "    fruits = [\"apple\", \"banana\", \"cherry\"]\n",
    "    print(f\"String list: {fruits}\")\n",
    "    \n",
    "    # Mixed data types\n",
    "    mixed_list = [1, \"hello\", 3.14, True]\n",
    "    print(f\"Mixed types: {mixed_list}\")\n",
    "    \n",
    "    # Using list constructor\n",
    "    numbers = list(range(5))\n",
    "    print(f\"Using list(): {numbers}\")\n",
    "    \n",
    "    # List comprehension\n",
    "    squares = [x**2 for x in range(5)]\n",
    "    print(f\"List comprehension: {squares}\")\n",
    "\n",
    "    # 2. ACCESSING ELEMENTS\n",
    "    print(\"\\n2. ACCESSING ELEMENTS\")\n",
    "    print(\"-\" * 40)\n",
    "    \n",
    "    colors = [\"red\", \"green\", \"blue\", \"yellow\", \"purple\"]\n",
    "    print(f\"Colors list: {colors}\")\n",
    "    \n",
    "    # Indexing\n",
    "    print(f\"First element: {colors[0]}\")\n",
    "    print(f\"Last element: {colors[-1]}\")\n",
    "    print(f\"Third element: {colors[2]}\")\n",
    "    \n",
    "    # Slicing\n",
    "    print(f\"First three: {colors[:3]}\")\n",
    "    print(f\"Last two: {colors[-2:]}\")\n",
    "    print(f\"Middle three: {colors[1:4]}\")\n",
    "    print(f\"Every other: {colors[::2]}\")\n",
    "    print(f\"Reversed: {colors[::-1]}\")\n",
    "\n",
    "    # 3. MODIFYING LISTS\n",
    "    print(\"\\n3. MODIFYING LISTS\")\n",
    "    print(\"-\" * 40)\n",
    "    \n",
    "    # Changing elements\n",
    "    colors[1] = \"emerald\"\n",
    "    print(f\"After changing index 1: {colors}\")\n",
    "    \n",
    "    # Adding elements\n",
    "    colors.append(\"orange\")\n",
    "    print(f\"After append: {colors}\")\n",
    "    \n",
    "    colors.insert(2, \"pink\")\n",
    "    print(f\"After insert at index 2: {colors}\")\n",
    "    \n",
    "    # Extending lists\n",
    "    more_colors = [\"cyan\", \"magenta\"]\n",
    "    colors.extend(more_colors)\n",
    "    print(f\"After extend: {colors}\")\n",
    "\n",
    "    # 4. REMOVING ELEMENTS\n",
    "    print(\"\\n4. REMOVING ELEMENTS\")\n",
    "    print(\"-\" * 40)\n",
    "    \n",
    "    removed = colors.pop()\n",
    "    print(f\"After pop(): {colors} (removed: {removed})\")\n",
    "    \n",
    "    removed = colors.pop(3)\n",
    "    print(f\"After pop(3): {colors} (removed: {removed})\")\n",
    "    \n",
    "    colors.remove(\"pink\")\n",
    "    print(f\"After remove('pink'): {colors}\")\n",
    "    \n",
    "    del colors[0:2]\n",
    "    print(f\"After del colors[0:2]: {colors}\")\n",
    "    \n",
    "    colors.clear()\n",
    "    print(f\"After clear(): {colors}\")\n",
    "\n",
    "    # 5. LIST OPERATIONS\n",
    "    print(\"\\n5. LIST OPERATIONS\")\n",
    "    print(\"-\" * 40)\n",
    "    \n",
    "    list1 = [1, 2, 3]\n",
    "    list2 = [4, 5, 6]\n",
    "    \n",
    "    # Concatenation\n",
    "    combined = list1 + list2\n",
    "    print(f\"Concatenation: {list1} + {list2} = {combined}\")\n",
    "    \n",
    "    # Repetition\n",
    "    repeated = list1 * 3\n",
    "    print(f\"Repetition: {list1} * 3 = {repeated}\")\n",
    "    \n",
    "    # Membership testing\n",
    "    print(f\"2 in {list1}: {2 in list1}\")\n",
    "    print(f\"7 in {list1}: {7 in list1}\")\n",
    "\n",
    "    # 6. LIST METHODS\n",
    "    print(\"\\n6. LIST METHODS\")\n",
    "    print(\"-\" * 40)\n",
    "    \n",
    "    demo_list = [3, 1, 4, 1, 5, 9, 2, 6]\n",
    "    print(f\"Demo list: {demo_list}\")\n",
    "    \n",
    "    # Count\n",
    "    print(f\"Count of 1: {demo_list.count(1)}\")\n",
    "    \n",
    "    # Index\n",
    "    print(f\"Index of 5: {demo_list.index(5)}\")\n",
    "    \n",
    "    # Sort\n",
    "    demo_list.sort()\n",
    "    print(f\"After sort(): {demo_list}\")\n",
    "    \n",
    "    demo_list.sort(reverse=True)\n",
    "    print(f\"After sort(reverse=True): {demo_list}\")\n",
    "    \n",
    "    # Reverse\n",
    "    demo_list.reverse()\n",
    "    print(f\"After reverse(): {demo_list}\")\n",
    "    \n",
    "    # Copy\n",
    "    list_copy = demo_list.copy()\n",
    "    print(f\"Copy: {list_copy}\")\n",
    "\n",
    "    # 7. LIST COMPREHENSIONS\n",
    "    print(\"\\n7. LIST COMPREHENSIONS\")\n",
    "    print(\"-\" * 40)\n",
    "    \n",
    "    # Basic comprehension\n",
    "    even_squares = [x**2 for x in range(10) if x % 2 == 0]\n",
    "    print(f\"Even squares: {even_squares}\")\n",
    "    \n",
    "    # With conditional expression\n",
    "    numbers = [1, 2, 3, 4, 5, 6]\n",
    "    categorized = [\"even\" if x % 2 == 0 else \"odd\" for x in numbers]\n",
    "    print(f\"Categorized: {categorized}\")\n",
    "    \n",
    "    # Nested comprehension\n",
    "    matrix = [[1, 2, 3], [4, 5, 6], [7, 8, 9]]\n",
    "    flattened = [num for row in matrix for num in row]\n",
    "    print(f\"Flattened matrix: {flattened}\")\n",
    "\n",
    "    # 8. MULTIDIMENSIONAL LISTS\n",
    "    print(\"\\n8. MULTIDIMENSIONAL LISTS\")\n",
    "    print(\"-\" * 40)\n",
    "    \n",
    "    # 2D list (matrix)\n",
    "    matrix = [\n",
    "        [1, 2, 3],\n",
    "        [4, 5, 6],\n",
    "        [7, 8, 9]\n",
    "    ]\n",
    "    print(\"2D Matrix:\")\n",
    "    for row in matrix:\n",
    "        print(f\"  {row}\")\n",
    "    \n",
    "    print(f\"Element at [1][2]: {matrix[1][2]}\")\n",
    "    \n",
    "    # 3D list\n",
    "    cube = [\n",
    "        [[1, 2], [3, 4]],\n",
    "        [[5, 6], [7, 8]]\n",
    "    ]\n",
    "    print(f\"3D element at [0][1][0]: {cube[0][1][0]}\")\n",
    "\n",
    "    # 9. ITERATING OVER LISTS\n",
    "    print(\"\\n9. ITERATING OVER LISTS\")\n",
    "    print(\"-\" * 40)\n",
    "    \n",
    "    items = [\"apple\", \"banana\", \"cherry\"]\n",
    "    \n",
    "    print(\"Using for loop:\")\n",
    "    for item in items:\n",
    "        print(f\"  - {item}\")\n",
    "    \n",
    "    print(\"Using enumerate:\")\n",
    "    for index, item in enumerate(items):\n",
    "        print(f\"  {index}: {item}\")\n",
    "    \n",
    "    print(\"Using while loop:\")\n",
    "    i = 0\n",
    "    while i < len(items):\n",
    "        print(f\"  {i}: {items[i]}\")\n",
    "        i += 1\n",
    "\n",
    "    # 10. USEFUL LIST FUNCTIONS\n",
    "    print(\"\\n10. USEFUL LIST FUNCTIONS\")\n",
    "    print(\"-\" * 40)\n",
    "    \n",
    "    sample_list = [5, 2, 8, 1, 9]\n",
    "    print(f\"Sample list: {sample_list}\")\n",
    "    \n",
    "    print(f\"Length: {len(sample_list)}\")\n",
    "    print(f\"Minimum: {min(sample_list)}\")\n",
    "    print(f\"Maximum: {max(sample_list)}\")\n",
    "    print(f\"Sum: {sum(sample_list)}\")\n",
    "    \n",
    "    # Sorted (returns new list)\n",
    "    sorted_list = sorted(sample_list)\n",
    "    print(f\"Sorted (new list): {sorted_list}\")\n",
    "    print(f\"Original unchanged: {sample_list}\")\n",
    "\n",
    "    # 11. COMMON LIST PATTERNS\n",
    "    print(\"\\n11. COMMON LIST PATTERNS\")\n",
    "    print(\"-\" * 40)\n",
    "    \n",
    "    # Filtering\n",
    "    numbers = [1, 2, 3, 4, 5, 6, 7, 8, 9, 10]\n",
    "    evens = [x for x in numbers if x % 2 == 0]\n",
    "    print(f\"Even numbers: {evens}\")\n",
    "    \n",
    "    # Mapping\n",
    "    doubled = [x * 2 for x in numbers]\n",
    "    print(f\"Doubled numbers: {doubled}\")\n",
    "    \n",
    "    # Zipping lists\n",
    "    names = [\"Alice\", \"Bob\", \"Charlie\"]\n",
    "    scores = [85, 92, 78]\n",
    "    zipped = list(zip(names, scores))\n",
    "    print(f\"Zipped: {zipped}\")\n",
    "    \n",
    "    # Unzipping\n",
    "    unzipped_names, unzipped_scores = zip(*zipped)\n",
    "    print(f\"Unzipped names: {unzipped_names}\")\n",
    "    print(f\"Unzipped scores: {unzipped_scores}\")\n",
    "\n",
    "    # 12. MEMORY AND REFERENCES\n",
    "    print(\"\\n12. MEMORY AND REFERENCES\")\n",
    "    print(\"-\" * 40)\n",
    "    \n",
    "    original = [1, 2, 3]\n",
    "    reference = original  # Same object\n",
    "    copy_list = original.copy()  # New object\n",
    "    \n",
    "    original.append(4)\n",
    "    print(f\"Original: {original}\")\n",
    "    print(f\"Reference: {reference} (changed!)\")\n",
    "    print(f\"Copy: {copy_list} (unchanged)\")\n",
    "    \n",
    "    print(f\"original is reference: {original is reference}\")\n",
    "    print(f\"original is copy_list: {original is copy_list}\")\n",
    "\n",
    "    print(\"\\n\" + \"=\" * 60)\n",
    "    print(\"LIST TUTORIAL COMPLETE!\")\n",
    "    print(\"=\" * 60)\n",
    "\n",
    "# Run the tutorial\n",
    "if __name__ == \"__main__\":\n",
    "    list_tutorial()"
   ]
  }
 ],
 "metadata": {
  "kernelspec": {
   "display_name": "Python 3",
   "language": "python",
   "name": "python3"
  },
  "language_info": {
   "codemirror_mode": {
    "name": "ipython",
    "version": 3
   },
   "file_extension": ".py",
   "mimetype": "text/x-python",
   "name": "python",
   "nbconvert_exporter": "python",
   "pygments_lexer": "ipython3",
   "version": "3.10.12"
  }
 },
 "nbformat": 4,
 "nbformat_minor": 5
}
