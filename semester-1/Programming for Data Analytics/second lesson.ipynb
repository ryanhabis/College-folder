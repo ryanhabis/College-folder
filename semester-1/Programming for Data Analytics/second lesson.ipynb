{
 "cells": [
  {
   "cell_type": "markdown",
   "id": "7c3fcc45",
   "metadata": {},
   "source": [
    "Creating a function in Python "
   ]
  },
  {
   "cell_type": "code",
   "execution_count": 137,
   "id": "d9a7f297",
   "metadata": {},
   "outputs": [],
   "source": [
    "def functionName(my_name, age):\n",
    "    print(f\"Hello {my_name}, you are {2*age} years old.\")\n"
   ]
  },
  {
   "cell_type": "markdown",
   "id": "3e80eb31",
   "metadata": {},
   "source": [
    "Calling function and passing name Ryan."
   ]
  },
  {
   "cell_type": "code",
   "execution_count": 138,
   "id": "b216b545",
   "metadata": {},
   "outputs": [
    {
     "name": "stdout",
     "output_type": "stream",
     "text": [
      "Hello Ryan, you are 38 years old.\n"
     ]
    }
   ],
   "source": [
    "# This is calling the function and passing the name Ryan.\n",
    "functionName(\"Ryan\" , 19)\n"
   ]
  },
  {
   "cell_type": "code",
   "execution_count": 139,
   "id": "e7f80027",
   "metadata": {},
   "outputs": [],
   "source": [
    "def add(a, b):\n",
    "    return a + b\n",
    "\n",
    "def subtract(a, b):\n",
    "    return a - b\n",
    "\n",
    "def multiply(a, b):\n",
    "    return a * b\n",
    "\n",
    "def divide(a, b):\n",
    "    return a / b\n",
    "\n",
    "def modulus(a, b):\n",
    "    return a % b\n",
    "\n",
    "def exponent(a, b):\n",
    "    return a ** b\n",
    "\n",
    "def floor_divide(a, b):\n",
    "    return a // b"
   ]
  },
  {
   "cell_type": "markdown",
   "id": "81106b20",
   "metadata": {},
   "source": [
    "Creating a simple calculator."
   ]
  },
  {
   "cell_type": "code",
   "execution_count": 140,
   "id": "99c01ce6",
   "metadata": {},
   "outputs": [
    {
     "name": "stdout",
     "output_type": "stream",
     "text": [
      "Addition:         8\n",
      "Subtraction:      2\n",
      "Multiplication:   15\n",
      "Division:         1.6666666666666667\n",
      "Modulus:          2\n",
      "Exponentiation:   125\n",
      "Floor Division:   1\n"
     ]
    }
   ],
   "source": [
    "# Simple Calculator Program\n",
    "\n",
    "print(\"Addition:        \", add(5, 3))\n",
    "print(\"Subtraction:     \", subtract(5, 3))\n",
    "print(\"Multiplication:  \", multiply(5, 3))\n",
    "print(\"Division:        \", divide(5, 3))\n",
    "print(\"Modulus:         \", modulus(5, 3))\n",
    "print(\"Exponentiation:  \", exponent(5, 3))\n",
    "print(\"Floor Division:  \", floor_divide(5, 3))\n"
   ]
  },
  {
   "cell_type": "markdown",
   "id": "e94af1a7",
   "metadata": {},
   "source": [
    "Creating a calculator with user input using a scanner."
   ]
  },
  {
   "cell_type": "code",
   "execution_count": 141,
   "id": "4b804ed1",
   "metadata": {},
   "outputs": [
    {
     "name": "stdout",
     "output_type": "stream",
     "text": [
      "Addition:         0\n",
      "Subtraction:      0\n",
      "Multiplication:   0\n"
     ]
    },
    {
     "ename": "ZeroDivisionError",
     "evalue": "division by zero",
     "output_type": "error",
     "traceback": [
      "\u001b[0;31m---------------------------------------------------------------------------\u001b[0m",
      "\u001b[0;31mZeroDivisionError\u001b[0m                         Traceback (most recent call last)",
      "Cell \u001b[0;32mIn[141], line 9\u001b[0m\n\u001b[1;32m      7\u001b[0m \u001b[38;5;28mprint\u001b[39m(\u001b[38;5;124m\"\u001b[39m\u001b[38;5;124mSubtraction:     \u001b[39m\u001b[38;5;124m\"\u001b[39m, subtract(a, b))\n\u001b[1;32m      8\u001b[0m \u001b[38;5;28mprint\u001b[39m(\u001b[38;5;124m\"\u001b[39m\u001b[38;5;124mMultiplication:  \u001b[39m\u001b[38;5;124m\"\u001b[39m, multiply(a, b))\n\u001b[0;32m----> 9\u001b[0m \u001b[38;5;28mprint\u001b[39m(\u001b[38;5;124m\"\u001b[39m\u001b[38;5;124mDivision:        \u001b[39m\u001b[38;5;124m\"\u001b[39m, \u001b[43mdivide\u001b[49m\u001b[43m(\u001b[49m\u001b[43ma\u001b[49m\u001b[43m,\u001b[49m\u001b[43m \u001b[49m\u001b[43mb\u001b[49m\u001b[43m)\u001b[49m)\n\u001b[1;32m     10\u001b[0m \u001b[38;5;28mprint\u001b[39m(\u001b[38;5;124m\"\u001b[39m\u001b[38;5;124mModulus:         \u001b[39m\u001b[38;5;124m\"\u001b[39m, modulus(a, b))\n\u001b[1;32m     11\u001b[0m \u001b[38;5;28mprint\u001b[39m(\u001b[38;5;124m\"\u001b[39m\u001b[38;5;124mExponentiation:  \u001b[39m\u001b[38;5;124m\"\u001b[39m, exponent(a, b))\n",
      "Cell \u001b[0;32mIn[139], line 11\u001b[0m, in \u001b[0;36mdivide\u001b[0;34m(a, b)\u001b[0m\n\u001b[1;32m     10\u001b[0m \u001b[38;5;28;01mdef\u001b[39;00m\u001b[38;5;250m \u001b[39m\u001b[38;5;21mdivide\u001b[39m(a, b):\n\u001b[0;32m---> 11\u001b[0m     \u001b[38;5;28;01mreturn\u001b[39;00m \u001b[43ma\u001b[49m\u001b[43m \u001b[49m\u001b[38;5;241;43m/\u001b[39;49m\u001b[43m \u001b[49m\u001b[43mb\u001b[49m\n",
      "\u001b[0;31mZeroDivisionError\u001b[0m: division by zero"
     ]
    }
   ],
   "source": [
    "# Simple Calculator Program with User Input\n",
    "\n",
    "a = int(input(\"Enter the first number: \"))\n",
    "b = int(input(\"Enter the second number: \"))\n",
    "\n",
    "print(\"Addition:        \", add(a, b))\n",
    "print(\"Subtraction:     \", subtract(a, b))\n",
    "print(\"Multiplication:  \", multiply(a, b))\n",
    "print(\"Division:        \", divide(a, b))\n",
    "print(\"Modulus:         \", modulus(a, b))\n",
    "print(\"Exponentiation:  \", exponent(a, b))\n",
    "print(\"Floor Division:  \", floor_divide(a, b))"
   ]
  },
  {
   "cell_type": "markdown",
   "id": "a17a4f0b",
   "metadata": {},
   "source": [
    "Can't do this in java XD"
   ]
  },
  {
   "cell_type": "code",
   "execution_count": null,
   "id": "645a512e",
   "metadata": {},
   "outputs": [],
   "source": [
    "copy_cat = \"cat\" * 5"
   ]
  },
  {
   "cell_type": "markdown",
   "id": "2f518b50",
   "metadata": {},
   "source": [
    "Exersice question"
   ]
  },
  {
   "cell_type": "code",
   "execution_count": null,
   "id": "18ee0d90",
   "metadata": {},
   "outputs": [
    {
     "name": "stdout",
     "output_type": "stream",
     "text": [
      "12\n"
     ]
    }
   ],
   "source": [
    "def function1(num1, num2, num3):\n",
    "    return num1 + num2 - num3\n",
    "\n",
    "# Example usage:\n",
    "result1 = function1(10, 5, 3)\n",
    "print(result1)\n",
    "\n"
   ]
  },
  {
   "cell_type": "code",
   "execution_count": null,
   "id": "1717329d",
   "metadata": {},
   "outputs": [],
   "source": [
    "def function2(num, squared):\n",
    "\n",
    "    squared = pow(num, 2)\n",
    "\n",
    "    return squared"
   ]
  },
  {
   "cell_type": "code",
   "execution_count": null,
   "id": "1d2b77c5",
   "metadata": {},
   "outputs": [
    {
     "name": "stdout",
     "output_type": "stream",
     "text": [
      "1296\n"
     ]
    }
   ],
   "source": [
    "print(function2(36, 2))"
   ]
  },
  {
   "cell_type": "code",
   "execution_count": null,
   "id": "09f2075e",
   "metadata": {},
   "outputs": [],
   "source": [
    "def function3(num, num2, num3):\n",
    "    answer = (num * num2) % num3\n",
    "    return answer"
   ]
  },
  {
   "cell_type": "code",
   "execution_count": null,
   "id": "18f8254c",
   "metadata": {},
   "outputs": [
    {
     "name": "stdout",
     "output_type": "stream",
     "text": [
      "3\n"
     ]
    }
   ],
   "source": [
    "print(function3(24, 365, 7))"
   ]
  },
  {
   "cell_type": "code",
   "execution_count": null,
   "id": "adc62f74",
   "metadata": {},
   "outputs": [],
   "source": [
    "def function4(n_weeks):\n",
    "    return f\"There are {n_weeks} weeks in a year\""
   ]
  },
  {
   "cell_type": "code",
   "execution_count": null,
   "id": "969bf6c3",
   "metadata": {},
   "outputs": [
    {
     "data": {
      "text/plain": [
       "'There are 52 weeks in a year'"
      ]
     },
     "execution_count": 107,
     "metadata": {},
     "output_type": "execute_result"
    }
   ],
   "source": [
    "function4(52)"
   ]
  },
  {
   "cell_type": "code",
   "execution_count": null,
   "id": "b0be12f3",
   "metadata": {},
   "outputs": [],
   "source": [
    "def function5():\n",
    "    a = \" Hello\"\n",
    "    b = \"World \"\n",
    "    return(a + b)*7"
   ]
  },
  {
   "cell_type": "code",
   "execution_count": null,
   "id": "8d5abbde",
   "metadata": {},
   "outputs": [
    {
     "data": {
      "text/plain": [
       "' HelloWorld  HelloWorld  HelloWorld  HelloWorld  HelloWorld  HelloWorld  HelloWorld '"
      ]
     },
     "execution_count": 111,
     "metadata": {},
     "output_type": "execute_result"
    }
   ],
   "source": [
    "function5()"
   ]
  },
  {
   "cell_type": "markdown",
   "id": "4f2d798a",
   "metadata": {},
   "source": [
    "creating a list"
   ]
  },
  {
   "cell_type": "code",
   "execution_count": null,
   "id": "a47ebfaf",
   "metadata": {},
   "outputs": [],
   "source": [
    "def function6(num, num2, num3, num4, num5):\n",
    "    return [num, num2, num3, num4, num5]\n"
   ]
  },
  {
   "cell_type": "code",
   "execution_count": null,
   "id": "7f698276",
   "metadata": {},
   "outputs": [
    {
     "data": {
      "text/plain": [
       "[1, 2, 3, 4, 5]"
      ]
     },
     "execution_count": 114,
     "metadata": {},
     "output_type": "execute_result"
    }
   ],
   "source": [
    "function6(1, 2, 3, 4, 5)\n"
   ]
  },
  {
   "cell_type": "markdown",
   "id": "88c26c95",
   "metadata": {},
   "source": [
    "creating a list that asks the user for input until they say done."
   ]
  },
  {
   "cell_type": "code",
   "execution_count": null,
   "id": "36d421bc",
   "metadata": {},
   "outputs": [
    {
     "name": "stdout",
     "output_type": "stream",
     "text": [
      "Your list: ['1', '2', '3', '4', '5', '6']\n"
     ]
    }
   ],
   "source": [
    "# Create a list by asking the user for values in a loop\n",
    "\n",
    "user_list = []\n",
    "while True:\n",
    "    value = input(\"Enter a value (or type 'done' to finish): \")\n",
    "    if value.lower() == 'done':\n",
    "        break\n",
    "    user_list.append(value)\n",
    "\n",
    "print(\"Your list:\", user_list)"
   ]
  },
  {
   "cell_type": "code",
   "execution_count": null,
   "id": "58a19b75",
   "metadata": {},
   "outputs": [],
   "source": [
    "def user_option(choice):\n",
    "    fruits = ['orange', 'apple', 'pear', 'banana', 'kiwi', 'apple', 'banana']\n",
    "\n",
    "\n",
    "    while True:\n",
    "        print(\"\\nChoose an option:\")\n",
    "        print(\"1. Count occurrences of 'apple'\")\n",
    "        print(\"2. Count occurrences of 'tangerine'\")\n",
    "        print(\"3. Find index of 'banana'\")\n",
    "        print(\"4. Find next 'banana' starting at position 4\")\n",
    "        print(\"5. Reverse the list\")\n",
    "        print(\"6. Append 'grape'\")\n",
    "        print(\"7. Sort the list\")\n",
    "        print(\"8. Pop last item\")\n",
    "        print(\"9. Show current list\")\n",
    "        print(\"0. Exit\")\n",
    "        choice = input(\"Enter your choice: \")\n",
    "\n",
    "        if choice == '1':\n",
    "            print(fruits.count('apple'))\n",
    "        elif choice == '2':\n",
    "            print(fruits.count('tangerine'))\n",
    "        elif choice == '3':\n",
    "            print(fruits.index('banana'))\n",
    "        elif choice == '4':\n",
    "            print(fruits.index('banana', 4))\n",
    "        elif choice == '5':\n",
    "            fruits.reverse()\n",
    "            print(\"List reversed.\")\n",
    "        elif choice == '6':\n",
    "            fruits.append('grape')\n",
    "            print(\"'grape' appended.\")\n",
    "        elif choice == '7':\n",
    "            fruits.sort()\n",
    "            print(\"List sorted.\")\n",
    "        elif choice == '8':\n",
    "            popped = fruits.pop()\n",
    "            print(f\"Popped item: {popped}\")\n",
    "        elif choice == '9':\n",
    "            print(fruits)\n",
    "        elif choice == '0':\n",
    "            break\n",
    "        else:\n",
    "            print(\"Invalid choice. Try again.\")"
   ]
  },
  {
   "cell_type": "code",
   "execution_count": null,
   "id": "9d9ae5ba",
   "metadata": {},
   "outputs": [
    {
     "name": "stdout",
     "output_type": "stream",
     "text": [
      "\n",
      "Choose an option:\n",
      "1. Count occurrences of 'apple'\n",
      "2. Count occurrences of 'tangerine'\n",
      "3. Find index of 'banana'\n",
      "4. Find next 'banana' starting at position 4\n",
      "5. Reverse the list\n",
      "6. Append 'grape'\n",
      "7. Sort the list\n",
      "8. Pop last item\n",
      "9. Show current list\n",
      "0. Exit\n",
      "2\n",
      "\n",
      "Choose an option:\n",
      "1. Count occurrences of 'apple'\n",
      "2. Count occurrences of 'tangerine'\n",
      "3. Find index of 'banana'\n",
      "4. Find next 'banana' starting at position 4\n",
      "5. Reverse the list\n",
      "6. Append 'grape'\n",
      "7. Sort the list\n",
      "8. Pop last item\n",
      "9. Show current list\n",
      "0. Exit\n"
     ]
    }
   ],
   "source": [
    "user_option(choice)"
   ]
  },
  {
   "cell_type": "code",
   "execution_count": null,
   "id": "53dda256",
   "metadata": {},
   "outputs": [
    {
     "name": "stdout",
     "output_type": "stream",
     "text": [
      "[[15, 5, 63, 79], [43, 93, 80, 73], [78, 29, 59, 44], [15, 48, 5, 27], [28, 63, 13, 38]]\n"
     ]
    }
   ],
   "source": [
    "import random\n",
    "\n",
    "nested_list = []\n",
    "for _ in range(5):\n",
    "    inner_list = [random.randint(1, 100) for _ in range(4)]\n",
    "    nested_list.append(inner_list)\n",
    "\n",
    "print(nested_list)"
   ]
  },
  {
   "cell_type": "code",
   "execution_count": null,
   "id": "99bfd32c",
   "metadata": {},
   "outputs": [
    {
     "name": "stdout",
     "output_type": "stream",
     "text": [
      "(['Alice', 'Bob', 'Charlie', 'David', 'Eva'], [28, 34, 23, 45, 30])\n",
      "[('Alice', 28), ('Bob', 34), ('Charlie', 23), ('David', 45), ('Eva', 30)]\n"
     ]
    }
   ],
   "source": [
    "people_names = [\"Alice\", \"Bob\", \"Charlie\", \"David\", \"Eva\"]\n",
    "people_ages = [28, 34, 23, 45, 30]\n",
    "people_age  = list(zip(people_names, people_ages))\n",
    "\n",
    "people= people_names, people_ages\n",
    "\n",
    "#people alone \n",
    "print(people)\n",
    "\n",
    "#people combined with age\n",
    "print(people_age)"
   ]
  }
 ],
 "metadata": {
  "kernelspec": {
   "display_name": "Python 3",
   "language": "python",
   "name": "python3"
  },
  "language_info": {
   "codemirror_mode": {
    "name": "ipython",
    "version": 3
   },
   "file_extension": ".py",
   "mimetype": "text/x-python",
   "name": "python",
   "nbconvert_exporter": "python",
   "pygments_lexer": "ipython3",
   "version": "3.10.12"
  }
 },
 "nbformat": 4,
 "nbformat_minor": 5
}
