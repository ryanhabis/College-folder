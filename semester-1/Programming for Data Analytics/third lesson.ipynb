{
 "cells": [
  {
   "cell_type": "markdown",
   "id": "5cc3e0fb",
   "metadata": {},
   "source": [
    "### Tuples\n",
    "Tuples hold data in order\n",
    "\n",
    "Tuples use indexes\n",
    "\n",
    "Tuples are immutable meaning they cannot be \n",
    "modified\n",
    "\n",
    "Tuples contain pairs of elements\n",
    "\n",
    "Tuples are in parentheses\n",
    "\n",
    "Tuples can contain different data types."
   ]
  },
  {
   "cell_type": "code",
   "execution_count": 62,
   "id": "e521efa2",
   "metadata": {},
   "outputs": [
    {
     "name": "stdout",
     "output_type": "stream",
     "text": [
      "banana\n",
      "cherry\n"
     ]
    }
   ],
   "source": [
    "my_tuple = (\"apple\", \"banana\", \"cherry\")\n",
    "# Print tuple items using the index number, inside square brackets:\n",
    "print(my_tuple[1])\n",
    "# Negative indexing means beginning from the end, -1 refers to the last item, -2 refers to the second\n",
    "# Print the last item of the tuple:\n",
    "print(my_tuple[-1])"
   ]
  },
  {
   "cell_type": "code",
   "execution_count": 63,
   "id": "d72531d8",
   "metadata": {},
   "outputs": [
    {
     "name": "stdout",
     "output_type": "stream",
     "text": [
      "('cherry', 'orange', 'kiwi')\n"
     ]
    }
   ],
   "source": [
    "# Return the third, fourth, and fifth item:\n",
    "my_tuple = (\"apple\", \"banana\", \"cherry\", \"orange\", \"kiwi\", \"melon\", \"mango\")\n",
    "print(my_tuple[2:5])"
   ]
  },
  {
   "cell_type": "code",
   "execution_count": 64,
   "id": "cf31f004",
   "metadata": {},
   "outputs": [
    {
     "name": "stdout",
     "output_type": "stream",
     "text": [
      "('orange', 'kiwi', 'melon')\n",
      "('orange', 'kiwi', 'melon', 'mango')\n"
     ]
    }
   ],
   "source": [
    "my_tuple = (\"apple\", \"banana\", \"cherry\", \"orange\", \"kiwi\", \"melon\", \"mango\")\n",
    "print(my_tuple[-4:-1])\n",
    "print(my_tuple[-4:])"
   ]
  },
  {
   "cell_type": "code",
   "execution_count": 65,
   "id": "d14a0aad",
   "metadata": {},
   "outputs": [
    {
     "name": "stdout",
     "output_type": "stream",
     "text": [
      "<class 'list'>\n",
      "<class 'tuple'>\n",
      "('apple', 'kiwi', 'cherry')\n"
     ]
    }
   ],
   "source": [
    "x = (\"apple\", \"banana\", \"cherry\")\n",
    "y = list(x)\n",
    "print(type(y))\n",
    "y[1] = \"kiwi\"\n",
    "x = tuple(y)\n",
    "print(type(x))\n",
    "print(x)"
   ]
  },
  {
   "cell_type": "markdown",
   "id": "e220946a",
   "metadata": {},
   "source": [
    "1. Write a Python program to create a tuple."
   ]
  },
  {
   "cell_type": "code",
   "execution_count": 75,
   "id": "0af146db",
   "metadata": {},
   "outputs": [
    {
     "name": "stdout",
     "output_type": "stream",
     "text": [
      "Tuple: (1, 2, 3, 4, 5)\n"
     ]
    }
   ],
   "source": [
    "# Method 1: Using parentheses\n",
    "my_tuple = (1, 2, 3, 4, 5)\n",
    "print(\"Tuple:\", my_tuple)\n"
   ]
  },
  {
   "cell_type": "markdown",
   "id": "9fd4d2ce",
   "metadata": {},
   "source": [
    "2. Write a Python program to create a tuple with different data types."
   ]
  },
  {
   "cell_type": "code",
   "execution_count": 76,
   "id": "d146631a",
   "metadata": {},
   "outputs": [
    {
     "name": "stdout",
     "output_type": "stream",
     "text": [
      "Mixed data types tuple: (1, 'hello', 3.14, True, [1, 2, 3], {'name': 'John'})\n"
     ]
    }
   ],
   "source": [
    "mixed_tuple = (1, \"hello\", 3.14, True, [1, 2, 3], {\"name\": \"John\"})\n",
    "print(\"Mixed data types tuple:\", mixed_tuple)\n"
   ]
  },
  {
   "cell_type": "markdown",
   "id": "07929853",
   "metadata": {},
   "source": [
    "3. Write a Python program to create a tuple with numbers and print one item."
   ]
  },
  {
   "cell_type": "code",
   "execution_count": 68,
   "id": "31ec639e",
   "metadata": {},
   "outputs": [
    {
     "name": "stdout",
     "output_type": "stream",
     "text": [
      "First item: 10\n",
      "Third item: 30\n",
      "Last item: 60\n",
      "Item at index 3: 40\n"
     ]
    }
   ],
   "source": [
    "numbers_tuple = (10, 20, 30, 40, 50, 60)\n",
    "\n",
    "# Print one item by index\n",
    "print(\"First item:\", numbers_tuple[0])\n",
    "print(\"Third item:\", numbers_tuple[2])\n",
    "print(\"Last item:\", numbers_tuple[-1])\n",
    "\n",
    "# Print a specific item\n",
    "print(\"Item at index 3:\", numbers_tuple[3])"
   ]
  },
  {
   "cell_type": "markdown",
   "id": "859df995",
   "metadata": {},
   "source": [
    "4. Write a Python program to unpack a tuple in several variables."
   ]
  },
  {
   "cell_type": "code",
   "execution_count": 78,
   "id": "33bae5ed",
   "metadata": {},
   "outputs": [
    {
     "name": "stdout",
     "output_type": "stream",
     "text": [
      "Name: John\n",
      "Age: 25\n",
      "Profession: Engineer\n",
      "City: New York\n",
      "First: 1\n",
      "Middle: [2, 3, 4, 5]\n",
      "Last: 6\n"
     ]
    }
   ],
   "source": [
    "# Original tuple\n",
    "person_info = (\"John\", 25, \"Engineer\", \"New York\")\n",
    "\n",
    "# Unpacking the tuple\n",
    "name, age, profession, city = person_info\n",
    "\n",
    "print(\"Name:\", name)\n",
    "print(\"Age:\", age)\n",
    "print(\"Profession:\", profession)\n",
    "print(\"City:\", city)\n",
    "\n",
    "# Partial unpacking (using * operator)\n",
    "first, *middle, last = (1, 2, 3, 4, 5, 6)\n",
    "print(\"First:\", first)\n",
    "print(\"Middle:\", middle)\n",
    "print(\"Last:\", last)"
   ]
  },
  {
   "cell_type": "markdown",
   "id": "50a1ae97",
   "metadata": {},
   "source": [
    "5. Write a Python program to add an item in a tuple."
   ]
  },
  {
   "cell_type": "code",
   "execution_count": 79,
   "id": "f32e201d",
   "metadata": {},
   "outputs": [
    {
     "name": "stdout",
     "output_type": "stream",
     "text": [
      "After adding 5: (1, 2, 3, 4, 5)\n"
     ]
    }
   ],
   "source": [
    "# Since tuples are immutable, we create a new tuple\n",
    "original_tuple = (1, 2, 3, 4)\n",
    "\n",
    "# Method 1: Using + operator\n",
    "new_tuple = original_tuple + (5,)\n",
    "print(\"After adding 5:\", new_tuple)"
   ]
  },
  {
   "cell_type": "markdown",
   "id": "e612526d",
   "metadata": {},
   "source": [
    "6. Write a Python program to convert a tuple to a string."
   ]
  },
  {
   "cell_type": "code",
   "execution_count": 81,
   "id": "c6f6b86d",
   "metadata": {},
   "outputs": [
    {
     "name": "stdout",
     "output_type": "stream",
     "text": [
      "String from string tuple: Hello World Python\n"
     ]
    }
   ],
   "source": [
    "# Tuple with strings\n",
    "str_tuple = (\"Hello\", \"World\", \"Python\")\n",
    "result1 = \" \".join(str_tuple)\n",
    "print(\"String from string tuple:\", result1)\n",
    "\n"
   ]
  },
  {
   "cell_type": "markdown",
   "id": "1ff53cf8",
   "metadata": {},
   "source": [
    "7. Write a Python program to get the 4th element and 4th element from last of a tuple."
   ]
  },
  {
   "cell_type": "code",
   "execution_count": 82,
   "id": "89089391",
   "metadata": {},
   "outputs": [
    {
     "name": "stdout",
     "output_type": "stream",
     "text": [
      "4th element: d\n",
      "4th element from last: g\n"
     ]
    }
   ],
   "source": [
    "sample_tuple = ('a', 'b', 'c', 'd', 'e', 'f', 'g', 'h', 'i', 'j')\n",
    "\n",
    "# 4th element (index 3 in 0-based indexing)\n",
    "fourth_element = sample_tuple[3]\n",
    "print(\"4th element:\", fourth_element)\n",
    "\n",
    "# 4th element from last\n",
    "fourth_from_last = sample_tuple[-4]\n",
    "print(\"4th element from last:\", fourth_from_last)"
   ]
  },
  {
   "cell_type": "markdown",
   "id": "c6249b9d",
   "metadata": {},
   "source": [
    "8. Write a Python program to find the number of times an item is repeated in a tuple."
   ]
  },
  {
   "cell_type": "code",
   "execution_count": 84,
   "id": "ec9a9f57",
   "metadata": {},
   "outputs": [
    {
     "name": "stdout",
     "output_type": "stream",
     "text": [
      "Number 2 appears 5 times in (1, 2, 3, 2, 4, 2, 5, 2, 6, 7, 2)\n",
      "'apple' appears 3 times in ('apple', 'banana', 'orange', 'apple', 'grape', 'apple')\n"
     ]
    }
   ],
   "source": [
    "def count_occurrences(tup, item):\n",
    "    return tup.count(item)\n",
    "\n",
    "# Example tuple\n",
    "numbers = (1, 2, 3, 2, 4, 2, 5, 2, 6, 7, 2)\n",
    "\n",
    "# Count occurrences of 2\n",
    "count_2 = count_occurrences(numbers, 2)\n",
    "print(f\"Number 2 appears {count_2} times in {numbers}\")\n",
    "\n",
    "# Count occurrences of other numbers\n",
    "count_1 = count_occurrences(numbers, 1)\n",
    "\n",
    "# For string tuples\n",
    "fruits = (\"apple\", \"banana\", \"orange\", \"apple\", \"grape\", \"apple\")\n",
    "apple_count = count_occurrences(fruits, \"apple\")\n",
    "print(f\"'apple' appears {apple_count} times in {fruits}\")"
   ]
  },
  {
   "cell_type": "markdown",
   "id": "5dc5fd83",
   "metadata": {},
   "source": [
    "9. Write a Python program to reverse a tuple."
   ]
  },
  {
   "cell_type": "code",
   "execution_count": 87,
   "id": "e7872925",
   "metadata": {},
   "outputs": [
    {
     "name": "stdout",
     "output_type": "stream",
     "text": [
      "Original: (1, 2, 3, 4, 5, 6)\n",
      "Reversed (slicing): (6, 5, 4, 3, 2, 1)\n",
      "Reversed (reversed()): (6, 5, 4, 3, 2, 1)\n",
      "Words original: ('hello', 'world', 'python')\n",
      "Words reversed: ('python', 'world', 'hello')\n"
     ]
    }
   ],
   "source": [
    "# Method 1: Using slicing\n",
    "original_tuple = (1, 2, 3, 4, 5, 6)\n",
    "reversed_tuple1 = original_tuple[::-1]\n",
    "print(\"Original:\", original_tuple)\n",
    "print(\"Reversed (slicing):\", reversed_tuple1)\n",
    "\n",
    "# Method 2: Using reversed() function\n",
    "reversed_tuple2 = tuple(reversed(original_tuple))\n",
    "print(\"Reversed (reversed()):\", reversed_tuple2)\n",
    "\n",
    "# With string tuple\n",
    "words = (\"hello\", \"world\", \"python\")\n",
    "reversed_words = words[::-1]\n",
    "print(\"Words original:\", words)\n",
    "print(\"Words reversed:\", reversed_words)"
   ]
  }
 ],
 "metadata": {
  "kernelspec": {
   "display_name": "Python 3",
   "language": "python",
   "name": "python3"
  },
  "language_info": {
   "codemirror_mode": {
    "name": "ipython",
    "version": 3
   },
   "file_extension": ".py",
   "mimetype": "text/x-python",
   "name": "python",
   "nbconvert_exporter": "python",
   "pygments_lexer": "ipython3",
   "version": "3.10.12"
  }
 },
 "nbformat": 4,
 "nbformat_minor": 5
}
