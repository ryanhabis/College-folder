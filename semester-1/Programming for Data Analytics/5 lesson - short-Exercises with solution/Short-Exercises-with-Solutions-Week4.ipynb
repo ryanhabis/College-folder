{
 "cells": [
  {
   "cell_type": "markdown",
   "id": "1ee7eff5-b377-4353-9f2b-eda8749ee0a6",
   "metadata": {},
   "source": [
    "\n",
    "# Exercises on Missing Values\n"
   ]
  },
  {
   "cell_type": "code",
   "execution_count": 11,
   "id": "c52557d6-9633-41bf-9c9c-738edbff8366",
   "metadata": {},
   "outputs": [],
   "source": [
    "import pandas as pd\n",
    "import numpy as np\n",
    "import os\n",
    "os.chdir('C:/Users/cepedazk/Jupyter Notebook/Datasets') # you can change to your own working directory"
   ]
  },
  {
   "cell_type": "markdown",
   "id": "86989a67-aa46-4f95-9cc5-b3480d54af3c",
   "metadata": {},
   "source": [
    "* `data_missing.csv` is on Moodle.\n",
    "  * Download the dataset and read it in to Python, making sure all missing values are read in correctly.\n",
    "  * Are there any unexpected values in the OWN_OCCUPIED column? how about NUM_BEDROOMS? If so, replace them with NaN.\n",
    "* Use Python code to show which columns have missing values.\n",
    "* Find the number of missing values in each column.\n",
    "* Filter the dataset so we only see the rows with no missing values.\n",
    "* Filter the dataset so we only see the rows with two or less missing values.\n",
    "* Show the columns ST_NUM and ST_NAME for the rows with missing values in OWN_OCCUPIED.\n",
    "* Show the columns ST_NUM and ST_NAME for the rows that do not have missing values in OWN_OCCUPIED.\n",
    "* Fill in the missing values of NUM_BEDROOMS with the previous value in the column.\n",
    "* Fill in the missing values of NUM_BEDROOMS with the median value of the column. Store this as the new dataset."
   ]
  },
  {
   "cell_type": "markdown",
   "id": "d13da8a8-e19d-44d4-8727-1b8c3eb0300b",
   "metadata": {},
   "source": [
    "#### Quick Notes on Missing Values\n",
    "\n",
    "* Replacing missing values with substituted values is called imputation.\n",
    "* This can be a very advanced topic.\n",
    "* There are many methods for imputation, for example mean imputation, regression imputation.\n",
    "* We have used `fillna()` and `replace()` for imputation.\n",
    "* There are other functions in Python for imputation eg: df.interpolate(method = 'linear', axis = 0)\n",
    "* “Interpolation is a type of estimation, a method of constructing new data points within the range of a discrete set of known data points.”"
   ]
  },
  {
   "cell_type": "code",
   "execution_count": 1,
   "id": "1a4d5fb8-bad0-4453-ad06-5d4846b71af6",
   "metadata": {},
   "outputs": [],
   "source": [
    "# You can start the exercises here or create a new notebook\n"
   ]
  },
  {
   "cell_type": "markdown",
   "id": "80af28a1-0045-4e43-9cb9-f8226ce4026c",
   "metadata": {},
   "source": [
    "Once you are ready, solutions are available below. Just expand the block of cells."
   ]
  },
  {
   "cell_type": "markdown",
   "id": "ebe857b3-c367-4bb3-b6ce-5328bcf06bbd",
   "metadata": {},
   "source": [
    "### Solutions"
   ]
  },
  {
   "cell_type": "code",
   "execution_count": 93,
   "id": "135bc742-9c11-4aad-a1d0-0b64bcdaff20",
   "metadata": {},
   "outputs": [],
   "source": [
    "# We will not be looking at any of the columns after Referee. \n",
    "mycsv = pd.read_csv(\"data_missing.csv\")"
   ]
  },
  {
   "cell_type": "code",
   "execution_count": 94,
   "id": "b4cf5033-0dc8-4182-82e1-47e88605ab10",
   "metadata": {},
   "outputs": [
    {
     "data": {
      "text/html": [
       "<div>\n",
       "<style scoped>\n",
       "    .dataframe tbody tr th:only-of-type {\n",
       "        vertical-align: middle;\n",
       "    }\n",
       "\n",
       "    .dataframe tbody tr th {\n",
       "        vertical-align: top;\n",
       "    }\n",
       "\n",
       "    .dataframe thead th {\n",
       "        text-align: right;\n",
       "    }\n",
       "</style>\n",
       "<table border=\"1\" class=\"dataframe\">\n",
       "  <thead>\n",
       "    <tr style=\"text-align: right;\">\n",
       "      <th></th>\n",
       "      <th>ST_NUM</th>\n",
       "      <th>ST_NAME</th>\n",
       "      <th>NUM_BEDROOMS</th>\n",
       "      <th>OWN_OCCUPIED</th>\n",
       "    </tr>\n",
       "  </thead>\n",
       "  <tbody>\n",
       "    <tr>\n",
       "      <th>0</th>\n",
       "      <td>104.0</td>\n",
       "      <td>PUTNAM</td>\n",
       "      <td>3</td>\n",
       "      <td>Y</td>\n",
       "    </tr>\n",
       "    <tr>\n",
       "      <th>1</th>\n",
       "      <td>197.0</td>\n",
       "      <td>LEXINGTON</td>\n",
       "      <td>3</td>\n",
       "      <td>N</td>\n",
       "    </tr>\n",
       "    <tr>\n",
       "      <th>2</th>\n",
       "      <td>NaN</td>\n",
       "      <td>LEXINGTON</td>\n",
       "      <td>NaN</td>\n",
       "      <td>N</td>\n",
       "    </tr>\n",
       "    <tr>\n",
       "      <th>3</th>\n",
       "      <td>201.0</td>\n",
       "      <td>BERKELEY</td>\n",
       "      <td>1</td>\n",
       "      <td>12</td>\n",
       "    </tr>\n",
       "    <tr>\n",
       "      <th>4</th>\n",
       "      <td>203.0</td>\n",
       "      <td>BERKELEY</td>\n",
       "      <td>3</td>\n",
       "      <td>Y</td>\n",
       "    </tr>\n",
       "    <tr>\n",
       "      <th>5</th>\n",
       "      <td>207.0</td>\n",
       "      <td>BERKELEY</td>\n",
       "      <td>NaN</td>\n",
       "      <td>Y</td>\n",
       "    </tr>\n",
       "    <tr>\n",
       "      <th>6</th>\n",
       "      <td>NaN</td>\n",
       "      <td>WASHINGTON</td>\n",
       "      <td>2</td>\n",
       "      <td>NaN</td>\n",
       "    </tr>\n",
       "    <tr>\n",
       "      <th>7</th>\n",
       "      <td>213.0</td>\n",
       "      <td>TREMONT</td>\n",
       "      <td>--</td>\n",
       "      <td>Y</td>\n",
       "    </tr>\n",
       "    <tr>\n",
       "      <th>8</th>\n",
       "      <td>215.0</td>\n",
       "      <td>TREMONT</td>\n",
       "      <td>na</td>\n",
       "      <td>Y</td>\n",
       "    </tr>\n",
       "  </tbody>\n",
       "</table>\n",
       "</div>"
      ],
      "text/plain": [
       "   ST_NUM     ST_NAME NUM_BEDROOMS OWN_OCCUPIED\n",
       "0   104.0      PUTNAM            3            Y\n",
       "1   197.0   LEXINGTON            3            N\n",
       "2     NaN   LEXINGTON          NaN            N\n",
       "3   201.0    BERKELEY            1           12\n",
       "4   203.0    BERKELEY            3            Y\n",
       "5   207.0    BERKELEY          NaN            Y\n",
       "6     NaN  WASHINGTON            2          NaN\n",
       "7   213.0     TREMONT           --            Y\n",
       "8   215.0     TREMONT           na            Y"
      ]
     },
     "execution_count": 94,
     "metadata": {},
     "output_type": "execute_result"
    }
   ],
   "source": [
    "# Are there any unexpected values in the OWN_OCCUPIED column? If so, replace them with NaN.\n",
    "mycsv"
   ]
  },
  {
   "cell_type": "code",
   "execution_count": 95,
   "id": "159add2b-09bb-44f3-85ec-f33baeeb77c6",
   "metadata": {},
   "outputs": [],
   "source": [
    "# Are there any unexpected values in the OWN_OCCUPIED column? If so, replace them with NaN.\n",
    "mycsv[\"OWN_OCCUPIED\"].replace('12', np.nan, inplace=True)\n",
    "mycsv[\"NUM_BEDROOMS\"].replace('--', np.nan, inplace=True)\n",
    "mycsv[\"NUM_BEDROOMS\"].replace('na', np.nan, inplace=True)\n",
    "\n",
    "# or\n",
    "# mycsv = pd.read_csv(\"data_missing.csv\", na_values=['12','--','na'])"
   ]
  },
  {
   "cell_type": "code",
   "execution_count": 96,
   "id": "a0debf42-a39b-478e-9d8d-abf7ad18da91",
   "metadata": {},
   "outputs": [
    {
     "data": {
      "text/html": [
       "<div>\n",
       "<style scoped>\n",
       "    .dataframe tbody tr th:only-of-type {\n",
       "        vertical-align: middle;\n",
       "    }\n",
       "\n",
       "    .dataframe tbody tr th {\n",
       "        vertical-align: top;\n",
       "    }\n",
       "\n",
       "    .dataframe thead th {\n",
       "        text-align: right;\n",
       "    }\n",
       "</style>\n",
       "<table border=\"1\" class=\"dataframe\">\n",
       "  <thead>\n",
       "    <tr style=\"text-align: right;\">\n",
       "      <th></th>\n",
       "      <th>ST_NUM</th>\n",
       "      <th>ST_NAME</th>\n",
       "      <th>NUM_BEDROOMS</th>\n",
       "      <th>OWN_OCCUPIED</th>\n",
       "    </tr>\n",
       "  </thead>\n",
       "  <tbody>\n",
       "    <tr>\n",
       "      <th>0</th>\n",
       "      <td>104.0</td>\n",
       "      <td>PUTNAM</td>\n",
       "      <td>3</td>\n",
       "      <td>Y</td>\n",
       "    </tr>\n",
       "    <tr>\n",
       "      <th>1</th>\n",
       "      <td>197.0</td>\n",
       "      <td>LEXINGTON</td>\n",
       "      <td>3</td>\n",
       "      <td>N</td>\n",
       "    </tr>\n",
       "    <tr>\n",
       "      <th>2</th>\n",
       "      <td>NaN</td>\n",
       "      <td>LEXINGTON</td>\n",
       "      <td>NaN</td>\n",
       "      <td>N</td>\n",
       "    </tr>\n",
       "    <tr>\n",
       "      <th>3</th>\n",
       "      <td>201.0</td>\n",
       "      <td>BERKELEY</td>\n",
       "      <td>1</td>\n",
       "      <td>NaN</td>\n",
       "    </tr>\n",
       "    <tr>\n",
       "      <th>4</th>\n",
       "      <td>203.0</td>\n",
       "      <td>BERKELEY</td>\n",
       "      <td>3</td>\n",
       "      <td>Y</td>\n",
       "    </tr>\n",
       "    <tr>\n",
       "      <th>5</th>\n",
       "      <td>207.0</td>\n",
       "      <td>BERKELEY</td>\n",
       "      <td>NaN</td>\n",
       "      <td>Y</td>\n",
       "    </tr>\n",
       "    <tr>\n",
       "      <th>6</th>\n",
       "      <td>NaN</td>\n",
       "      <td>WASHINGTON</td>\n",
       "      <td>2</td>\n",
       "      <td>NaN</td>\n",
       "    </tr>\n",
       "    <tr>\n",
       "      <th>7</th>\n",
       "      <td>213.0</td>\n",
       "      <td>TREMONT</td>\n",
       "      <td>NaN</td>\n",
       "      <td>Y</td>\n",
       "    </tr>\n",
       "    <tr>\n",
       "      <th>8</th>\n",
       "      <td>215.0</td>\n",
       "      <td>TREMONT</td>\n",
       "      <td>NaN</td>\n",
       "      <td>Y</td>\n",
       "    </tr>\n",
       "  </tbody>\n",
       "</table>\n",
       "</div>"
      ],
      "text/plain": [
       "   ST_NUM     ST_NAME NUM_BEDROOMS OWN_OCCUPIED\n",
       "0   104.0      PUTNAM            3            Y\n",
       "1   197.0   LEXINGTON            3            N\n",
       "2     NaN   LEXINGTON          NaN            N\n",
       "3   201.0    BERKELEY            1          NaN\n",
       "4   203.0    BERKELEY            3            Y\n",
       "5   207.0    BERKELEY          NaN            Y\n",
       "6     NaN  WASHINGTON            2          NaN\n",
       "7   213.0     TREMONT          NaN            Y\n",
       "8   215.0     TREMONT          NaN            Y"
      ]
     },
     "metadata": {},
     "output_type": "display_data"
    }
   ],
   "source": [
    "display(mycsv)"
   ]
  },
  {
   "cell_type": "code",
   "execution_count": 52,
   "id": "e875546d-cf6c-4fef-85e9-8f7e77c9e63e",
   "metadata": {},
   "outputs": [
    {
     "data": {
      "text/plain": [
       "ST_NUM           True\n",
       "ST_NAME         False\n",
       "NUM_BEDROOMS     True\n",
       "OWN_OCCUPIED     True\n",
       "dtype: bool"
      ]
     },
     "execution_count": 52,
     "metadata": {},
     "output_type": "execute_result"
    }
   ],
   "source": [
    "# Use Python code to show which columns have missing values.\n",
    "mycsv.isna().any()"
   ]
  },
  {
   "cell_type": "code",
   "execution_count": 53,
   "id": "746d89e7-c90c-4713-bc74-bf1445f371c3",
   "metadata": {},
   "outputs": [
    {
     "data": {
      "text/plain": [
       "ST_NUM          2\n",
       "ST_NAME         0\n",
       "NUM_BEDROOMS    4\n",
       "OWN_OCCUPIED    2\n",
       "dtype: int64"
      ]
     },
     "execution_count": 53,
     "metadata": {},
     "output_type": "execute_result"
    }
   ],
   "source": [
    "# Find the number of missing values in each column.\n",
    "mycsv.isna().sum()"
   ]
  },
  {
   "cell_type": "code",
   "execution_count": 58,
   "id": "b2247cd8-b725-4b55-a8b9-c6bc66765eb2",
   "metadata": {},
   "outputs": [
    {
     "data": {
      "text/html": [
       "<div>\n",
       "<style scoped>\n",
       "    .dataframe tbody tr th:only-of-type {\n",
       "        vertical-align: middle;\n",
       "    }\n",
       "\n",
       "    .dataframe tbody tr th {\n",
       "        vertical-align: top;\n",
       "    }\n",
       "\n",
       "    .dataframe thead th {\n",
       "        text-align: right;\n",
       "    }\n",
       "</style>\n",
       "<table border=\"1\" class=\"dataframe\">\n",
       "  <thead>\n",
       "    <tr style=\"text-align: right;\">\n",
       "      <th></th>\n",
       "      <th>ST_NUM</th>\n",
       "      <th>ST_NAME</th>\n",
       "      <th>NUM_BEDROOMS</th>\n",
       "      <th>OWN_OCCUPIED</th>\n",
       "    </tr>\n",
       "  </thead>\n",
       "  <tbody>\n",
       "    <tr>\n",
       "      <th>0</th>\n",
       "      <td>104.0</td>\n",
       "      <td>PUTNAM</td>\n",
       "      <td>3</td>\n",
       "      <td>Y</td>\n",
       "    </tr>\n",
       "    <tr>\n",
       "      <th>1</th>\n",
       "      <td>197.0</td>\n",
       "      <td>LEXINGTON</td>\n",
       "      <td>3</td>\n",
       "      <td>N</td>\n",
       "    </tr>\n",
       "    <tr>\n",
       "      <th>4</th>\n",
       "      <td>203.0</td>\n",
       "      <td>BERKELEY</td>\n",
       "      <td>3</td>\n",
       "      <td>Y</td>\n",
       "    </tr>\n",
       "  </tbody>\n",
       "</table>\n",
       "</div>"
      ],
      "text/plain": [
       "   ST_NUM    ST_NAME NUM_BEDROOMS OWN_OCCUPIED\n",
       "0   104.0     PUTNAM            3            Y\n",
       "1   197.0  LEXINGTON            3            N\n",
       "4   203.0   BERKELEY            3            Y"
      ]
     },
     "execution_count": 58,
     "metadata": {},
     "output_type": "execute_result"
    }
   ],
   "source": [
    "# Filter the dataset so we only see the rows with no missing values.\n",
    "\n",
    "mycsv[mycsv.notna().all(axis=1)] # where \"all\" returns all rows (axis=1) that does not contain missing values\n",
    "\n",
    "# another alternative\n",
    "# mycsv.dropna() # it does not alter the original dataframe, so it is ok to use it to see the rows with no missing values."
   ]
  },
  {
   "cell_type": "code",
   "execution_count": 59,
   "id": "3a09e748-8ffd-4141-be01-606dff513874",
   "metadata": {},
   "outputs": [
    {
     "data": {
      "text/html": [
       "<div>\n",
       "<style scoped>\n",
       "    .dataframe tbody tr th:only-of-type {\n",
       "        vertical-align: middle;\n",
       "    }\n",
       "\n",
       "    .dataframe tbody tr th {\n",
       "        vertical-align: top;\n",
       "    }\n",
       "\n",
       "    .dataframe thead th {\n",
       "        text-align: right;\n",
       "    }\n",
       "</style>\n",
       "<table border=\"1\" class=\"dataframe\">\n",
       "  <thead>\n",
       "    <tr style=\"text-align: right;\">\n",
       "      <th></th>\n",
       "      <th>ST_NUM</th>\n",
       "      <th>ST_NAME</th>\n",
       "      <th>NUM_BEDROOMS</th>\n",
       "      <th>OWN_OCCUPIED</th>\n",
       "    </tr>\n",
       "  </thead>\n",
       "  <tbody>\n",
       "    <tr>\n",
       "      <th>2</th>\n",
       "      <td>NaN</td>\n",
       "      <td>LEXINGTON</td>\n",
       "      <td>NaN</td>\n",
       "      <td>N</td>\n",
       "    </tr>\n",
       "    <tr>\n",
       "      <th>3</th>\n",
       "      <td>201.0</td>\n",
       "      <td>BERKELEY</td>\n",
       "      <td>1</td>\n",
       "      <td>NaN</td>\n",
       "    </tr>\n",
       "    <tr>\n",
       "      <th>5</th>\n",
       "      <td>207.0</td>\n",
       "      <td>BERKELEY</td>\n",
       "      <td>NaN</td>\n",
       "      <td>Y</td>\n",
       "    </tr>\n",
       "    <tr>\n",
       "      <th>6</th>\n",
       "      <td>NaN</td>\n",
       "      <td>WASHINGTON</td>\n",
       "      <td>2</td>\n",
       "      <td>NaN</td>\n",
       "    </tr>\n",
       "    <tr>\n",
       "      <th>7</th>\n",
       "      <td>213.0</td>\n",
       "      <td>TREMONT</td>\n",
       "      <td>NaN</td>\n",
       "      <td>Y</td>\n",
       "    </tr>\n",
       "    <tr>\n",
       "      <th>8</th>\n",
       "      <td>215.0</td>\n",
       "      <td>TREMONT</td>\n",
       "      <td>NaN</td>\n",
       "      <td>Y</td>\n",
       "    </tr>\n",
       "  </tbody>\n",
       "</table>\n",
       "</div>"
      ],
      "text/plain": [
       "   ST_NUM     ST_NAME NUM_BEDROOMS OWN_OCCUPIED\n",
       "2     NaN   LEXINGTON          NaN            N\n",
       "3   201.0    BERKELEY            1          NaN\n",
       "5   207.0    BERKELEY          NaN            Y\n",
       "6     NaN  WASHINGTON            2          NaN\n",
       "7   213.0     TREMONT          NaN            Y\n",
       "8   215.0     TREMONT          NaN            Y"
      ]
     },
     "execution_count": 59,
     "metadata": {},
     "output_type": "execute_result"
    }
   ],
   "source": [
    "# Filter the dataset so we only see the rows with two or less missing values.\n",
    "mycsv[mycsv.isna().any(axis=1)]"
   ]
  },
  {
   "cell_type": "code",
   "execution_count": 68,
   "id": "41a4803d-4383-423a-bd28-f4374ae7c9c1",
   "metadata": {},
   "outputs": [
    {
     "data": {
      "text/html": [
       "<div>\n",
       "<style scoped>\n",
       "    .dataframe tbody tr th:only-of-type {\n",
       "        vertical-align: middle;\n",
       "    }\n",
       "\n",
       "    .dataframe tbody tr th {\n",
       "        vertical-align: top;\n",
       "    }\n",
       "\n",
       "    .dataframe thead th {\n",
       "        text-align: right;\n",
       "    }\n",
       "</style>\n",
       "<table border=\"1\" class=\"dataframe\">\n",
       "  <thead>\n",
       "    <tr style=\"text-align: right;\">\n",
       "      <th></th>\n",
       "      <th>ST_NUM</th>\n",
       "      <th>ST_NAME</th>\n",
       "    </tr>\n",
       "  </thead>\n",
       "  <tbody>\n",
       "    <tr>\n",
       "      <th>3</th>\n",
       "      <td>201.0</td>\n",
       "      <td>BERKELEY</td>\n",
       "    </tr>\n",
       "    <tr>\n",
       "      <th>6</th>\n",
       "      <td>NaN</td>\n",
       "      <td>WASHINGTON</td>\n",
       "    </tr>\n",
       "  </tbody>\n",
       "</table>\n",
       "</div>"
      ],
      "text/plain": [
       "   ST_NUM     ST_NAME\n",
       "3   201.0    BERKELEY\n",
       "6     NaN  WASHINGTON"
      ]
     },
     "execution_count": 68,
     "metadata": {},
     "output_type": "execute_result"
    }
   ],
   "source": [
    "# Show the columns ST_NUM and ST_NAME for the rows with missing values in OWN_OCCUPIED.\n",
    "mycsv.loc[mycsv[\"OWN_OCCUPIED\"].isna(), [\"ST_NUM\", \"ST_NAME\"]]"
   ]
  },
  {
   "cell_type": "code",
   "execution_count": 78,
   "id": "7aeb84fb-9a88-44df-ae72-66e0852e3f71",
   "metadata": {},
   "outputs": [
    {
     "data": {
      "text/html": [
       "<div>\n",
       "<style scoped>\n",
       "    .dataframe tbody tr th:only-of-type {\n",
       "        vertical-align: middle;\n",
       "    }\n",
       "\n",
       "    .dataframe tbody tr th {\n",
       "        vertical-align: top;\n",
       "    }\n",
       "\n",
       "    .dataframe thead th {\n",
       "        text-align: right;\n",
       "    }\n",
       "</style>\n",
       "<table border=\"1\" class=\"dataframe\">\n",
       "  <thead>\n",
       "    <tr style=\"text-align: right;\">\n",
       "      <th></th>\n",
       "      <th>ST_NUM</th>\n",
       "      <th>ST_NAME</th>\n",
       "    </tr>\n",
       "  </thead>\n",
       "  <tbody>\n",
       "    <tr>\n",
       "      <th>0</th>\n",
       "      <td>104.0</td>\n",
       "      <td>PUTNAM</td>\n",
       "    </tr>\n",
       "    <tr>\n",
       "      <th>1</th>\n",
       "      <td>197.0</td>\n",
       "      <td>LEXINGTON</td>\n",
       "    </tr>\n",
       "    <tr>\n",
       "      <th>2</th>\n",
       "      <td>NaN</td>\n",
       "      <td>LEXINGTON</td>\n",
       "    </tr>\n",
       "    <tr>\n",
       "      <th>4</th>\n",
       "      <td>203.0</td>\n",
       "      <td>BERKELEY</td>\n",
       "    </tr>\n",
       "    <tr>\n",
       "      <th>5</th>\n",
       "      <td>207.0</td>\n",
       "      <td>BERKELEY</td>\n",
       "    </tr>\n",
       "    <tr>\n",
       "      <th>7</th>\n",
       "      <td>213.0</td>\n",
       "      <td>TREMONT</td>\n",
       "    </tr>\n",
       "    <tr>\n",
       "      <th>8</th>\n",
       "      <td>215.0</td>\n",
       "      <td>TREMONT</td>\n",
       "    </tr>\n",
       "  </tbody>\n",
       "</table>\n",
       "</div>"
      ],
      "text/plain": [
       "   ST_NUM    ST_NAME\n",
       "0   104.0     PUTNAM\n",
       "1   197.0  LEXINGTON\n",
       "2     NaN  LEXINGTON\n",
       "4   203.0   BERKELEY\n",
       "5   207.0   BERKELEY\n",
       "7   213.0    TREMONT\n",
       "8   215.0    TREMONT"
      ]
     },
     "execution_count": 78,
     "metadata": {},
     "output_type": "execute_result"
    }
   ],
   "source": [
    "# Show the columns ST_NUM and ST_NAME for the rows that do not have missing values in OWN_OCCUPIED.\n",
    "mycsv.loc[mycsv[\"OWN_OCCUPIED\"].notna(), [\"ST_NUM\", \"ST_NAME\"]]"
   ]
  },
  {
   "cell_type": "code",
   "execution_count": 87,
   "id": "249c601d-9de8-48f5-aea1-9d01f5021299",
   "metadata": {},
   "outputs": [
    {
     "data": {
      "text/html": [
       "<div>\n",
       "<style scoped>\n",
       "    .dataframe tbody tr th:only-of-type {\n",
       "        vertical-align: middle;\n",
       "    }\n",
       "\n",
       "    .dataframe tbody tr th {\n",
       "        vertical-align: top;\n",
       "    }\n",
       "\n",
       "    .dataframe thead th {\n",
       "        text-align: right;\n",
       "    }\n",
       "</style>\n",
       "<table border=\"1\" class=\"dataframe\">\n",
       "  <thead>\n",
       "    <tr style=\"text-align: right;\">\n",
       "      <th></th>\n",
       "      <th>NUM_BEDROOMS</th>\n",
       "    </tr>\n",
       "  </thead>\n",
       "  <tbody>\n",
       "    <tr>\n",
       "      <th>0</th>\n",
       "      <td>3</td>\n",
       "    </tr>\n",
       "    <tr>\n",
       "      <th>1</th>\n",
       "      <td>3</td>\n",
       "    </tr>\n",
       "    <tr>\n",
       "      <th>2</th>\n",
       "      <td>3</td>\n",
       "    </tr>\n",
       "    <tr>\n",
       "      <th>3</th>\n",
       "      <td>1</td>\n",
       "    </tr>\n",
       "    <tr>\n",
       "      <th>4</th>\n",
       "      <td>3</td>\n",
       "    </tr>\n",
       "    <tr>\n",
       "      <th>5</th>\n",
       "      <td>3</td>\n",
       "    </tr>\n",
       "    <tr>\n",
       "      <th>6</th>\n",
       "      <td>2</td>\n",
       "    </tr>\n",
       "    <tr>\n",
       "      <th>7</th>\n",
       "      <td>2</td>\n",
       "    </tr>\n",
       "    <tr>\n",
       "      <th>8</th>\n",
       "      <td>2</td>\n",
       "    </tr>\n",
       "  </tbody>\n",
       "</table>\n",
       "</div>"
      ],
      "text/plain": [
       "  NUM_BEDROOMS\n",
       "0            3\n",
       "1            3\n",
       "2            3\n",
       "3            1\n",
       "4            3\n",
       "5            3\n",
       "6            2\n",
       "7            2\n",
       "8            2"
      ]
     },
     "execution_count": 87,
     "metadata": {},
     "output_type": "execute_result"
    }
   ],
   "source": [
    "# Fill in the missing values of NUM_BEDROOMS with the previous value in the column.\n",
    "mycsv[['NUM_BEDROOMS']].fillna(method='ffill', axis=0)"
   ]
  },
  {
   "cell_type": "code",
   "execution_count": 109,
   "id": "6ef494e7-3419-4b62-922e-99e26d8fbec4",
   "metadata": {},
   "outputs": [
    {
     "data": {
      "text/html": [
       "<div>\n",
       "<style scoped>\n",
       "    .dataframe tbody tr th:only-of-type {\n",
       "        vertical-align: middle;\n",
       "    }\n",
       "\n",
       "    .dataframe tbody tr th {\n",
       "        vertical-align: top;\n",
       "    }\n",
       "\n",
       "    .dataframe thead th {\n",
       "        text-align: right;\n",
       "    }\n",
       "</style>\n",
       "<table border=\"1\" class=\"dataframe\">\n",
       "  <thead>\n",
       "    <tr style=\"text-align: right;\">\n",
       "      <th></th>\n",
       "      <th>ST_NUM</th>\n",
       "      <th>ST_NAME</th>\n",
       "      <th>NUM_BEDROOMS</th>\n",
       "      <th>OWN_OCCUPIED</th>\n",
       "    </tr>\n",
       "  </thead>\n",
       "  <tbody>\n",
       "    <tr>\n",
       "      <th>0</th>\n",
       "      <td>104.0</td>\n",
       "      <td>PUTNAM</td>\n",
       "      <td>3</td>\n",
       "      <td>Y</td>\n",
       "    </tr>\n",
       "    <tr>\n",
       "      <th>1</th>\n",
       "      <td>197.0</td>\n",
       "      <td>LEXINGTON</td>\n",
       "      <td>3</td>\n",
       "      <td>N</td>\n",
       "    </tr>\n",
       "    <tr>\n",
       "      <th>2</th>\n",
       "      <td>NaN</td>\n",
       "      <td>LEXINGTON</td>\n",
       "      <td>3.0</td>\n",
       "      <td>N</td>\n",
       "    </tr>\n",
       "    <tr>\n",
       "      <th>3</th>\n",
       "      <td>201.0</td>\n",
       "      <td>BERKELEY</td>\n",
       "      <td>1</td>\n",
       "      <td>NaN</td>\n",
       "    </tr>\n",
       "    <tr>\n",
       "      <th>4</th>\n",
       "      <td>203.0</td>\n",
       "      <td>BERKELEY</td>\n",
       "      <td>3</td>\n",
       "      <td>Y</td>\n",
       "    </tr>\n",
       "    <tr>\n",
       "      <th>5</th>\n",
       "      <td>207.0</td>\n",
       "      <td>BERKELEY</td>\n",
       "      <td>3.0</td>\n",
       "      <td>Y</td>\n",
       "    </tr>\n",
       "    <tr>\n",
       "      <th>6</th>\n",
       "      <td>NaN</td>\n",
       "      <td>WASHINGTON</td>\n",
       "      <td>2</td>\n",
       "      <td>NaN</td>\n",
       "    </tr>\n",
       "    <tr>\n",
       "      <th>7</th>\n",
       "      <td>213.0</td>\n",
       "      <td>TREMONT</td>\n",
       "      <td>3.0</td>\n",
       "      <td>Y</td>\n",
       "    </tr>\n",
       "    <tr>\n",
       "      <th>8</th>\n",
       "      <td>215.0</td>\n",
       "      <td>TREMONT</td>\n",
       "      <td>3.0</td>\n",
       "      <td>Y</td>\n",
       "    </tr>\n",
       "  </tbody>\n",
       "</table>\n",
       "</div>"
      ],
      "text/plain": [
       "   ST_NUM     ST_NAME NUM_BEDROOMS OWN_OCCUPIED\n",
       "0   104.0      PUTNAM            3            Y\n",
       "1   197.0   LEXINGTON            3            N\n",
       "2     NaN   LEXINGTON          3.0            N\n",
       "3   201.0    BERKELEY            1          NaN\n",
       "4   203.0    BERKELEY            3            Y\n",
       "5   207.0    BERKELEY          3.0            Y\n",
       "6     NaN  WASHINGTON            2          NaN\n",
       "7   213.0     TREMONT          3.0            Y\n",
       "8   215.0     TREMONT          3.0            Y"
      ]
     },
     "metadata": {},
     "output_type": "display_data"
    }
   ],
   "source": [
    "# Fill in the missing values of NUM_BEDROOMS with the median value of the column. Store this as the new dataset.\n",
    "num_bed_median = mycsv['NUM_BEDROOMS'].median()\n",
    "mycsv['NUM_BEDROOMS'] = mycsv.loc[:,['NUM_BEDROOMS']].fillna(num_bed_median)\n",
    "display(mycsv)"
   ]
  },
  {
   "cell_type": "code",
   "execution_count": 119,
   "id": "7f208008-7a5c-4338-a5a8-3ab949c701ae",
   "metadata": {},
   "outputs": [
    {
     "data": {
      "text/plain": [
       "ST_NUM          float64\n",
       "ST_NAME          object\n",
       "NUM_BEDROOMS     object\n",
       "OWN_OCCUPIED     object\n",
       "dtype: object"
      ]
     },
     "execution_count": 119,
     "metadata": {},
     "output_type": "execute_result"
    }
   ],
   "source": [
    "# Extra\n",
    "# If you inspect the data type of NUM_BEDROOMS, you will see it as \"object\"\n",
    "mycsv.dtypes"
   ]
  },
  {
   "cell_type": "code",
   "execution_count": 131,
   "id": "b77e8cc9-9914-40d5-8fad-6c8ed7e5ff1a",
   "metadata": {},
   "outputs": [],
   "source": [
    "# to change the data type, use astype(int) to convert object to int type\n",
    "mycsv.NUM_BEDROOMS = mycsv.NUM_BEDROOMS.astype(int)"
   ]
  },
  {
   "cell_type": "code",
   "execution_count": 129,
   "id": "504991b1-9439-45ff-bac5-31431e8d9929",
   "metadata": {},
   "outputs": [
    {
     "data": {
      "text/plain": [
       "ST_NUM          float64\n",
       "ST_NAME          object\n",
       "NUM_BEDROOMS      int32\n",
       "OWN_OCCUPIED     object\n",
       "dtype: object"
      ]
     },
     "execution_count": 129,
     "metadata": {},
     "output_type": "execute_result"
    }
   ],
   "source": [
    "mycsv.dtypes"
   ]
  }
 ],
 "metadata": {
  "kernelspec": {
   "display_name": "Python 3 (ipykernel)",
   "language": "python",
   "name": "python3"
  },
  "language_info": {
   "codemirror_mode": {
    "name": "ipython",
    "version": 3
   },
   "file_extension": ".py",
   "mimetype": "text/x-python",
   "name": "python",
   "nbconvert_exporter": "python",
   "pygments_lexer": "ipython3",
   "version": "3.11.5"
  }
 },
 "nbformat": 4,
 "nbformat_minor": 5
}
